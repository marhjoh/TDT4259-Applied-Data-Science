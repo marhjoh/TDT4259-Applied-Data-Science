{
 "cells": [
  {
   "metadata": {
    "ExecuteTime": {
     "end_time": "2024-10-30T05:58:32.414282Z",
     "start_time": "2024-10-30T05:58:29.494792Z"
    }
   },
   "cell_type": "code",
   "source": [
    "import pandas as pd\n",
    "import numpy as np\n",
    "from sklearn.model_selection import train_test_split\n",
    "from datetime import datetime\n",
    "from math import radians, sin, cos, sqrt, atan2\n",
    "\n",
    "def save_processed_data(df, filename='final_processed_listings_data.csv'):\n",
    "    \"\"\"\n",
    "    Save the processed DataFrame to CSV with proper index handling.\n",
    "    \n",
    "    Parameters:\n",
    "    df (pd.DataFrame): DataFrame to save\n",
    "    filename (str): Output filename\n",
    "    \"\"\"\n",
    "    df.to_csv(filename, index=False)"
   ],
   "id": "d641d7f2b13fe94b",
   "outputs": [],
   "execution_count": 2
  },
  {
   "metadata": {},
   "cell_type": "markdown",
   "source": "# Prepare dataset",
   "id": "71d2f9a962875516"
  },
  {
   "metadata": {},
   "cell_type": "markdown",
   "source": "### Filter price data",
   "id": "de39e811bad16640"
  },
  {
   "metadata": {
    "ExecuteTime": {
     "end_time": "2024-10-30T05:59:21.009880Z",
     "start_time": "2024-10-30T05:58:36.693236Z"
    }
   },
   "cell_type": "code",
   "source": [
    "def calculate_average_prices(file_path, start_date=None, end_date=None):\n",
    "    \"\"\"\n",
    "    Calculate average prices per listing_id with optional date filtering.\n",
    "    \n",
    "    Parameters:\n",
    "    file_path (str): Path to the CSV file\n",
    "    start_date (str): Optional start date in 'YYYY-MM-DD' format\n",
    "    end_date (str): Optional end date in 'YYYY-MM-DD' format\n",
    "    \n",
    "    Returns:\n",
    "    DataFrame with average prices per listing_id\n",
    "    \"\"\"\n",
    "    # Read the CSV file\n",
    "    df = pd.read_csv(file_path)\n",
    "    \n",
    "    # Convert price column from string to float\n",
    "    df['price'] = df['price'].str.replace('$', '').str.replace(',', '').astype(float)\n",
    "    \n",
    "    # Convert date column to datetime\n",
    "    df['date'] = pd.to_datetime(df['date'])\n",
    "    \n",
    "    # Apply date filters if provided\n",
    "    if start_date:\n",
    "        start_date = pd.to_datetime(start_date)\n",
    "        df = df[df['date'] >= start_date]\n",
    "    \n",
    "    if end_date:\n",
    "        end_date = pd.to_datetime(end_date)\n",
    "        df = df[df['date'] <= end_date]\n",
    "    \n",
    "    # Calculate average price per listing_id\n",
    "    avg_prices = df.groupby('listing_id')['price'].agg([\n",
    "        'mean',\n",
    "        'count',\n",
    "        'min',\n",
    "        'max',\n",
    "        'std'\n",
    "    ]).round(2)\n",
    "    \n",
    "    # Rename columns for clarity\n",
    "    avg_prices.columns = ['avg_price', 'number_of_listings', 'min_price', 'max_price', 'price_std']\n",
    "    \n",
    "    # Generate output filename based on date range\n",
    "    if start_date and end_date:\n",
    "        filename = f'avg_prices_{start_date.strftime(\"%Y%m%d\")}_to_{end_date.strftime(\"%Y%m%d\")}.csv'\n",
    "    elif start_date:\n",
    "        filename = f'avg_prices_from_{start_date.strftime(\"%Y%m%d\")}.csv'\n",
    "    elif end_date:\n",
    "        filename = f'avg_prices_to_{end_date.strftime(\"%Y%m%d\")}.csv'\n",
    "    else:\n",
    "        filename = 'avg_prices_all_dates.csv'\n",
    "    \n",
    "    # Save to CSV\n",
    "    avg_prices.to_csv(filename)\n",
    "    \n",
    "    return avg_prices\n",
    "\n",
    "file_path = \"raw_data/merged/calendar_filtered.csv\"\n",
    "\n",
    "# Example with date filtering\n",
    "result = calculate_average_prices(\n",
    "    file_path,\n",
    "    start_date=\"2024-07-26\",\n",
    "    end_date=\"2024-08-11\"\n",
    ")\n",
    "\n",
    "print(\"\\nAnalysis complete! Summary of results:\")\n",
    "print(f\"Total unique listings analyzed: {len(result)}\")\n",
    "print(f\"Overall average price: ${result['avg_price'].mean():.2f}\")\n",
    "print(f\"Price range: ${result['min_price'].min():.2f} - ${result['max_price'].max():.2f}\")"
   ],
   "id": "55d282d76064940c",
   "outputs": [
    {
     "name": "stderr",
     "output_type": "stream",
     "text": [
      "C:\\Users\\sjokk\\AppData\\Local\\Temp\\ipykernel_11588\\2485397495.py:14: DtypeWarning: Columns (4) have mixed types. Specify dtype option on import or set low_memory=False.\n",
      "  df = pd.read_csv(file_path)\n"
     ]
    },
    {
     "name": "stdout",
     "output_type": "stream",
     "text": [
      "\n",
      "Analysis complete! Summary of results:\n",
      "Total unique listings analyzed: 109557\n",
      "Overall average price: $307.08\n",
      "Price range: $0.00 - $901684.00\n"
     ]
    }
   ],
   "execution_count": 3
  },
  {
   "metadata": {},
   "cell_type": "markdown",
   "source": "",
   "id": "77ac7aa2dbc4cc3a"
  },
  {
   "metadata": {},
   "cell_type": "markdown",
   "source": [
    "# Merge data into a single dataset\n",
    "> Pre-processed listings detailed, average price for a given period, distance to venue, distance to station and city centre"
   ],
   "id": "b946c1ba15ba0367"
  },
  {
   "metadata": {
    "ExecuteTime": {
     "end_time": "2024-10-30T06:43:51.856681Z",
     "start_time": "2024-10-30T06:43:19.223406Z"
    }
   },
   "cell_type": "code",
   "source": [
    "def remove_price_outliers(df, price_column='price', method='iqr', threshold=3):\n",
    "    \"\"\"\n",
    "    Remove price outliers using either IQR method or standard deviation method.\n",
    "    \n",
    "    Parameters:\n",
    "    df (pd.DataFrame): Input DataFrame\n",
    "    price_column (str): Name of the price column\n",
    "    method (str): 'iqr' for Interquartile Range or 'std' for Standard Deviation\n",
    "    threshold (float): Multiplier for IQR or standard deviations\n",
    "    \n",
    "    Returns:\n",
    "    pd.DataFrame: DataFrame with outliers removed\n",
    "    \"\"\"\n",
    "    if method.lower() == 'iqr':\n",
    "        Q1 = df[price_column].quantile(0.25)\n",
    "        Q3 = df[price_column].quantile(0.75)\n",
    "        IQR = Q3 - Q1\n",
    "        lower_bound = Q1 - threshold * IQR\n",
    "        upper_bound = Q3 + threshold * IQR\n",
    "    else:  # std method\n",
    "        mean = df[price_column].mean()\n",
    "        std = df[price_column].std()\n",
    "        lower_bound = mean - threshold * std\n",
    "        upper_bound = mean + threshold * std\n",
    "    \n",
    "    # Create mask for prices within bounds and greater than 0\n",
    "    price_mask = (df[price_column] >= lower_bound) & \\\n",
    "                 (df[price_column] <= upper_bound) & \\\n",
    "                 (df[price_column] > 0)\n",
    "    \n",
    "    cleaned_df = df[price_mask].copy()\n",
    "    \n",
    "    # Calculate what percentage of data was removed\n",
    "    removed_percentage = (1 - len(cleaned_df) / len(df)) * 100\n",
    "    \n",
    "    print(f\"\\nOutlier Removal Summary:\")\n",
    "    print(f\"Method used: {method.upper()}\")\n",
    "    print(f\"Lower bound: ${lower_bound:.2f}\")\n",
    "    print(f\"Upper bound: ${upper_bound:.2f}\")\n",
    "    print(f\"Removed {removed_percentage:.1f}% of listings\")\n",
    "    print(f\"Remaining listings: {len(cleaned_df)}\")\n",
    "    \n",
    "    return cleaned_df\n",
    "\n",
    "def calculate_average_prices(file_path, start_date=None, end_date=None, \n",
    "                           outlier_method='iqr', outlier_threshold=3):\n",
    "    \"\"\"\n",
    "    Calculate average prices per listing_id with outlier removal and date range tracking.\n",
    "    \n",
    "    Parameters:\n",
    "    file_path (str): Path to the CSV file\n",
    "    start_date (str): Optional start date in 'YYYY-MM-DD' format\n",
    "    end_date (str): Optional end date in 'YYYY-MM-DD' format\n",
    "    outlier_method (str): Method for removing outliers ('iqr' or 'std')\n",
    "    outlier_threshold (float): Threshold for outlier removal\n",
    "    \n",
    "    Returns:\n",
    "    DataFrame with average prices and date range information per listing_id\n",
    "    \"\"\"\n",
    "    # Read the CSV file\n",
    "    df = pd.read_csv(file_path)\n",
    "    \n",
    "    # Convert price column from string to float\n",
    "    df['price'] = df['price'].str.replace('$', '').str.replace(',', '').astype(float)\n",
    "\n",
    "    # Convert date column to datetime\n",
    "    df['date'] = pd.to_datetime(df['date'])\n",
    "\n",
    "    # Apply date filters if provided\n",
    "    if start_date:\n",
    "        start_date = pd.to_datetime(start_date)\n",
    "        df = df[df['date'] >= start_date]\n",
    "    \n",
    "    if end_date:\n",
    "        end_date = pd.to_datetime(end_date)\n",
    "        df = df[df['date'] <= end_date]\n",
    "    \n",
    "    # Remove outliers\n",
    "    df_cleaned = remove_price_outliers(df, 'price', outlier_method, outlier_threshold)\n",
    "    \n",
    "    # Calculate statistics per listing_id\n",
    "    price_stats = df_cleaned.groupby('listing_id').agg({\n",
    "        'price': ['mean', 'count', 'min', 'max', 'std'],\n",
    "        'date': ['min', 'max']  # Add date range information\n",
    "    })\n",
    "    \n",
    "    # Flatten column names\n",
    "    price_stats.columns = [\n",
    "        'avg_price', 'number_of_listings', 'min_price', \n",
    "        'max_price', 'price_std', 'price_period_start', 'price_period_end'\n",
    "    ]\n",
    "    \n",
    "    # Round numerical columns\n",
    "    numeric_columns = ['avg_price', 'min_price', 'max_price', 'price_std']\n",
    "    price_stats[numeric_columns] = price_stats[numeric_columns].round(2)\n",
    "    \n",
    "    # Generate output filename\n",
    "    date_part = ''\n",
    "    if start_date and end_date:\n",
    "        date_part = f'_{start_date.strftime(\"%Y%m%d\")}_to_{end_date.strftime(\"%Y%m%d\")}'\n",
    "    elif start_date:\n",
    "        date_part = f'_from_{start_date.strftime(\"%Y%m%d\")}'\n",
    "    elif end_date:\n",
    "        date_part = f'_to_{end_date.strftime(\"%Y%m%d\")}'\n",
    "    \n",
    "    filename = f'avg_prices{date_part}_clean_{outlier_method}.csv'\n",
    "    \n",
    "    # Save to CSV\n",
    "    price_stats.to_csv(filename)\n",
    "    \n",
    "    print(\"\\nFinal Analysis Summary:\")\n",
    "    print(f\"Total unique listings analyzed: {len(price_stats)}\")\n",
    "    print(f\"Overall average price: ${price_stats['avg_price'].mean():.2f}\")\n",
    "    print(f\"Price range: ${price_stats['min_price'].min():.2f} - ${price_stats['max_price'].max():.2f}\")\n",
    "    print(f\"Date range: {price_stats['price_period_start'].min():%Y-%m-%d} to {price_stats['price_period_end'].max():%Y-%m-%d}\")\n",
    "    \n",
    "    return price_stats\n",
    "\n",
    "def append_average_prices(main_file, price_data, remove_missing_prices=True):\n",
    "    \"\"\"\n",
    "    Append average prices and date range information to the main dataset.\n",
    "    \n",
    "    Parameters:\n",
    "    main_file (str): Path to the main CSV file\n",
    "    price_data (pd.DataFrame): DataFrame containing average prices per listing\n",
    "    remove_missing_prices (bool): If True, remove entries without price data\n",
    "    \n",
    "    Returns:\n",
    "    pd.DataFrame: Updated main dataset\n",
    "    \"\"\"\n",
    "    # Read main dataset\n",
    "    main_df = pd.read_csv(main_file)\n",
    "    initial_count = len(main_df)\n",
    "    \n",
    "    # Ensure price_data index is named correctly\n",
    "    price_data = price_data.reset_index().rename(columns={'listing_id': 'id'})\n",
    "    \n",
    "    # Select columns to merge\n",
    "    columns_to_merge = [\n",
    "        'id', 'avg_price', 'price_period_start', 'price_period_end',\n",
    "        'number_of_listings', 'price_std'\n",
    "    ]\n",
    "    \n",
    "    # Merge price data\n",
    "    if remove_missing_prices:\n",
    "        # Inner join to keep only listings with price data\n",
    "        result = main_df.merge(\n",
    "            price_data[columns_to_merge],\n",
    "            on='id',\n",
    "            how='inner'\n",
    "        )\n",
    "    else:\n",
    "        # Left join to keep all listings\n",
    "        result = main_df.merge(\n",
    "            price_data[columns_to_merge],\n",
    "            on='id',\n",
    "            how='left'\n",
    "        )\n",
    "    \n",
    "    # Convert date columns to datetime for better formatting\n",
    "    result['price_period_start'] = pd.to_datetime(result['price_period_start'])\n",
    "    result['price_period_end'] = pd.to_datetime(result['price_period_end'])\n",
    "    \n",
    "    # Print merge summary\n",
    "    final_count = len(result)\n",
    "    removed_count = initial_count - final_count\n",
    "    \n",
    "    print(\"\\nMerge Summary:\")\n",
    "    print(f\"Initial number of listings: {initial_count}\")\n",
    "    print(f\"Final number of listings: {final_count}\")\n",
    "    print(f\"Listings removed: {removed_count} ({(removed_count/initial_count)*100:.1f}%)\")\n",
    "    print(\"\\nDate Range Summary:\")\n",
    "    print(f\"Earliest price data: {result['price_period_start'].min():%Y-%m-%d}\")\n",
    "    print(f\"Latest price data: {result['price_period_end'].max():%Y-%m-%d}\")\n",
    "    \n",
    "    return result\n",
    "\n",
    "# Calculate average prices with date range information\n",
    "price_results = calculate_average_prices(\n",
    "    'raw_data/merged/calendar_filtered.csv',\n",
    "    start_date='2024-07-26',\n",
    "    end_date='2024-08-11',\n",
    "    outlier_method='iqr',\n",
    "    outlier_threshold=10\n",
    ")\n",
    "\n",
    "# Merge with main dataset, including date range information\n",
    "main_df = append_average_prices(\n",
    "    'cleaned_data/prepared/final_processed_listings_data.csv',\n",
    "    price_results,\n",
    "    remove_missing_prices=True\n",
    ")\n",
    "\n",
    "# Save the updated dataset\n",
    "main_df.to_csv('cleaned_data/machine_learning/ml_final_processed_listings_data.csv', index=False)"
   ],
   "id": "c3ce7f412da24043",
   "outputs": [
    {
     "name": "stderr",
     "output_type": "stream",
     "text": [
      "C:\\Users\\sjokk\\AppData\\Local\\Temp\\ipykernel_11588\\3125548327.py:61: DtypeWarning: Columns (4) have mixed types. Specify dtype option on import or set low_memory=False.\n",
      "  df = pd.read_csv(file_path)\n"
     ]
    },
    {
     "name": "stdout",
     "output_type": "stream",
     "text": [
      "\n",
      "Outlier Removal Summary:\n",
      "Method used: IQR\n",
      "Lower bound: $-1510.00\n",
      "Upper bound: $1850.00\n",
      "Removed 1.5% of listings\n",
      "Remaining listings: 4264859\n",
      "\n",
      "Final Analysis Summary:\n",
      "Total unique listings analyzed: 107937\n",
      "Overall average price: $227.19\n",
      "Price range: $1.00 - $1850.00\n",
      "Date range: 2024-07-26 to 2024-08-11\n",
      "\n",
      "Merge Summary:\n",
      "Initial number of listings: 118804\n",
      "Final number of listings: 107937\n",
      "Listings removed: 10867 (9.1%)\n",
      "\n",
      "Date Range Summary:\n",
      "Earliest price data: 2024-07-26\n",
      "Latest price data: 2024-08-11\n"
     ]
    }
   ],
   "execution_count": 9
  },
  {
   "metadata": {},
   "cell_type": "markdown",
   "source": "",
   "id": "d66d0c8be8bd4a2b"
  },
  {
   "metadata": {
    "ExecuteTime": {
     "end_time": "2024-10-30T07:00:52.518604Z",
     "start_time": "2024-10-30T07:00:47.010698Z"
    }
   },
   "cell_type": "code",
   "source": [
    "def append_distance_data(main_df, file_configs):\n",
    "    \"\"\"\n",
    "    Append specified distance columns from multiple datasets.\n",
    "    \n",
    "    Parameters:\n",
    "    main_df (pd.DataFrame): Main DataFrame\n",
    "    file_configs (list): List of dictionaries containing:\n",
    "        - 'file_path': Path to the data CSV\n",
    "        - 'columns': List of column names to append\n",
    "        \n",
    "    Returns:\n",
    "    pd.DataFrame: Updated main dataset\n",
    "    \"\"\"\n",
    "    result = main_df.copy()\n",
    "    initial_count = len(result)\n",
    "    \n",
    "    print(\"\\nStarting Distance Data Append Process:\")\n",
    "    print(f\"Initial number of rows: {initial_count}\")\n",
    "    \n",
    "    successfully_added_columns = []  # Track which columns were actually added\n",
    "    \n",
    "    for config in file_configs:\n",
    "        file_path = config['file_path']\n",
    "        columns = config['columns']\n",
    "        \n",
    "        print(f\"\\nProcessing file: {file_path}\")\n",
    "        print(f\"Attempting to append columns: {columns}\")\n",
    "        \n",
    "        try:\n",
    "            # Read dataset\n",
    "            distance_df = pd.read_csv(file_path)\n",
    "            \n",
    "            # Identify ID column\n",
    "            id_col = 'id' if 'id' in distance_df.columns else 'listing_id'\n",
    "            \n",
    "            # Verify columns exist in source file\n",
    "            available_columns = [col for col in columns if col in distance_df.columns]\n",
    "            missing_columns = [col for col in columns if col not in distance_df.columns]\n",
    "            \n",
    "            if not available_columns:\n",
    "                print(f\"Error: None of the requested columns found in {file_path}\")\n",
    "                print(f\"Available columns: {distance_df.columns.tolist()}\")\n",
    "                continue\n",
    "                \n",
    "            if missing_columns:\n",
    "                print(f\"Warning: Columns not found in file: {missing_columns}\")\n",
    "            \n",
    "            columns_to_use = [id_col] + available_columns\n",
    "            \n",
    "            # Check for duplicates in source data\n",
    "            duplicates = distance_df[id_col].duplicated().sum()\n",
    "            if duplicates > 0:\n",
    "                print(f\"Warning: Found {duplicates} duplicate IDs in source file\")\n",
    "            \n",
    "            # Merge specified columns\n",
    "            print(f\"Rows before merge: {len(result)}\")\n",
    "            \n",
    "            result = result.merge(\n",
    "                distance_df[columns_to_use],\n",
    "                left_on='id',\n",
    "                right_on=id_col,\n",
    "                how='left'\n",
    "            )\n",
    "            \n",
    "            # Clean up if ID column names were different\n",
    "            if id_col != 'id' and f\"{id_col}_y\" in result.columns:\n",
    "                result = result.drop(columns=[f\"{id_col}_y\"])\n",
    "            \n",
    "            print(f\"Rows after merge: {len(result)}\")\n",
    "            \n",
    "            # Track successfully added columns\n",
    "            successfully_added_columns.extend(available_columns)\n",
    "            \n",
    "            # Report on null values for successfully added columns\n",
    "            for col in available_columns:\n",
    "                null_count = result[col].isnull().sum()\n",
    "                if null_count > 0:\n",
    "                    print(f\"{col}: {null_count} nulls ({(null_count/len(result))*100:.1f}%)\")\n",
    "                    \n",
    "        except Exception as e:\n",
    "            print(f\"Error processing file {file_path}: {str(e)}\")\n",
    "            continue\n",
    "    \n",
    "    # Final summary\n",
    "    print(\"\\nFinal Merge Summary:\")\n",
    "    print(f\"Initial rows: {initial_count}\")\n",
    "    print(f\"Final rows: {len(result)}\")\n",
    "    \n",
    "    if successfully_added_columns:\n",
    "        print(\"\\nColumns successfully added:\")\n",
    "        for col in successfully_added_columns:\n",
    "            non_null = result[col].notna().sum()\n",
    "            print(f\"{col}: {non_null} non-null values ({(non_null/len(result))*100:.1f}% coverage)\")\n",
    "    else:\n",
    "        print(\"\\nNo columns were successfully added\")\n",
    "    \n",
    "    return result\n",
    "\n",
    "# Usage example:\n",
    "file_configs = [\n",
    "    {\n",
    "        'file_path': 'cleaned_data/summary_cleaned_airbnb_data.csv',\n",
    "        'columns': ['closest_venue', 'distance_to_closest_venue']\n",
    "    },\n",
    "    {\n",
    "        'file_path': 'paris_2024_data/airbnb_closest_stations.csv',\n",
    "        'columns': ['distance_to_closest_station_km']\n",
    "    }\n",
    "]\n",
    "\n",
    "# Read main dataset\n",
    "main_df = pd.read_csv('cleaned_data/machine_learning/ml_final_processed_listings_data.csv')\n",
    "\n",
    "# Append all distance data\n",
    "result_df = append_distance_data(main_df, file_configs)\n",
    "\n",
    "# Save the result\n",
    "result_df.to_csv('cleaned_data/machine_learning/ml_final_processed_listings_data.csv', index=False)\n",
    "print(\"\\nFile saved successfully!\")"
   ],
   "id": "4dace6d0907dc8ca",
   "outputs": [
    {
     "name": "stdout",
     "output_type": "stream",
     "text": [
      "\n",
      "Starting Distance Data Append Process:\n",
      "Initial number of rows: 107937\n",
      "\n",
      "Processing file: cleaned_data/summary_cleaned_airbnb_data.csv\n",
      "Attempting to append columns: ['closest_venue', 'distance_to_closest_venue']\n",
      "Rows before merge: 107937\n",
      "Rows after merge: 107937\n",
      "\n",
      "Processing file: paris_2024_data/airbnb_closest_stations.csv\n",
      "Attempting to append columns: ['distance_to_closest_station_km']\n",
      "Rows before merge: 107937\n",
      "Rows after merge: 107937\n",
      "\n",
      "Final Merge Summary:\n",
      "Initial rows: 107937\n",
      "Final rows: 107937\n",
      "\n",
      "Columns successfully added:\n",
      "closest_venue: 107937 non-null values (100.0% coverage)\n",
      "distance_to_closest_venue: 107937 non-null values (100.0% coverage)\n",
      "distance_to_closest_station_km: 107937 non-null values (100.0% coverage)\n",
      "\n",
      "File saved successfully!\n"
     ]
    }
   ],
   "execution_count": 15
  },
  {
   "metadata": {},
   "cell_type": "markdown",
   "source": "## Calculate city centre distance, and append",
   "id": "422743006dc1cd21"
  },
  {
   "metadata": {
    "ExecuteTime": {
     "end_time": "2024-10-30T07:04:31.857475Z",
     "start_time": "2024-10-30T07:04:24.263304Z"
    }
   },
   "cell_type": "code",
   "source": [
    "def calculate_distance_to_city_centre(df, city_center_coords):\n",
    "    \"\"\"\n",
    "    Calculate distance from each listing to city centre using Haversine formula.\n",
    "    \n",
    "    Parameters:\n",
    "    df (pd.DataFrame): DataFrame containing latitude and longitude columns\n",
    "    city_center_coords (tuple): (latitude, longitude) of city centre\n",
    "    \n",
    "    Returns:\n",
    "    pd.Series: Distances in kilometers\n",
    "    \"\"\"\n",
    "    def haversine_distance(lat1, lon1, lat2, lon2):\n",
    "        R = 6371  # Earth's radius in kilometers\n",
    "        \n",
    "        lat1, lon1, lat2, lon2 = map(radians, [lat1, lon1, lat2, lon2])\n",
    "        \n",
    "        dlat = lat2 - lat1\n",
    "        dlon = lon2 - lon1\n",
    "        \n",
    "        a = sin(dlat/2)**2 + cos(lat1) * cos(lat2) * sin(dlon/2)**2\n",
    "        c = 2 * atan2(sqrt(a), sqrt(1-a))\n",
    "        \n",
    "        return R * c\n",
    "    \n",
    "    distances = df.apply(\n",
    "        lambda row: haversine_distance(\n",
    "            row['latitude'],\n",
    "            row['longitude'],\n",
    "            city_center_coords[0],\n",
    "            city_center_coords[1]\n",
    "        ),\n",
    "        axis=1\n",
    "    )\n",
    "    \n",
    "    return distances\n",
    "\n",
    "# Define file path\n",
    "file_path = 'cleaned_data/machine_learning/ml_final_processed_listings_data.csv'\n",
    "\n",
    "# Read the data\n",
    "print(\"Reading data...\")\n",
    "main_df = pd.read_csv(file_path)\n",
    "\n",
    "# Define Paris city center coordinates\n",
    "CITY_CENTER_COORDS = (48.864716, 2.349014)  # Paris\n",
    "\n",
    "# Calculate distances\n",
    "print(\"Calculating distances to city centre...\")\n",
    "main_df['distance_to_city_centre'] = calculate_distance_to_city_centre(\n",
    "    main_df, \n",
    "    CITY_CENTER_COORDS\n",
    ")\n",
    "\n",
    "# Print summary statistics\n",
    "print(\"\\nDistance Summary Statistics:\")\n",
    "print(f\"Average distance to city centre: {main_df['distance_to_city_centre'].mean():.2f} km\")\n",
    "print(f\"Minimum distance: {main_df['distance_to_city_centre'].min():.2f} km\")\n",
    "print(f\"Maximum distance: {main_df['distance_to_city_centre'].max():.2f} km\")\n",
    "\n",
    "# Save the updated dataset\n",
    "print(\"\\nSaving updated dataset...\")\n",
    "main_df.to_csv(file_path, index=False)\n",
    "print(f\"Data saved successfully to {file_path}\")\n",
    "\n",
    "# Verify the save\n",
    "print(\"\\nVerifying save...\")\n",
    "verify_df = pd.read_csv(file_path)\n",
    "if 'distance_to_city_centre' in verify_df.columns:\n",
    "    print(\"Verification successful: distance_to_city_centre column is present in saved file\")\n",
    "    print(f\"Number of rows with distance calculated: {verify_df['distance_to_city_centre'].notna().sum()}\")\n",
    "else:\n",
    "    print(\"Warning: distance_to_city_centre column not found in saved file!\")"
   ],
   "id": "eb2091dd0a2cce77",
   "outputs": [
    {
     "name": "stdout",
     "output_type": "stream",
     "text": [
      "Reading data...\n",
      "Calculating distances to city centre...\n",
      "\n",
      "Distance Summary Statistics:\n",
      "Average distance to city centre: 2.96 km\n",
      "Minimum distance: 0.01 km\n",
      "Maximum distance: 9.71 km\n",
      "\n",
      "Saving updated dataset...\n",
      "Data saved successfully to cleaned_data/machine_learning/ml_final_processed_listings_data.csv\n",
      "\n",
      "Verifying save...\n",
      "Verification successful: distance_to_city_centre column is present in saved file\n",
      "Number of rows with distance calculated: 107937\n"
     ]
    }
   ],
   "execution_count": 17
  },
  {
   "metadata": {},
   "cell_type": "markdown",
   "source": "### Removing unknown column in dataset",
   "id": "f03f529ee5d384c5"
  },
  {
   "metadata": {
    "ExecuteTime": {
     "end_time": "2024-10-30T07:36:47.997130Z",
     "start_time": "2024-10-30T07:36:41.691862Z"
    }
   },
   "cell_type": "code",
   "source": [
    "# Read the data, ignoring the index column\n",
    "main_df = pd.read_csv('cleaned_data/machine_learning/ml_final_processed_listings_data.csv')\n",
    "\n",
    "# Remove the Unnamed: 0 column if it exists\n",
    "if 'bedrooms_imputed_method' in main_df.columns:\n",
    "    main_df = main_df.drop(columns=['bedrooms_imputed_method', 'beds_imputed_method'])\n",
    "    print(\"Removed 'bedrooms_imputed_method' column\")\n",
    "    print(f\"Remaining columns: {len(main_df.columns)}\")\n",
    "\n",
    "# Save back to CSV without index\n",
    "main_df.to_csv('cleaned_data/machine_learning/ml_final_processed_listings_data.csv', index=False)\n",
    "print(\"File saved successfully without the index column!\")\n",
    "\n",
    "# Verify the save\n",
    "verify_df = pd.read_csv('cleaned_data/machine_learning/ml_final_processed_listings_data.csv')\n",
    "if 'bedrooms_imputed_method' not in verify_df.columns:\n",
    "    print(\"Verification successful: 'price' column is not present in saved file\")"
   ],
   "id": "4b05fd1a88c972cf",
   "outputs": [
    {
     "name": "stdout",
     "output_type": "stream",
     "text": [
      "Removed 'bedrooms_imputed_method' column\n",
      "Remaining columns: 58\n",
      "File saved successfully without the index column!\n",
      "Verification successful: 'price' column is not present in saved file\n"
     ]
    }
   ],
   "execution_count": 23
  },
  {
   "metadata": {},
   "cell_type": "markdown",
   "source": "# Split final dataset into training, validation and testing",
   "id": "4fd4537e5505fdbd"
  },
  {
   "metadata": {
    "ExecuteTime": {
     "end_time": "2024-10-30T07:41:40.296280Z",
     "start_time": "2024-10-30T07:38:31.520171Z"
    }
   },
   "cell_type": "code",
   "source": [
    "import pandas as pd\n",
    "import numpy as np\n",
    "from sklearn.model_selection import train_test_split\n",
    "from sklearn.preprocessing import StandardScaler, OneHotEncoder\n",
    "from sklearn.compose import ColumnTransformer\n",
    "from sklearn.pipeline import Pipeline\n",
    "from sklearn.ensemble import RandomForestRegressor\n",
    "from sklearn.metrics import mean_squared_error, r2_score, mean_absolute_error\n",
    "import seaborn as sns\n",
    "import matplotlib.pyplot as plt\n",
    "\n",
    "def plot_prediction_scatter(y_true, y_pred, title):\n",
    "    \"\"\"\n",
    "    Create scatter plot of predicted vs actual values.\n",
    "    \n",
    "    Parameters:\n",
    "    y_true: Actual values\n",
    "    y_pred: Predicted values\n",
    "    title: Plot title\n",
    "    \"\"\"\n",
    "    print(\"\\nCreating prediction scatter plot...\")\n",
    "    plt.figure(figsize=(10, 6))\n",
    "    plt.scatter(y_true, y_pred, alpha=0.5)\n",
    "    plt.plot([y_true.min(), y_true.max()], [y_true.min(), y_true.max()], 'r--', lw=2)\n",
    "    plt.xlabel('Actual Price')\n",
    "    plt.ylabel('Predicted Price')\n",
    "    plt.title(title)\n",
    "    \n",
    "    # Add R² value to plot\n",
    "    r2 = r2_score(y_true, y_pred)\n",
    "    plt.text(0.05, 0.95, f'R² = {r2:.3f}', \n",
    "             transform=plt.gca().transAxes, \n",
    "             bbox=dict(facecolor='white', alpha=0.8))\n",
    "    \n",
    "    plt.tight_layout()\n",
    "    plt.show()\n",
    "    print(\"Scatter plot created\")\n",
    "\n",
    "def prepare_features_target(df, target_column='avg_price', exclude_columns=None):\n",
    "    \"\"\"\n",
    "    Prepare feature matrix X and target variable y with categorical handling.\n",
    "    \"\"\"\n",
    "    print(\"\\nPreparing features and target...\")\n",
    "    \n",
    "    if exclude_columns is None:\n",
    "        exclude_columns = []\n",
    "    \n",
    "    # Add target column to exclude list\n",
    "    exclude_columns = exclude_columns + [target_column]\n",
    "    \n",
    "    # Define categorical columns\n",
    "    categorical_columns = [\n",
    "        'host_is_superhost',\n",
    "        'property_type',\n",
    "        'room_type',\n",
    "        'neighbourhood_cleansed',\n",
    "        'instant_bookable',\n",
    "        'bedrooms_imputed_method',\n",
    "        'beds_imputed_method'\n",
    "    ]\n",
    "    \n",
    "    # Remove excluded columns from categorical list\n",
    "    categorical_columns = [col for col in categorical_columns \n",
    "                         if col in df.columns and col not in exclude_columns]\n",
    "    \n",
    "    print(f\"Found {len(categorical_columns)} categorical columns: {categorical_columns}\")\n",
    "    \n",
    "    # Print unique values in categorical columns for debugging\n",
    "    for col in categorical_columns:\n",
    "        n_unique = df[col].nunique()\n",
    "        print(f\"Column '{col}' has {n_unique} unique values\")\n",
    "    \n",
    "    # Select features\n",
    "    X = df.drop(columns=exclude_columns)\n",
    "    \n",
    "    # Identify numeric columns (excluding categorical)\n",
    "    numeric_cols = X.select_dtypes(include=['int64', 'float64']).columns\n",
    "    numeric_cols = [col for col in numeric_cols if col not in categorical_columns]\n",
    "    \n",
    "    print(f\"Found {len(numeric_cols)} numeric columns\")\n",
    "    \n",
    "    # Get target variable\n",
    "    y = df[target_column]\n",
    "    \n",
    "    # Create column transformer for preprocessing\n",
    "    preprocessor = ColumnTransformer(\n",
    "        transformers=[\n",
    "            ('num', StandardScaler(), numeric_cols),\n",
    "            ('cat', OneHotEncoder(\n",
    "                drop='first', \n",
    "                sparse_output=False,\n",
    "                handle_unknown='ignore'  # Added this parameter\n",
    "            ), categorical_columns)\n",
    "        ],\n",
    "        remainder='drop'\n",
    "    )\n",
    "    \n",
    "    print(\"Feature preparation completed\")\n",
    "    return X, y, preprocessor, numeric_cols, categorical_columns\n",
    "\n",
    "def train_evaluate_model(X, y, preprocessor):\n",
    "    \"\"\"\n",
    "    Train and evaluate the model using training, validation, and test sets.\n",
    "    \"\"\"\n",
    "    print(\"\\nStarting model training and evaluation...\")\n",
    "    \n",
    "    # Create train, validation, and test sets\n",
    "    print(\"Splitting data into train, validation, and test sets...\")\n",
    "    X_train, X_temp, y_train, y_temp = train_test_split(X, y, test_size=0.3, random_state=42)\n",
    "    X_val, X_test, y_val, y_test = train_test_split(X_temp, y_temp, test_size=0.5, random_state=42)\n",
    "    \n",
    "    print(f\"Train set size: {len(X_train)}\")\n",
    "    print(f\"Validation set size: {len(X_val)}\")\n",
    "    print(f\"Test set size: {len(X_test)}\")\n",
    "    \n",
    "    # Create and train pipeline\n",
    "    print(\"\\nCreating and training model pipeline...\")\n",
    "    pipeline = Pipeline([\n",
    "        ('preprocessor', preprocessor),\n",
    "        ('regressor', RandomForestRegressor(\n",
    "            n_estimators=100,\n",
    "            max_depth=None,\n",
    "            min_samples_split=2,\n",
    "            min_samples_leaf=1,\n",
    "            random_state=42\n",
    "        ))\n",
    "    ])\n",
    "    \n",
    "    pipeline.fit(X_train, y_train)\n",
    "    \n",
    "    # Make predictions\n",
    "    print(\"Making predictions...\")\n",
    "    predictions = {\n",
    "        'train': pipeline.predict(X_train),\n",
    "        'val': pipeline.predict(X_val),\n",
    "        'test': pipeline.predict(X_test)\n",
    "    }\n",
    "    \n",
    "    # Calculate metrics\n",
    "    metrics = {}\n",
    "    for dataset, pred in predictions.items():\n",
    "        y_true = {'train': y_train, 'val': y_val, 'test': y_test}[dataset]\n",
    "        metrics[dataset] = {\n",
    "            'R2 Score': r2_score(y_true, pred),\n",
    "            'RMSE': np.sqrt(mean_squared_error(y_true, pred)),\n",
    "            'MAE': mean_absolute_error(y_true, pred)\n",
    "        }\n",
    "    \n",
    "    print(\"\\nModel Performance Metrics:\")\n",
    "    for dataset, m in metrics.items():\n",
    "        print(f\"\\n{dataset.capitalize()} Set:\")\n",
    "        for metric_name, value in m.items():\n",
    "            print(f\"{metric_name}: {value:.4f}\")\n",
    "    \n",
    "    return pipeline, metrics, (X_train, X_val, X_test, y_train, y_val, y_test)\n",
    "\n",
    "def analyze_feature_importance(pipeline, numeric_cols, categorical_cols, n_top=10):\n",
    "    \"\"\"\n",
    "    Analyze and plot feature importance with support for categorical features.\n",
    "    \"\"\"\n",
    "    print(\"\\nAnalyzing feature importance...\")\n",
    "    \n",
    "    # Get feature names after preprocessing\n",
    "    cat_features = []\n",
    "    if categorical_cols:\n",
    "        # Get categorical feature names after one-hot encoding\n",
    "        cat_encoder = pipeline.named_steps['preprocessor'].named_transformers_['cat']\n",
    "        cat_features = cat_encoder.get_feature_names_out(categorical_cols).tolist()\n",
    "    \n",
    "    feature_names = numeric_cols + cat_features\n",
    "    \n",
    "    # Get feature importance\n",
    "    importance = pd.DataFrame({\n",
    "        'feature': feature_names,\n",
    "        'importance': pipeline.named_steps['regressor'].feature_importances_\n",
    "    })\n",
    "    \n",
    "    # Sort by importance\n",
    "    importance = importance.sort_values('importance', ascending=False)\n",
    "    \n",
    "    # Plot top N features\n",
    "    plt.figure(figsize=(12, 6))\n",
    "    sns.barplot(data=importance.head(n_top), x='importance', y='feature')\n",
    "    plt.title(f'Top {n_top} Most Important Features')\n",
    "    plt.xlabel('Feature Importance')\n",
    "    plt.tight_layout()\n",
    "    plt.show()\n",
    "    \n",
    "    return importance\n",
    "\n",
    "# Main execution\n",
    "if __name__ == \"__main__\":\n",
    "    print(\"Starting price prediction pipeline...\")\n",
    "    \n",
    "    # Columns to exclude from features\n",
    "    exclude_cols = [\n",
    "        # Identifiers\n",
    "        'id', 'host_id',\n",
    "        \n",
    "        # Dates\n",
    "        'last_scraped', 'first_review', 'last_review', \n",
    "        'calendar_last_scraped', 'price_period_start', 'price_period_end',\n",
    "        \n",
    "        # Text fields\n",
    "        'name', 'amenities',\n",
    "        \n",
    "        # Redundant/derivative fields\n",
    "        'minimum_minimum_nights', 'maximum_minimum_nights',\n",
    "        'minimum_maximum_nights', 'maximum_maximum_nights',\n",
    "        \n",
    "        # Meta information\n",
    "        'number_of_listings', 'price_std',\n",
    "        \n",
    "        # Location (might want to keep these depending on your needs)\n",
    "        'latitude', 'longitude',\n",
    "        \n",
    "        # Target-related\n",
    "        'avg_price'\n",
    "    ]\n",
    "    \n",
    "    # Read the data\n",
    "    print(\"Reading data...\")\n",
    "    df = pd.read_csv('cleaned_data/machine_learning/ml_final_processed_listings_data.csv')\n",
    "    print(f\"Loaded dataset with {len(df)} rows and {len(df.columns)} columns\")\n",
    "    \n",
    "    # Prepare features and target\n",
    "    X, y, preprocessor, numeric_cols, categorical_cols = prepare_features_target(\n",
    "        df, \n",
    "        target_column='avg_price',\n",
    "        exclude_columns=exclude_cols\n",
    "    )\n",
    "    # After reading the data, add this diagnostic section:\n",
    "    print(\"\\nExamining categorical columns:\")\n",
    "    for col in ['property_type', 'room_type']:  # Add other categorical columns as needed\n",
    "        print(f\"\\nUnique values in {col}:\")\n",
    "        print(df[col].value_counts())\n",
    "        \n",
    "    # Train and evaluate model\n",
    "    pipeline, metrics, split_data = train_evaluate_model(X, y, preprocessor)\n",
    "    \n",
    "    # Analyze feature importance\n",
    "    importance_df = analyze_feature_importance(pipeline, numeric_cols, categorical_cols)\n",
    "    \n",
    "    # Plot predictions vs actual for test set\n",
    "    X_train, X_val, X_test, y_train, y_val, y_test = split_data\n",
    "    y_pred_test = pipeline.predict(X_test)\n",
    "    plot_prediction_scatter(y_test, y_pred_test, 'Predicted vs Actual Prices (Test Set)')\n",
    "    \n",
    "    print(\"\\nTop 10 Most Important Features:\")\n",
    "    print(importance_df.head(10))\n",
    "    \n",
    "    print(\"\\nPipeline completed successfully!\")"
   ],
   "id": "ee987f1ef7dfcbe8",
   "outputs": [
    {
     "name": "stdout",
     "output_type": "stream",
     "text": [
      "Starting price prediction pipeline...\n",
      "Reading data...\n",
      "Loaded dataset with 107937 rows and 58 columns\n",
      "\n",
      "Preparing features and target...\n",
      "Found 5 categorical columns: ['host_is_superhost', 'property_type', 'room_type', 'neighbourhood_cleansed', 'instant_bookable']\n",
      "Column 'host_is_superhost' has 2 unique values\n",
      "Column 'property_type' has 69 unique values\n",
      "Column 'room_type' has 4 unique values\n",
      "Column 'neighbourhood_cleansed' has 20 unique values\n",
      "Column 'instant_bookable' has 2 unique values\n",
      "Found 32 numeric columns\n",
      "Feature preparation completed\n",
      "\n",
      "Examining categorical columns:\n",
      "\n",
      "Unique values in property_type:\n",
      "property_type\n",
      "Entire rental unit              90507\n",
      "Private room in rental unit      7194\n",
      "Entire condo                     2930\n",
      "Room in boutique hotel           1279\n",
      "Entire loft                      1084\n",
      "                                ...  \n",
      "Shared room in guest suite          1\n",
      "Floor                               1\n",
      "Shared room in ice dome             1\n",
      "Private room in earthen home        1\n",
      "Entire bed and breakfast            1\n",
      "Name: count, Length: 69, dtype: int64\n",
      "\n",
      "Unique values in room_type:\n",
      "room_type\n",
      "Entire home/apt    96122\n",
      "Private room       10417\n",
      "Hotel room           832\n",
      "Shared room          566\n",
      "Name: count, dtype: int64\n",
      "\n",
      "Starting model training and evaluation...\n",
      "Splitting data into train, validation, and test sets...\n",
      "Train set size: 75555\n",
      "Validation set size: 16191\n",
      "Test set size: 16191\n",
      "\n",
      "Creating and training model pipeline...\n",
      "Making predictions...\n"
     ]
    },
    {
     "name": "stderr",
     "output_type": "stream",
     "text": [
      "C:\\Users\\sjokk\\miniconda3\\Lib\\site-packages\\sklearn\\preprocessing\\_encoders.py:242: UserWarning: Found unknown categories in columns [1] during transform. These unknown categories will be encoded as all zeros\n",
      "  warnings.warn(\n",
      "C:\\Users\\sjokk\\miniconda3\\Lib\\site-packages\\sklearn\\preprocessing\\_encoders.py:242: UserWarning: Found unknown categories in columns [1] during transform. These unknown categories will be encoded as all zeros\n",
      "  warnings.warn(\n"
     ]
    },
    {
     "name": "stdout",
     "output_type": "stream",
     "text": [
      "\n",
      "Model Performance Metrics:\n",
      "\n",
      "Train Set:\n",
      "R2 Score: 0.9328\n",
      "RMSE: 63.7174\n",
      "MAE: 35.9972\n",
      "\n",
      "Val Set:\n",
      "R2 Score: 0.5035\n",
      "RMSE: 167.2660\n",
      "MAE: 95.5614\n",
      "\n",
      "Test Set:\n",
      "R2 Score: 0.5056\n",
      "RMSE: 164.9745\n",
      "MAE: 94.3805\n",
      "\n",
      "Analyzing feature importance...\n"
     ]
    },
    {
     "data": {
      "text/plain": [
       "<Figure size 1200x600 with 1 Axes>"
      ],
      "image/png": "[encoded data removed]"
     },
     "metadata": {},
     "output_type": "display_data"
    },
    {
     "name": "stderr",
     "output_type": "stream",
     "text": [
      "C:\\Users\\sjokk\\miniconda3\\Lib\\site-packages\\sklearn\\preprocessing\\_encoders.py:242: UserWarning: Found unknown categories in columns [1] during transform. These unknown categories will be encoded as all zeros\n",
      "  warnings.warn(\n"
     ]
    },
    {
     "name": "stdout",
     "output_type": "stream",
     "text": [
      "\n",
      "Creating prediction scatter plot...\n"
     ]
    },
    {
     "data": {
      "text/plain": [
       "<Figure size 1000x600 with 1 Axes>"
      ],
      "image/png": "[encoded data removed]"
     },
     "metadata": {},
     "output_type": "display_data"
    },
    {
     "name": "stdout",
     "output_type": "stream",
     "text": [
      "Scatter plot created\n",
      "\n",
      "Top 10 Most Important Features:\n",
      "                           feature  importance\n",
      "4                         bedrooms    0.163165\n",
      "3                        bathrooms    0.080987\n",
      "13                availability_365    0.068304\n",
      "29       distance_to_closest_venue    0.052321\n",
      "8           minimum_nights_avg_ntm    0.052103\n",
      "31         distance_to_city_centre    0.051446\n",
      "30  distance_to_closest_station_km    0.044837\n",
      "2                     accommodates    0.034365\n",
      "12                 availability_90    0.024812\n",
      "6                   minimum_nights    0.023568\n",
      "\n",
      "Pipeline completed successfully!\n"
     ]
    }
   ],
   "execution_count": 24
  },
  {
   "metadata": {},
   "cell_type": "markdown",
   "source": "# Improved",
   "id": "27dcc405a363fe62"
  },
  {
   "metadata": {
    "ExecuteTime": {
     "end_time": "2024-11-04T22:41:54.412949Z",
     "start_time": "2024-11-04T22:41:49.891026Z"
    }
   },
   "cell_type": "code",
   "source": [
    "import pandas as pd\n",
    "import numpy as np\n",
    "from sklearn.model_selection import train_test_split, cross_val_score, RandomizedSearchCV\n",
    "from sklearn.preprocessing import StandardScaler, OneHotEncoder, RobustScaler, PowerTransformer\n",
    "from sklearn.compose import ColumnTransformer\n",
    "from sklearn.pipeline import Pipeline\n",
    "from sklearn.ensemble import RandomForestRegressor, GradientBoostingRegressor, HistGradientBoostingRegressor\n",
    "from sklearn.metrics import mean_squared_error, r2_score, mean_absolute_error, make_scorer\n",
    "from sklearn.model_selection import TimeSeriesSplit\n",
    "from sklearn.feature_selection import SelectFromModel\n",
    "from sklearn.preprocessing import PolynomialFeatures\n",
    "from sklearn.exceptions import ConvergenceWarning\n",
    "import seaborn as sns\n",
    "import matplotlib.pyplot as plt\n",
    "from typing import Tuple, List, Dict, Any\n",
    "from scipy.stats import randint, uniform\n",
    "import warnings\n",
    "import logging\n",
    "import joblib\n",
    "from pathlib import Path\n",
    "\n",
    "class ImprovedPricePredictionPipeline:\n",
    "    def __init__(self, random_state: int = 42):\n",
    "        self.random_state = random_state\n",
    "        self.pipeline = None\n",
    "        self.feature_names = None\n",
    "        self.metrics = None\n",
    "        \n",
    "    def create_olympic_specific_features(self, df: pd.DataFrame) -> pd.DataFrame:\n",
    "        \"\"\"Create Olympics-specific features from the dataset.\"\"\"\n",
    "        df = df.copy()\n",
    "        \n",
    "        # Create interaction features\n",
    "        df['price_per_person'] = df['avg_price'] / df['accommodates']\n",
    "        df['beds_per_bedroom'] = df['beds'] / df['bedrooms'].replace(0, 1)\n",
    "        df['reviews_density'] = df['number_of_reviews'] / (df['review_scores_rating'] + 1)\n",
    "        \n",
    "        # Create Olympic venue proximity features\n",
    "        df['venue_premium'] = np.exp(-df['distance_to_closest_venue'] / 1000)  # Exponential decay\n",
    "        df['transport_access'] = np.exp(-df['distance_to_closest_station_km'])\n",
    "        \n",
    "        # Create composite scores\n",
    "        df['quality_score'] = df[[\n",
    "            'review_scores_rating', 'review_scores_cleanliness',\n",
    "            'review_scores_location', 'review_scores_value'\n",
    "        ]].mean(axis=1)\n",
    "        \n",
    "        # Create seasonal features from dates\n",
    "        df['price_period_start'] = pd.to_datetime(df['price_period_start'])\n",
    "        df['is_summer'] = df['price_period_start'].dt.month.isin([6, 7, 8]).astype(int)\n",
    "        df['is_weekend'] = df['price_period_start'].dt.dayofweek.isin([4, 5, 6]).astype(int)\n",
    "        \n",
    "        return df\n",
    "\n",
    "    def prepare_features_target(self, df: pd.DataFrame, \n",
    "                              target_column: str = 'avg_price',\n",
    "                              exclude_columns: List[str] = None) -> Tuple:\n",
    "        \"\"\"Enhanced feature preparation with Olympics-specific processing.\"\"\"\n",
    "        logger.info(\"Preparing features with Olympic-specific enhancements...\")\n",
    "        \n",
    "        # Create Olympic-specific features\n",
    "        df = self.create_olympic_specific_features(df)\n",
    "        \n",
    "        exclude_columns = exclude_columns or []\n",
    "        exclude_columns = exclude_columns + [target_column]\n",
    "        \n",
    "        # Define categorical columns with improved cardinality handling\n",
    "        categorical_columns = []\n",
    "        for col in df.select_dtypes(include=['object', 'category']).columns:\n",
    "            if col not in exclude_columns:\n",
    "                unique_count = df[col].nunique()\n",
    "                if unique_count < 50:  # Reduced threshold for Olympic-specific categorization\n",
    "                    categorical_columns.append(col)\n",
    "        \n",
    "        # Select features\n",
    "        X = df.drop(columns=exclude_columns)\n",
    "        \n",
    "        # Identify numeric columns\n",
    "        numeric_cols = X.select_dtypes(include=['int64', 'float64']).columns\n",
    "        numeric_cols = [col for col in numeric_cols if col not in categorical_columns]\n",
    "        \n",
    "        # Get target variable and apply log transformation for price\n",
    "        y = np.log1p(df[target_column])  # Log transform for better price distribution\n",
    "        \n",
    "        # Create enhanced preprocessing pipeline\n",
    "        preprocessor = ColumnTransformer(\n",
    "            transformers=[\n",
    "                ('num', Pipeline([\n",
    "                    ('scaler', RobustScaler()),\n",
    "                    ('power', PowerTransformer(method='yeo-johnson')),  # Handle skewed features\n",
    "                    ('poly', PolynomialFeatures(degree=2, include_bias=False))  # Capture non-linear relationships\n",
    "                ]), numeric_cols),\n",
    "                ('cat', Pipeline([\n",
    "                    ('onehot', OneHotEncoder(\n",
    "                        drop='if_binary',\n",
    "                        sparse_output=False,\n",
    "                        handle_unknown='ignore',\n",
    "                        min_frequency=0.05  # Increased threshold for Olympic-specific categories\n",
    "                    ))\n",
    "                ]), categorical_columns)\n",
    "            ],\n",
    "            remainder='drop',\n",
    "            verbose_feature_names_out=True\n",
    "        )\n",
    "        \n",
    "        return X, y, preprocessor, numeric_cols, categorical_columns\n",
    "\n",
    "    def train_evaluate_model(self, X: pd.DataFrame, y: pd.Series, \n",
    "                           preprocessor: ColumnTransformer,\n",
    "                           cv_folds: int = 5) -> Tuple:\n",
    "        \"\"\"Enhanced training with RandomizedSearchCV and time series consideration.\"\"\"\n",
    "        logger.info(\"Starting advanced model training with RandomizedSearchCV...\")\n",
    "        \n",
    "        # Time-based split for Olympic period consideration\n",
    "        X_train, X_temp = train_test_split(X, test_size=0.3, shuffle=False)\n",
    "        y_train, y_temp = y.iloc[X_train.index], y.iloc[X_temp.index]\n",
    "        X_val, X_test = train_test_split(X_temp, test_size=0.5, shuffle=False)\n",
    "        y_val, y_test = y_temp.iloc[X_val.index], y_temp.iloc[X_test.index]\n",
    "        \n",
    "        # Define parameter distributions for RandomizedSearchCV\n",
    "        param_distributions = {\n",
    "            'regressor__learning_rate': uniform(0.01, 0.3),\n",
    "            'regressor__max_depth': randint(3, 50),\n",
    "            'regressor__min_samples_leaf': randint(1, 20),\n",
    "            'regressor__max_iter': randint(100, 500),\n",
    "            'regressor__max_bins': randint(100, 255),  # Specific to HistGradientBoosting\n",
    "            'regressor__l2_regularization': uniform(0, 10)\n",
    "        }\n",
    "        \n",
    "        # Create base pipeline\n",
    "        base_pipeline = Pipeline([\n",
    "            ('preprocessor', preprocessor),\n",
    "            ('regressor', HistGradientBoostingRegressor(random_state=self.random_state))\n",
    "        ])\n",
    "        \n",
    "        # Custom scorer that combines multiple metrics\n",
    "        def custom_scorer(y_true, y_pred):\n",
    "            # Convert back from log scale\n",
    "            y_true_orig = np.expm1(y_true)\n",
    "            y_pred_orig = np.expm1(y_pred)\n",
    "            \n",
    "            r2 = r2_score(y_true_orig, y_pred_orig)\n",
    "            rmse = -np.sqrt(mean_squared_error(y_true_orig, y_pred_orig))\n",
    "            mape = -np.mean(np.abs((y_true_orig - y_pred_orig) / y_true_orig))\n",
    "            \n",
    "            return 0.4 * r2 + 0.4 * (-rmse/1000) + 0.2 * (-mape)  # Weighted combination\n",
    "        \n",
    "        # Create time series cross-validation\n",
    "        tscv = TimeSeriesSplit(n_splits=cv_folds)\n",
    "        \n",
    "        # Perform randomized search with time series cross-validation\n",
    "        random_search = RandomizedSearchCV(\n",
    "            base_pipeline,\n",
    "            param_distributions=param_distributions,\n",
    "            n_iter=50,  # Number of parameter settings sampled\n",
    "            cv=tscv,\n",
    "            scoring=make_scorer(custom_scorer),\n",
    "            n_jobs=-1,\n",
    "            random_state=self.random_state,\n",
    "            verbose=2\n",
    "        )\n",
    "        \n",
    "        # Fit the model\n",
    "        with warnings.catch_warnings():\n",
    "            warnings.filterwarnings('ignore', category=ConvergenceWarning)\n",
    "            random_search.fit(X_train, y_train)\n",
    "        \n",
    "        self.pipeline = random_search.best_estimator_\n",
    "        \n",
    "        # Calculate metrics with price transformation reversal\n",
    "        predictions = {}\n",
    "        self.metrics = {}\n",
    "        \n",
    "        for name, (X_set, y_set) in [\n",
    "            ('train', (X_train, y_train)),\n",
    "            ('val', (X_val, y_val)),\n",
    "            ('test', (X_test, y_test))\n",
    "        ]:\n",
    "            pred = self.pipeline.predict(X_set)\n",
    "            predictions[name] = np.expm1(pred)  # Reverse log transformation\n",
    "            true_prices = np.expm1(y_set)\n",
    "            \n",
    "            self.metrics[name] = {\n",
    "                'R2 Score': r2_score(true_prices, predictions[name]),\n",
    "                'RMSE': np.sqrt(mean_squared_error(true_prices, predictions[name])),\n",
    "                'MAE': mean_absolute_error(true_prices, predictions[name]),\n",
    "                'MAPE': np.mean(np.abs((true_prices - predictions[name]) / true_prices)) * 100\n",
    "            }\n",
    "        \n",
    "        # Log best parameters\n",
    "        logger.info(f\"Best parameters found: {random_search.best_params_}\")\n",
    "        logger.info(f\"Best cross-validation score: {random_search.best_score_}\")\n",
    "        \n",
    "        return self.pipeline, self.metrics, (X_train, X_val, X_test, y_train, y_val, y_test)\n",
    "\n",
    "    def analyze_feature_importance(self, numeric_cols: List[str], \n",
    "                                 categorical_cols: List[str], \n",
    "                                 n_top: int = 15,\n",
    "                                 save_path: str = None) -> pd.DataFrame:\n",
    "        \"\"\"Enhanced feature importance analysis.\"\"\"\n",
    "        logger.info(\"Analyzing feature importance...\")\n",
    "        \n",
    "        if self.pipeline is None:\n",
    "            raise ValueError(\"Model must be trained before analyzing feature importance\")\n",
    "        \n",
    "        # Get feature names\n",
    "        feature_names = (\n",
    "            numeric_cols + \n",
    "            self.pipeline.named_steps['preprocessor']\n",
    "            .named_transformers_['cat']\n",
    "            .get_feature_names_out(categorical_cols).tolist()\n",
    "        )\n",
    "        \n",
    "        # Get feature importance\n",
    "        importance = pd.DataFrame({\n",
    "            'feature': feature_names,\n",
    "            'importance': self.pipeline.named_steps['regressor'].feature_importances_\n",
    "        }).sort_values('importance', ascending=False)\n",
    "        \n",
    "        # Enhanced visualization\n",
    "        plt.figure(figsize=(12, 8))\n",
    "        sns.barplot(\n",
    "            data=importance.head(n_top),\n",
    "            x='importance',\n",
    "            y='feature',\n",
    "            palette='viridis'\n",
    "        )\n",
    "        plt.title('Top Feature Importance for Olympic Price Prediction', pad=20)\n",
    "        plt.xlabel('Feature Importance', labelpad=10)\n",
    "        plt.ylabel('Feature', labelpad=10)\n",
    "        \n",
    "        if save_path:\n",
    "            plt.savefig(save_path, bbox_inches='tight', dpi=300)\n",
    "            logger.info(f\"Feature importance plot saved to {save_path}\")\n",
    "        \n",
    "        plt.tight_layout()\n",
    "        plt.show()\n",
    "        \n",
    "        return importance\n",
    "\n",
    "    def save_model(self, path: str) -> None:\n",
    "        \"\"\"Save the trained model and preprocessor.\"\"\"\n",
    "        if self.pipeline is None:\n",
    "            raise ValueError(\"Model must be trained before saving\")\n",
    "        \n",
    "        Path(path).parent.mkdir(parents=True, exist_ok=True)\n",
    "        joblib.dump(self.pipeline, path)\n",
    "        logger.info(f\"Model saved to {path}\")\n",
    "\n",
    "    @staticmethod\n",
    "    def load_model(path: str) -> 'PricePredictionPipeline':\n",
    "        \"\"\"Load a trained model.\"\"\"\n",
    "        pipeline = joblib.load(path)\n",
    "        instance = ImprovedPricePredictionPipeline()\n",
    "        instance.pipeline = pipeline\n",
    "        logger.info(f\"Model loaded from {path}\")\n",
    "        return instance\n",
    "\n",
    "def main():\n",
    "    logger.info(\"Starting price prediction pipeline...\")\n",
    "    \n",
    "    # Columns to exclude from features\n",
    "    exclude_cols = [\n",
    "        'id', 'host_id',\n",
    "        'last_scraped', 'first_review', 'last_review',\n",
    "        'calendar_last_scraped', 'price_period_start', 'price_period_end',\n",
    "        'name', 'amenities',\n",
    "        'minimum_minimum_nights', 'maximum_minimum_nights',\n",
    "        'minimum_maximum_nights', 'maximum_maximum_nights',\n",
    "        'number_of_listings', 'price_std',\n",
    "        'latitude', 'longitude',\n",
    "        'avg_price'\n",
    "    ]\n",
    "    \n",
    "    try:\n",
    "        # Create output directory\n",
    "        output_dir = Path('output')\n",
    "        output_dir.mkdir(exist_ok=True)\n",
    "        \n",
    "        # Read the data\n",
    "        df = pd.read_csv('cleaned_data/machine_learning/ml_final_processed_listings_data.csv')\n",
    "        logger.info(f\"Loaded dataset with {len(df)} rows and {len(df.columns)} columns\")\n",
    "        \n",
    "        # Initialize and run pipeline\n",
    "        pipeline = ImprovedPricePredictionPipeline()\n",
    "        X, y, preprocessor, numeric_cols, categorical_cols = pipeline.prepare_features_target(\n",
    "            df, \n",
    "            target_column='avg_price',\n",
    "            exclude_columns=exclude_cols\n",
    "        )\n",
    "        \n",
    "        # Train and evaluate model\n",
    "        model, metrics, split_data = pipeline.train_evaluate_model(X, y, preprocessor)\n",
    "        \n",
    "        # Analyze and plot results\n",
    "        X_train, X_val, X_test, y_train, y_val, y_test = split_data\n",
    "        y_pred_test = model.predict(X_test)\n",
    "        \n",
    "        pipeline.plot_prediction_scatter(\n",
    "            y_test, \n",
    "            y_pred_test, \n",
    "            'Predicted vs Actual Prices (Test Set)',\n",
    "            save_path=output_dir / 'prediction_scatter.png'\n",
    "        )\n",
    "        \n",
    "        importance_df = pipeline.analyze_feature_importance(\n",
    "            numeric_cols, \n",
    "            categorical_cols,\n",
    "            save_path=output_dir / 'feature_importance.png'\n",
    "        )\n",
    "        \n",
    "        # Save model\n",
    "        pipeline.save_model(output_dir / 'price_prediction_model.joblib')\n",
    "        \n",
    "        # Save metrics to file\n",
    "        pd.DataFrame(metrics).to_csv(output_dir / 'model_metrics.csv')\n",
    "        \n",
    "        logger.info(\"Pipeline completed successfully!\")\n",
    "        \n",
    "    except Exception as e:\n",
    "        logger.error(f\"An error occurred: {str(e)}\", exc_info=True)\n",
    "        raise\n",
    "\n",
    "if __name__ == \"__main__\":\n",
    "    main()"
   ],
   "id": "3618e4ffe9f8821e",
   "outputs": [
    {
     "name": "stderr",
     "output_type": "stream",
     "text": [
      "2024-11-04 23:41:49,913 - INFO - Starting price prediction pipeline...\n",
      "2024-11-04 23:41:51,999 - INFO - Loaded dataset with 107937 rows and 58 columns\n",
      "2024-11-04 23:41:51,999 - INFO - Preparing features with Olympic-specific enhancements...\n",
      "2024-11-04 23:41:52,169 - INFO - Starting advanced model training with RandomizedSearchCV...\n",
      "2024-11-04 23:41:52,200 - ERROR - An error occurred: positional indexers are out-of-bounds\n",
      "Traceback (most recent call last):\n",
      "  File \"C:\\Users\\sjokk\\miniconda3\\Lib\\site-packages\\pandas\\core\\indexing.py\", line 1714, in _get_list_axis\n",
      "    return self.obj._take_with_is_copy(key, axis=axis)\n",
      "           ^^^^^^^^^^^^^^^^^^^^^^^^^^^^^^^^^^^^^^^^^^^\n",
      "  File \"C:\\Users\\sjokk\\miniconda3\\Lib\\site-packages\\pandas\\core\\generic.py\", line 4153, in _take_with_is_copy\n",
      "    result = self.take(indices=indices, axis=axis)\n",
      "             ^^^^^^^^^^^^^^^^^^^^^^^^^^^^^^^^^^^^^\n",
      "  File \"C:\\Users\\sjokk\\miniconda3\\Lib\\site-packages\\pandas\\core\\generic.py\", line 4133, in take\n",
      "    new_data = self._mgr.take(\n",
      "               ^^^^^^^^^^^^^^^\n",
      "  File \"C:\\Users\\sjokk\\miniconda3\\Lib\\site-packages\\pandas\\core\\internals\\managers.py\", line 891, in take\n",
      "    indexer = maybe_convert_indices(indexer, n, verify=verify)\n",
      "              ^^^^^^^^^^^^^^^^^^^^^^^^^^^^^^^^^^^^^^^^^^^^^^^^\n",
      "  File \"C:\\Users\\sjokk\\miniconda3\\Lib\\site-packages\\pandas\\core\\indexers\\utils.py\", line 282, in maybe_convert_indices\n",
      "    raise IndexError(\"indices are out-of-bounds\")\n",
      "IndexError: indices are out-of-bounds\n",
      "\n",
      "The above exception was the direct cause of the following exception:\n",
      "\n",
      "Traceback (most recent call last):\n",
      "  File \"C:\\Users\\sjokk\\AppData\\Local\\Temp\\ipykernel_23352\\1694718631.py\", line 293, in main\n",
      "    model, metrics, split_data = pipeline.train_evaluate_model(X, y, preprocessor)\n",
      "                                 ^^^^^^^^^^^^^^^^^^^^^^^^^^^^^^^^^^^^^^^^^^^^^^^^^\n",
      "  File \"C:\\Users\\sjokk\\AppData\\Local\\Temp\\ipykernel_23352\\1694718631.py\", line 118, in train_evaluate_model\n",
      "    y_val, y_test = y_temp.iloc[X_val.index], y_temp.iloc[X_test.index]\n",
      "                    ~~~~~~~~~~~^^^^^^^^^^^^^\n",
      "  File \"C:\\Users\\sjokk\\miniconda3\\Lib\\site-packages\\pandas\\core\\indexing.py\", line 1191, in __getitem__\n",
      "    return self._getitem_axis(maybe_callable, axis=axis)\n",
      "           ^^^^^^^^^^^^^^^^^^^^^^^^^^^^^^^^^^^^^^^^^^^^^\n",
      "  File \"C:\\Users\\sjokk\\miniconda3\\Lib\\site-packages\\pandas\\core\\indexing.py\", line 1743, in _getitem_axis\n",
      "    return self._get_list_axis(key, axis=axis)\n",
      "           ^^^^^^^^^^^^^^^^^^^^^^^^^^^^^^^^^^^\n",
      "  File \"C:\\Users\\sjokk\\miniconda3\\Lib\\site-packages\\pandas\\core\\indexing.py\", line 1717, in _get_list_axis\n",
      "    raise IndexError(\"positional indexers are out-of-bounds\") from err\n",
      "IndexError: positional indexers are out-of-bounds\n"
     ]
    },
    {
     "ename": "IndexError",
     "evalue": "positional indexers are out-of-bounds",
     "output_type": "error",
     "traceback": [
      "\u001B[1;31m---------------------------------------------------------------------------\u001B[0m",
      "\u001B[1;31mIndexError\u001B[0m                                Traceback (most recent call last)",
      "File \u001B[1;32m~\\miniconda3\\Lib\\site-packages\\pandas\\core\\indexing.py:1714\u001B[0m, in \u001B[0;36m_iLocIndexer._get_list_axis\u001B[1;34m(self, key, axis)\u001B[0m\n\u001B[0;32m   1713\u001B[0m \u001B[38;5;28;01mtry\u001B[39;00m:\n\u001B[1;32m-> 1714\u001B[0m     \u001B[38;5;28;01mreturn\u001B[39;00m \u001B[38;5;28mself\u001B[39m\u001B[38;5;241m.\u001B[39mobj\u001B[38;5;241m.\u001B[39m_take_with_is_copy(key, axis\u001B[38;5;241m=\u001B[39maxis)\n\u001B[0;32m   1715\u001B[0m \u001B[38;5;28;01mexcept\u001B[39;00m \u001B[38;5;167;01mIndexError\u001B[39;00m \u001B[38;5;28;01mas\u001B[39;00m err:\n\u001B[0;32m   1716\u001B[0m     \u001B[38;5;66;03m# re-raise with different error message, e.g. test_getitem_ndarray_3d\u001B[39;00m\n",
      "File \u001B[1;32m~\\miniconda3\\Lib\\site-packages\\pandas\\core\\generic.py:4153\u001B[0m, in \u001B[0;36mNDFrame._take_with_is_copy\u001B[1;34m(self, indices, axis)\u001B[0m\n\u001B[0;32m   4144\u001B[0m \u001B[38;5;250m\u001B[39m\u001B[38;5;124;03m\"\"\"\u001B[39;00m\n\u001B[0;32m   4145\u001B[0m \u001B[38;5;124;03mInternal version of the `take` method that sets the `_is_copy`\u001B[39;00m\n\u001B[0;32m   4146\u001B[0m \u001B[38;5;124;03mattribute to keep track of the parent dataframe (using in indexing\u001B[39;00m\n\u001B[1;32m   (...)\u001B[0m\n\u001B[0;32m   4151\u001B[0m \u001B[38;5;124;03mSee the docstring of `take` for full explanation of the parameters.\u001B[39;00m\n\u001B[0;32m   4152\u001B[0m \u001B[38;5;124;03m\"\"\"\u001B[39;00m\n\u001B[1;32m-> 4153\u001B[0m result \u001B[38;5;241m=\u001B[39m \u001B[38;5;28mself\u001B[39m\u001B[38;5;241m.\u001B[39mtake(indices\u001B[38;5;241m=\u001B[39mindices, axis\u001B[38;5;241m=\u001B[39maxis)\n\u001B[0;32m   4154\u001B[0m \u001B[38;5;66;03m# Maybe set copy if we didn't actually change the index.\u001B[39;00m\n",
      "File \u001B[1;32m~\\miniconda3\\Lib\\site-packages\\pandas\\core\\generic.py:4133\u001B[0m, in \u001B[0;36mNDFrame.take\u001B[1;34m(self, indices, axis, **kwargs)\u001B[0m\n\u001B[0;32m   4129\u001B[0m     indices \u001B[38;5;241m=\u001B[39m np\u001B[38;5;241m.\u001B[39marange(\n\u001B[0;32m   4130\u001B[0m         indices\u001B[38;5;241m.\u001B[39mstart, indices\u001B[38;5;241m.\u001B[39mstop, indices\u001B[38;5;241m.\u001B[39mstep, dtype\u001B[38;5;241m=\u001B[39mnp\u001B[38;5;241m.\u001B[39mintp\n\u001B[0;32m   4131\u001B[0m     )\n\u001B[1;32m-> 4133\u001B[0m new_data \u001B[38;5;241m=\u001B[39m \u001B[38;5;28mself\u001B[39m\u001B[38;5;241m.\u001B[39m_mgr\u001B[38;5;241m.\u001B[39mtake(\n\u001B[0;32m   4134\u001B[0m     indices,\n\u001B[0;32m   4135\u001B[0m     axis\u001B[38;5;241m=\u001B[39m\u001B[38;5;28mself\u001B[39m\u001B[38;5;241m.\u001B[39m_get_block_manager_axis(axis),\n\u001B[0;32m   4136\u001B[0m     verify\u001B[38;5;241m=\u001B[39m\u001B[38;5;28;01mTrue\u001B[39;00m,\n\u001B[0;32m   4137\u001B[0m )\n\u001B[0;32m   4138\u001B[0m \u001B[38;5;28;01mreturn\u001B[39;00m \u001B[38;5;28mself\u001B[39m\u001B[38;5;241m.\u001B[39m_constructor_from_mgr(new_data, axes\u001B[38;5;241m=\u001B[39mnew_data\u001B[38;5;241m.\u001B[39maxes)\u001B[38;5;241m.\u001B[39m__finalize__(\n\u001B[0;32m   4139\u001B[0m     \u001B[38;5;28mself\u001B[39m, method\u001B[38;5;241m=\u001B[39m\u001B[38;5;124m\"\u001B[39m\u001B[38;5;124mtake\u001B[39m\u001B[38;5;124m\"\u001B[39m\n\u001B[0;32m   4140\u001B[0m )\n",
      "File \u001B[1;32m~\\miniconda3\\Lib\\site-packages\\pandas\\core\\internals\\managers.py:891\u001B[0m, in \u001B[0;36mBaseBlockManager.take\u001B[1;34m(self, indexer, axis, verify)\u001B[0m\n\u001B[0;32m    890\u001B[0m n \u001B[38;5;241m=\u001B[39m \u001B[38;5;28mself\u001B[39m\u001B[38;5;241m.\u001B[39mshape[axis]\n\u001B[1;32m--> 891\u001B[0m indexer \u001B[38;5;241m=\u001B[39m maybe_convert_indices(indexer, n, verify\u001B[38;5;241m=\u001B[39mverify)\n\u001B[0;32m    893\u001B[0m new_labels \u001B[38;5;241m=\u001B[39m \u001B[38;5;28mself\u001B[39m\u001B[38;5;241m.\u001B[39maxes[axis]\u001B[38;5;241m.\u001B[39mtake(indexer)\n",
      "File \u001B[1;32m~\\miniconda3\\Lib\\site-packages\\pandas\\core\\indexers\\utils.py:282\u001B[0m, in \u001B[0;36mmaybe_convert_indices\u001B[1;34m(indices, n, verify)\u001B[0m\n\u001B[0;32m    281\u001B[0m     \u001B[38;5;28;01mif\u001B[39;00m mask\u001B[38;5;241m.\u001B[39many():\n\u001B[1;32m--> 282\u001B[0m         \u001B[38;5;28;01mraise\u001B[39;00m \u001B[38;5;167;01mIndexError\u001B[39;00m(\u001B[38;5;124m\"\u001B[39m\u001B[38;5;124mindices are out-of-bounds\u001B[39m\u001B[38;5;124m\"\u001B[39m)\n\u001B[0;32m    283\u001B[0m \u001B[38;5;28;01mreturn\u001B[39;00m indices\n",
      "\u001B[1;31mIndexError\u001B[0m: indices are out-of-bounds",
      "\nThe above exception was the direct cause of the following exception:\n",
      "\u001B[1;31mIndexError\u001B[0m                                Traceback (most recent call last)",
      "Cell \u001B[1;32mIn[17], line 325\u001B[0m\n\u001B[0;32m    322\u001B[0m         \u001B[38;5;28;01mraise\u001B[39;00m\n\u001B[0;32m    324\u001B[0m \u001B[38;5;28;01mif\u001B[39;00m \u001B[38;5;18m__name__\u001B[39m \u001B[38;5;241m==\u001B[39m \u001B[38;5;124m\"\u001B[39m\u001B[38;5;124m__main__\u001B[39m\u001B[38;5;124m\"\u001B[39m:\n\u001B[1;32m--> 325\u001B[0m     main()\n",
      "Cell \u001B[1;32mIn[17], line 293\u001B[0m, in \u001B[0;36mmain\u001B[1;34m()\u001B[0m\n\u001B[0;32m    286\u001B[0m X, y, preprocessor, numeric_cols, categorical_cols \u001B[38;5;241m=\u001B[39m pipeline\u001B[38;5;241m.\u001B[39mprepare_features_target(\n\u001B[0;32m    287\u001B[0m     df, \n\u001B[0;32m    288\u001B[0m     target_column\u001B[38;5;241m=\u001B[39m\u001B[38;5;124m'\u001B[39m\u001B[38;5;124mavg_price\u001B[39m\u001B[38;5;124m'\u001B[39m,\n\u001B[0;32m    289\u001B[0m     exclude_columns\u001B[38;5;241m=\u001B[39mexclude_cols\n\u001B[0;32m    290\u001B[0m )\n\u001B[0;32m    292\u001B[0m \u001B[38;5;66;03m# Train and evaluate model\u001B[39;00m\n\u001B[1;32m--> 293\u001B[0m model, metrics, split_data \u001B[38;5;241m=\u001B[39m pipeline\u001B[38;5;241m.\u001B[39mtrain_evaluate_model(X, y, preprocessor)\n\u001B[0;32m    295\u001B[0m \u001B[38;5;66;03m# Analyze and plot results\u001B[39;00m\n\u001B[0;32m    296\u001B[0m X_train, X_val, X_test, y_train, y_val, y_test \u001B[38;5;241m=\u001B[39m split_data\n",
      "Cell \u001B[1;32mIn[17], line 118\u001B[0m, in \u001B[0;36mImprovedPricePredictionPipeline.train_evaluate_model\u001B[1;34m(self, X, y, preprocessor, cv_folds)\u001B[0m\n\u001B[0;32m    116\u001B[0m y_train, y_temp \u001B[38;5;241m=\u001B[39m y\u001B[38;5;241m.\u001B[39miloc[X_train\u001B[38;5;241m.\u001B[39mindex], y\u001B[38;5;241m.\u001B[39miloc[X_temp\u001B[38;5;241m.\u001B[39mindex]\n\u001B[0;32m    117\u001B[0m X_val, X_test \u001B[38;5;241m=\u001B[39m train_test_split(X_temp, test_size\u001B[38;5;241m=\u001B[39m\u001B[38;5;241m0.5\u001B[39m, shuffle\u001B[38;5;241m=\u001B[39m\u001B[38;5;28;01mFalse\u001B[39;00m)\n\u001B[1;32m--> 118\u001B[0m y_val, y_test \u001B[38;5;241m=\u001B[39m y_temp\u001B[38;5;241m.\u001B[39miloc[X_val\u001B[38;5;241m.\u001B[39mindex], y_temp\u001B[38;5;241m.\u001B[39miloc[X_test\u001B[38;5;241m.\u001B[39mindex]\n\u001B[0;32m    120\u001B[0m \u001B[38;5;66;03m# Define parameter distributions for RandomizedSearchCV\u001B[39;00m\n\u001B[0;32m    121\u001B[0m param_distributions \u001B[38;5;241m=\u001B[39m {\n\u001B[0;32m    122\u001B[0m     \u001B[38;5;124m'\u001B[39m\u001B[38;5;124mregressor__learning_rate\u001B[39m\u001B[38;5;124m'\u001B[39m: uniform(\u001B[38;5;241m0.01\u001B[39m, \u001B[38;5;241m0.3\u001B[39m),\n\u001B[0;32m    123\u001B[0m     \u001B[38;5;124m'\u001B[39m\u001B[38;5;124mregressor__max_depth\u001B[39m\u001B[38;5;124m'\u001B[39m: randint(\u001B[38;5;241m3\u001B[39m, \u001B[38;5;241m50\u001B[39m),\n\u001B[1;32m   (...)\u001B[0m\n\u001B[0;32m    127\u001B[0m     \u001B[38;5;124m'\u001B[39m\u001B[38;5;124mregressor__l2_regularization\u001B[39m\u001B[38;5;124m'\u001B[39m: uniform(\u001B[38;5;241m0\u001B[39m, \u001B[38;5;241m10\u001B[39m)\n\u001B[0;32m    128\u001B[0m }\n",
      "File \u001B[1;32m~\\miniconda3\\Lib\\site-packages\\pandas\\core\\indexing.py:1191\u001B[0m, in \u001B[0;36m_LocationIndexer.__getitem__\u001B[1;34m(self, key)\u001B[0m\n\u001B[0;32m   1189\u001B[0m maybe_callable \u001B[38;5;241m=\u001B[39m com\u001B[38;5;241m.\u001B[39mapply_if_callable(key, \u001B[38;5;28mself\u001B[39m\u001B[38;5;241m.\u001B[39mobj)\n\u001B[0;32m   1190\u001B[0m maybe_callable \u001B[38;5;241m=\u001B[39m \u001B[38;5;28mself\u001B[39m\u001B[38;5;241m.\u001B[39m_check_deprecated_callable_usage(key, maybe_callable)\n\u001B[1;32m-> 1191\u001B[0m \u001B[38;5;28;01mreturn\u001B[39;00m \u001B[38;5;28mself\u001B[39m\u001B[38;5;241m.\u001B[39m_getitem_axis(maybe_callable, axis\u001B[38;5;241m=\u001B[39maxis)\n",
      "File \u001B[1;32m~\\miniconda3\\Lib\\site-packages\\pandas\\core\\indexing.py:1743\u001B[0m, in \u001B[0;36m_iLocIndexer._getitem_axis\u001B[1;34m(self, key, axis)\u001B[0m\n\u001B[0;32m   1741\u001B[0m \u001B[38;5;66;03m# a list of integers\u001B[39;00m\n\u001B[0;32m   1742\u001B[0m \u001B[38;5;28;01melif\u001B[39;00m is_list_like_indexer(key):\n\u001B[1;32m-> 1743\u001B[0m     \u001B[38;5;28;01mreturn\u001B[39;00m \u001B[38;5;28mself\u001B[39m\u001B[38;5;241m.\u001B[39m_get_list_axis(key, axis\u001B[38;5;241m=\u001B[39maxis)\n\u001B[0;32m   1745\u001B[0m \u001B[38;5;66;03m# a single integer\u001B[39;00m\n\u001B[0;32m   1746\u001B[0m \u001B[38;5;28;01melse\u001B[39;00m:\n\u001B[0;32m   1747\u001B[0m     key \u001B[38;5;241m=\u001B[39m item_from_zerodim(key)\n",
      "File \u001B[1;32m~\\miniconda3\\Lib\\site-packages\\pandas\\core\\indexing.py:1717\u001B[0m, in \u001B[0;36m_iLocIndexer._get_list_axis\u001B[1;34m(self, key, axis)\u001B[0m\n\u001B[0;32m   1714\u001B[0m     \u001B[38;5;28;01mreturn\u001B[39;00m \u001B[38;5;28mself\u001B[39m\u001B[38;5;241m.\u001B[39mobj\u001B[38;5;241m.\u001B[39m_take_with_is_copy(key, axis\u001B[38;5;241m=\u001B[39maxis)\n\u001B[0;32m   1715\u001B[0m \u001B[38;5;28;01mexcept\u001B[39;00m \u001B[38;5;167;01mIndexError\u001B[39;00m \u001B[38;5;28;01mas\u001B[39;00m err:\n\u001B[0;32m   1716\u001B[0m     \u001B[38;5;66;03m# re-raise with different error message, e.g. test_getitem_ndarray_3d\u001B[39;00m\n\u001B[1;32m-> 1717\u001B[0m     \u001B[38;5;28;01mraise\u001B[39;00m \u001B[38;5;167;01mIndexError\u001B[39;00m(\u001B[38;5;124m\"\u001B[39m\u001B[38;5;124mpositional indexers are out-of-bounds\u001B[39m\u001B[38;5;124m\"\u001B[39m) \u001B[38;5;28;01mfrom\u001B[39;00m \u001B[38;5;21;01merr\u001B[39;00m\n",
      "\u001B[1;31mIndexError\u001B[0m: positional indexers are out-of-bounds"
     ]
    }
   ],
   "execution_count": 17
  },
  {
   "metadata": {},
   "cell_type": "markdown",
   "source": "# Multiple models",
   "id": "7238eae0a8d2af97"
  },
  {
   "metadata": {
    "ExecuteTime": {
     "end_time": "2024-11-04T22:01:50.377099Z",
     "start_time": "2024-11-04T21:14:54.470629Z"
    }
   },
   "cell_type": "code",
   "source": [
    "import pandas as pd\n",
    "import numpy as np\n",
    "from sklearn.model_selection import train_test_split, cross_val_score\n",
    "from sklearn.preprocessing import RobustScaler, OneHotEncoder, StandardScaler\n",
    "from sklearn.compose import ColumnTransformer\n",
    "from sklearn.pipeline import Pipeline\n",
    "from sklearn.metrics import mean_squared_error, r2_score, mean_absolute_error\n",
    "from sklearn.impute import SimpleImputer\n",
    "from sklearn.linear_model import LinearRegression, Ridge, Lasso\n",
    "from sklearn.tree import DecisionTreeRegressor\n",
    "from sklearn.ensemble import RandomForestRegressor, GradientBoostingRegressor\n",
    "from sklearn.svm import SVR\n",
    "from sklearn.neural_network import MLPRegressor\n",
    "import logging\n",
    "from pathlib import Path\n",
    "import warnings\n",
    "import joblib\n",
    "from datetime import datetime\n",
    "from typing import Dict, Any, List\n",
    "\n",
    "# Set up logging\n",
    "logging.basicConfig(\n",
    "    level=logging.INFO,\n",
    "    format='%(asctime)s - %(levelname)s - %(message)s'\n",
    ")\n",
    "logger = logging.getLogger(__name__)\n",
    "\n",
    "class MultiModelPricePrediction:\n",
    "    def __init__(self, random_state: int = 42, tolerance: float = 5.0):\n",
    "        self.random_state = random_state\n",
    "        self.tolerance = tolerance\n",
    "        self.models = self._initialize_models()\n",
    "        self.results = {}\n",
    "        \n",
    "    def _initialize_models(self) -> Dict[str, Any]:\n",
    "        \"\"\"Initialize all models with basic parameters.\"\"\"\n",
    "        return {\n",
    "            'Linear_Regression': LinearRegression(),\n",
    "            'Ridge': Ridge(random_state=self.random_state),\n",
    "            'Lasso': Lasso(random_state=self.random_state),\n",
    "            'Decision_Tree': DecisionTreeRegressor(random_state=self.random_state),\n",
    "            'Random_Forest': RandomForestRegressor(\n",
    "                n_estimators=100,\n",
    "                random_state=self.random_state,\n",
    "                n_jobs=-1\n",
    "            ),\n",
    "            'Gradient_Boost': GradientBoostingRegressor(\n",
    "                n_estimators=100,\n",
    "                random_state=self.random_state\n",
    "            ),\n",
    "            'SVR': SVR(kernel='rbf'),\n",
    "            'Neural_Network': MLPRegressor(\n",
    "                hidden_layer_sizes=(100, 50),\n",
    "                max_iter=500,\n",
    "                random_state=self.random_state\n",
    "            )\n",
    "        }\n",
    "\n",
    "    def calculate_metrics(self, y_true: np.ndarray, y_pred: np.ndarray) -> Dict[str, float]:\n",
    "        \"\"\"Calculate comprehensive metrics including tolerance-based ones.\"\"\"\n",
    "        abs_diff = np.abs(y_true - y_pred)\n",
    "        \n",
    "        metrics = {\n",
    "            'R2_Score': r2_score(y_true, y_pred),\n",
    "            'RMSE': np.sqrt(mean_squared_error(y_true, y_pred)),\n",
    "            'MAE': mean_absolute_error(y_true, y_pred),\n",
    "            f'Within_{self.tolerance}dollars': np.mean(abs_diff <= self.tolerance) * 100,\n",
    "            'Within_1dollar': np.mean(abs_diff <= 1.0) * 100,\n",
    "            'Within_2dollars': np.mean(abs_diff <= 2.0) * 100,\n",
    "            'Mean_Error': np.mean(abs_diff),\n",
    "            'Median_Error': np.median(abs_diff),\n",
    "            'Max_Error': np.max(abs_diff)\n",
    "        }\n",
    "        \n",
    "        return metrics\n",
    "\n",
    "    def prepare_data(self, df: pd.DataFrame, \n",
    "                    target_column: str = 'avg_price',\n",
    "                    exclude_columns: List[str] = None) -> tuple:\n",
    "        \"\"\"Prepare data with preprocessing pipeline.\"\"\"\n",
    "        logger.info(\"Preparing data...\")\n",
    "        \n",
    "        exclude_columns = exclude_columns or []\n",
    "        exclude_columns = exclude_columns + [target_column]\n",
    "        \n",
    "        # Define categorical columns\n",
    "        categorical_columns = []\n",
    "        for col in df.select_dtypes(include=['object', 'category']).columns:\n",
    "            if col not in exclude_columns:\n",
    "                unique_count = df[col].nunique()\n",
    "                if unique_count < 100:\n",
    "                    categorical_columns.append(col)\n",
    "                    logger.info(f\"Column '{col}' identified as categorical with {unique_count} unique values\")\n",
    "        \n",
    "        # Select features\n",
    "        X = df.drop(columns=exclude_columns)\n",
    "        \n",
    "        # Identify numeric columns\n",
    "        numeric_cols = X.select_dtypes(include=['int64', 'float64']).columns\n",
    "        numeric_cols = [col for col in numeric_cols if col not in categorical_columns]\n",
    "        \n",
    "        logger.info(f\"Number of numeric columns: {len(numeric_cols)}\")\n",
    "        logger.info(f\"Number of categorical columns: {len(categorical_columns)}\")\n",
    "        \n",
    "        # Create preprocessor\n",
    "        numeric_transformer = Pipeline(steps=[\n",
    "            ('imputer', SimpleImputer(strategy='median')),\n",
    "            ('scaler', StandardScaler())\n",
    "        ])\n",
    "        \n",
    "        categorical_transformer = Pipeline(steps=[\n",
    "            ('imputer', SimpleImputer(strategy='constant', fill_value='missing')),\n",
    "            ('onehot', OneHotEncoder(\n",
    "                drop='if_binary',\n",
    "                sparse_output=False,\n",
    "                handle_unknown='ignore'\n",
    "            ))\n",
    "        ])\n",
    "        \n",
    "        preprocessor = ColumnTransformer(\n",
    "            transformers=[\n",
    "                ('num', numeric_transformer, numeric_cols),\n",
    "                ('cat', categorical_transformer, categorical_columns)\n",
    "            ],\n",
    "            remainder='drop'\n",
    "        )\n",
    "        \n",
    "        # Get target variable\n",
    "        y = df[target_column]\n",
    "        \n",
    "        # Remove rows with missing target values\n",
    "        if y.isnull().any():\n",
    "            valid_idx = y.notnull()\n",
    "            X = X[valid_idx]\n",
    "            y = y[valid_idx]\n",
    "        \n",
    "        return X, y, preprocessor\n",
    "\n",
    "    def train_and_evaluate(self, X: pd.DataFrame, y: pd.Series, preprocessor: ColumnTransformer) -> pd.DataFrame:\n",
    "        \"\"\"Train all models and evaluate their performance.\"\"\"\n",
    "        logger.info(\"Starting model training and evaluation...\")\n",
    "        \n",
    "        # Split data\n",
    "        X_train, X_test, y_train, y_test = train_test_split(\n",
    "            X, y, test_size=0.2, random_state=self.random_state\n",
    "        )\n",
    "        \n",
    "        results_list = []\n",
    "        \n",
    "        # Train and evaluate each model\n",
    "        for model_name, model in self.models.items():\n",
    "            try:\n",
    "                logger.info(f\"Training {model_name}...\")\n",
    "                \n",
    "                # Create pipeline\n",
    "                pipeline = Pipeline([\n",
    "                    ('preprocessor', preprocessor),\n",
    "                    ('regressor', model)\n",
    "                ])\n",
    "                \n",
    "                # Train model\n",
    "                with warnings.catch_warnings():\n",
    "                    warnings.filterwarnings('ignore')\n",
    "                    pipeline.fit(X_train, y_train)\n",
    "                \n",
    "                # Make predictions\n",
    "                y_pred_train = pipeline.predict(X_train)\n",
    "                y_pred_test = pipeline.predict(X_test)\n",
    "                \n",
    "                # Calculate metrics\n",
    "                train_metrics = self.calculate_metrics(y_train, y_pred_train)\n",
    "                test_metrics = self.calculate_metrics(y_test, y_pred_test)\n",
    "                \n",
    "                # Store results\n",
    "                result = {\n",
    "                    'Model': model_name,\n",
    "                    'Timestamp': datetime.now().strftime('%Y-%m-%d %H:%M:%S')\n",
    "                }\n",
    "                \n",
    "                # Add train metrics\n",
    "                for metric_name, value in train_metrics.items():\n",
    "                    result[f'Train_{metric_name}'] = value\n",
    "                \n",
    "                # Add test metrics\n",
    "                for metric_name, value in test_metrics.items():\n",
    "                    result[f'Test_{metric_name}'] = value\n",
    "                \n",
    "                results_list.append(result)\n",
    "                \n",
    "                # Save the model\n",
    "                model_path = Path('output/models')\n",
    "                model_path.mkdir(parents=True, exist_ok=True)\n",
    "                joblib.dump(pipeline, model_path / f'{model_name}_pipeline.joblib')\n",
    "                \n",
    "                logger.info(f\"Completed training {model_name}\")\n",
    "                \n",
    "            except Exception as e:\n",
    "                logger.error(f\"Error training {model_name}: {str(e)}\")\n",
    "                continue\n",
    "        \n",
    "        # Create DataFrame with results\n",
    "        results_df = pd.DataFrame(results_list)\n",
    "        \n",
    "        # Save results\n",
    "        output_path = Path('output')\n",
    "        output_path.mkdir(exist_ok=True)\n",
    "        results_df.to_csv(output_path / 'model_comparison_results.csv', index=False)\n",
    "        \n",
    "        return results_df\n",
    "\n",
    "def main():\n",
    "    logger.info(\"Starting price prediction pipeline...\")\n",
    "    \n",
    "    try:\n",
    "        # Create output directory\n",
    "        output_dir = Path('output')\n",
    "        output_dir.mkdir(exist_ok=True)\n",
    "        \n",
    "        # Read the data\n",
    "        df = pd.read_csv('cleaned_data/machine_learning/ml_final_processed_listings_data.csv')\n",
    "        logger.info(f\"Loaded dataset with {len(df)} rows and {len(df.columns)} columns\")\n",
    "        \n",
    "        # Columns to exclude\n",
    "        exclude_cols = [\n",
    "            'id', 'host_id',\n",
    "            'last_scraped', 'first_review', 'last_review',\n",
    "            'calendar_last_scraped', 'price_period_start', 'price_period_end',\n",
    "            'name', 'amenities',\n",
    "            'minimum_minimum_nights', 'maximum_minimum_nights',\n",
    "            'minimum_maximum_nights', 'maximum_maximum_nights',\n",
    "            'number_of_listings', 'price_std',\n",
    "            'latitude', 'longitude',\n",
    "            'avg_price'\n",
    "        ]\n",
    "        \n",
    "        # Initialize pipeline\n",
    "        pipeline = MultiModelPricePrediction()\n",
    "        \n",
    "        # Prepare data\n",
    "        X, y, preprocessor = pipeline.prepare_data(\n",
    "            df, \n",
    "            target_column='avg_price',\n",
    "            exclude_columns=exclude_cols\n",
    "        )\n",
    "        \n",
    "        # Train and evaluate all models\n",
    "        results = pipeline.train_and_evaluate(X, y, preprocessor)\n",
    "        \n",
    "        # Display results\n",
    "        print(\"\\nModel Comparison Results:\")\n",
    "        print(results.to_string())\n",
    "        \n",
    "        logger.info(\"Pipeline completed successfully!\")\n",
    "        \n",
    "    except Exception as e:\n",
    "        logger.error(f\"An error occurred: {str(e)}\", exc_info=True)\n",
    "        raise\n",
    "\n",
    "if __name__ == \"__main__\":\n",
    "    main()"
   ],
   "id": "1d4bfc5e58a2cd94",
   "outputs": [
    {
     "name": "stderr",
     "output_type": "stream",
     "text": [
      "2024-11-04 22:14:54,509 - INFO - Starting price prediction pipeline...\n",
      "2024-11-04 22:14:56,004 - INFO - Loaded dataset with 107937 rows and 58 columns\n",
      "2024-11-04 22:14:56,005 - INFO - Preparing data...\n",
      "2024-11-04 22:14:56,023 - INFO - Column 'neighbourhood_cleansed' identified as categorical with 20 unique values\n",
      "2024-11-04 22:14:56,029 - INFO - Column 'property_type' identified as categorical with 69 unique values\n",
      "2024-11-04 22:14:56,035 - INFO - Column 'room_type' identified as categorical with 4 unique values\n",
      "2024-11-04 22:14:56,039 - INFO - Column 'has_availability' identified as categorical with 2 unique values\n",
      "2024-11-04 22:14:56,043 - INFO - Column 'instant_bookable' identified as categorical with 2 unique values\n",
      "2024-11-04 22:14:56,050 - INFO - Column 'closest_venue' identified as categorical with 25 unique values\n",
      "2024-11-04 22:14:56,068 - INFO - Number of numeric columns: 32\n",
      "2024-11-04 22:14:56,069 - INFO - Number of categorical columns: 6\n",
      "2024-11-04 22:14:56,070 - INFO - Starting model training and evaluation...\n",
      "2024-11-04 22:14:56,107 - INFO - Training Linear_Regression...\n",
      "C:\\Users\\sjokk\\miniconda3\\Lib\\site-packages\\sklearn\\preprocessing\\_encoders.py:242: UserWarning: Found unknown categories in columns [1] during transform. These unknown categories will be encoded as all zeros\n",
      "  warnings.warn(\n",
      "2024-11-04 22:14:57,328 - INFO - Completed training Linear_Regression\n",
      "2024-11-04 22:14:57,328 - INFO - Training Ridge...\n",
      "C:\\Users\\sjokk\\miniconda3\\Lib\\site-packages\\sklearn\\preprocessing\\_encoders.py:242: UserWarning: Found unknown categories in columns [1] during transform. These unknown categories will be encoded as all zeros\n",
      "  warnings.warn(\n",
      "2024-11-04 22:14:58,213 - INFO - Completed training Ridge\n",
      "2024-11-04 22:14:58,213 - INFO - Training Lasso...\n",
      "C:\\Users\\sjokk\\miniconda3\\Lib\\site-packages\\sklearn\\preprocessing\\_encoders.py:242: UserWarning: Found unknown categories in columns [1] during transform. These unknown categories will be encoded as all zeros\n",
      "  warnings.warn(\n",
      "2024-11-04 22:14:59,350 - INFO - Completed training Lasso\n",
      "2024-11-04 22:14:59,350 - INFO - Training Decision_Tree...\n",
      "C:\\Users\\sjokk\\miniconda3\\Lib\\site-packages\\sklearn\\preprocessing\\_encoders.py:242: UserWarning: Found unknown categories in columns [1] during transform. These unknown categories will be encoded as all zeros\n",
      "  warnings.warn(\n",
      "2024-11-04 22:15:03,894 - INFO - Completed training Decision_Tree\n",
      "2024-11-04 22:15:03,895 - INFO - Training Random_Forest...\n",
      "C:\\Users\\sjokk\\miniconda3\\Lib\\site-packages\\sklearn\\preprocessing\\_encoders.py:242: UserWarning: Found unknown categories in columns [1] during transform. These unknown categories will be encoded as all zeros\n",
      "  warnings.warn(\n",
      "2024-11-04 22:15:58,516 - INFO - Completed training Random_Forest\n",
      "2024-11-04 22:15:58,517 - INFO - Training Gradient_Boost...\n",
      "C:\\Users\\sjokk\\miniconda3\\Lib\\site-packages\\sklearn\\preprocessing\\_encoders.py:242: UserWarning: Found unknown categories in columns [1] during transform. These unknown categories will be encoded as all zeros\n",
      "  warnings.warn(\n",
      "2024-11-04 22:17:12,253 - INFO - Completed training Gradient_Boost\n",
      "2024-11-04 22:17:12,254 - INFO - Training SVR...\n",
      "C:\\Users\\sjokk\\miniconda3\\Lib\\site-packages\\sklearn\\preprocessing\\_encoders.py:242: UserWarning: Found unknown categories in columns [1] during transform. These unknown categories will be encoded as all zeros\n",
      "  warnings.warn(\n",
      "2024-11-04 22:58:12,062 - INFO - Completed training SVR\n",
      "2024-11-04 22:58:12,063 - INFO - Training Neural_Network...\n",
      "C:\\Users\\sjokk\\miniconda3\\Lib\\site-packages\\sklearn\\preprocessing\\_encoders.py:242: UserWarning: Found unknown categories in columns [1] during transform. These unknown categories will be encoded as all zeros\n",
      "  warnings.warn(\n",
      "2024-11-04 23:01:50,100 - INFO - Completed training Neural_Network\n",
      "2024-11-04 23:01:50,150 - INFO - Pipeline completed successfully!\n"
     ]
    },
    {
     "name": "stdout",
     "output_type": "stream",
     "text": [
      "\n",
      "Model Comparison Results:\n",
      "               Model            Timestamp  Train_R2_Score  Train_RMSE   Train_MAE  Train_Within_5.0dollars  Train_Within_1dollar  Train_Within_2dollars  Train_Mean_Error  Train_Median_Error  Train_Max_Error  Test_R2_Score     Test_RMSE      Test_MAE  Test_Within_5.0dollars  Test_Within_1dollar  Test_Within_2dollars  Test_Mean_Error  Test_Median_Error  Test_Max_Error\n",
      "0  Linear_Regression  2024-11-04 22:14:57        0.333500  199.570616  122.992889                 3.715156              0.823403               1.549526        122.992889           77.500000      3335.000000  -6.987978e+18  6.251395e+11  4.254718e+09                3.617751             0.787475              1.491569     4.254718e+09          78.500000    9.185084e+13\n",
      "1              Ridge  2024-11-04 22:14:58        0.366400  194.582765  117.373553                 3.752215              0.804873               1.525206        117.373553           72.480146      3360.600902   2.495402e-01  2.048637e+02  1.163948e+02                3.645544             0.768946              1.510098     1.163948e+02          73.654699    1.127607e+04\n",
      "2              Lasso  2024-11-04 22:14:59        0.346229  197.655827  117.578137                 3.629457              0.685590               1.462669        117.578137           73.298581      3359.656752   3.333107e-01  1.930914e+02  1.162669e+02                3.576061             0.736520              1.519363     1.162669e+02          74.516152    3.327045e+03\n",
      "3      Decision_Tree  2024-11-04 22:15:03        0.999997    0.415809    0.006701                99.969890             99.959467              99.961783          0.006701            0.000000        45.000000   2.369623e-02  2.336650e+02  1.247332e+02                9.611821             4.849917              5.674449     1.247332e+02          50.000000    1.700000e+03\n",
      "4      Random_Forest  2024-11-04 22:15:58        0.933301   63.132838   35.331202                18.378904              3.982675               7.775423         35.331202           17.313300       683.948200   5.162828e-01  1.644739e+02  9.341794e+01                6.721327             1.310913              2.672781     9.341794e+01          46.079050    1.456750e+03\n",
      "5     Gradient_Boost  2024-11-04 22:17:12        0.474211  177.256639  102.011624                 5.475454              1.080499               2.218902        102.011624           55.998124      1596.530347   4.560809e-01  1.744088e+02  1.011139e+02                5.503057             1.167315              2.223457     1.011139e+02          56.562768    1.473951e+03\n",
      "6                SVR  2024-11-04 22:58:12        0.260485  210.218154  102.378186                 7.804375              1.756824               3.273923        102.378186           40.296059      1658.293393   2.646226e-01  2.027946e+02  9.908449e+01                7.351306             1.403558              2.936817     9.908449e+01          41.011991    1.600369e+03\n",
      "7     Neural_Network  2024-11-04 23:01:50        0.632177  148.257266   88.070469                 6.280328              1.227576               2.433149         88.070469           48.880342      1593.015323  -1.137732e+01  8.319829e+02  1.086600e+02                5.642023             1.195108              2.306837     1.086600e+02          55.421952    1.195170e+05\n"
     ]
    }
   ],
   "execution_count": 4
  },
  {
   "metadata": {},
   "cell_type": "markdown",
   "source": "# Visualize",
   "id": "724e1f59b9360de1"
  },
  {
   "metadata": {
    "ExecuteTime": {
     "end_time": "2024-11-04T22:23:45.315691Z",
     "start_time": "2024-11-04T22:23:43.566472Z"
    }
   },
   "cell_type": "code",
   "source": [
    "import pandas as pd\n",
    "import numpy as np\n",
    "import seaborn as sns\n",
    "import matplotlib.pyplot as plt\n",
    "import plotly.express as px\n",
    "import plotly.graph_objects as go\n",
    "from plotly.subplots import make_subplots\n",
    "from pathlib import Path\n",
    "\n",
    "class EnhancedModelVisualization:\n",
    "    def __init__(self, results_path: str = 'output/model_comparison_results.csv'):\n",
    "        \"\"\"Initialize with path to results CSV file.\"\"\"\n",
    "        self.results_df = pd.read_csv(results_path)\n",
    "        self.output_dir = Path('output/visualizations')\n",
    "        self.output_dir.mkdir(parents=True, exist_ok=True)\n",
    "        \n",
    "        # Filter out extremely poor performing models\n",
    "        self.filter_outlier_models()\n",
    "        \n",
    "    def filter_outlier_models(self, r2_threshold: float = -1.0):\n",
    "        \"\"\"Remove models with extremely poor performance.\"\"\"\n",
    "        original_count = len(self.results_df)\n",
    "        self.results_df = self.results_df[self.results_df['Test_R2_Score'] > r2_threshold]\n",
    "        filtered_count = len(self.results_df)\n",
    "        \n",
    "        if filtered_count < original_count:\n",
    "            print(f\"Filtered out {original_count - filtered_count} models with R² score below {r2_threshold}\")\n",
    "            print(\"Filtered models:\", self.results_df[~self.results_df['Test_R2_Score'].gt(r2_threshold)]['Model'].tolist())\n",
    "    \n",
    "    def plot_overall_comparison(self):\n",
    "        \"\"\"Create a comprehensive comparison of all models.\"\"\"\n",
    "        metrics = ['R2_Score', 'RMSE', 'MAE', 'Within_5.0dollars']\n",
    "        test_metrics = [f'Test_{metric}' for metric in metrics]\n",
    "        \n",
    "        fig = make_subplots(\n",
    "            rows=2, cols=2,\n",
    "            subplot_titles=[metric.replace('Test_', '').replace('_', ' ') for metric in test_metrics]\n",
    "        )\n",
    "        \n",
    "        for idx, metric in enumerate(test_metrics, 1):\n",
    "            row = (idx - 1) // 2 + 1\n",
    "            col = (idx - 1) % 2 + 1\n",
    "            \n",
    "            # Sort models by metric value\n",
    "            sorted_df = self.results_df.sort_values(metric, ascending='RMSE' in metric or 'MAE' in metric)\n",
    "            \n",
    "            fig.add_trace(\n",
    "                go.Bar(\n",
    "                    x=sorted_df['Model'],\n",
    "                    y=sorted_df[metric],\n",
    "                    name=metric.replace('Test_', ''),\n",
    "                    text=sorted_df[metric].round(2),\n",
    "                    textposition='auto',\n",
    "                    hovertemplate=\"%{x}<br>%{y:.2f}<extra></extra>\"\n",
    "                ),\n",
    "                row=row, col=col\n",
    "            )\n",
    "            \n",
    "            # Update axes labels\n",
    "            fig.update_xaxes(title_text=\"Model\", row=row, col=col)\n",
    "            fig.update_yaxes(title_text=metric.replace('Test_', '').replace('_', ' '), row=row, col=col)\n",
    "        \n",
    "        fig.update_layout(\n",
    "            height=800,\n",
    "            width=1200,\n",
    "            title_text=\"Model Performance Comparison\",\n",
    "            showlegend=False,\n",
    "            template=\"plotly_white\"\n",
    "        )\n",
    "        \n",
    "        fig.write_html(self.output_dir / 'overall_comparison.html')\n",
    "        fig.show()\n",
    "    \n",
    "    def plot_tolerance_comparison(self):\n",
    "        \"\"\"Plot tolerance-based metrics comparison.\"\"\"\n",
    "        tolerance_cols = [col for col in self.results_df.columns \n",
    "                         if 'Within' in col and 'Test' in col]\n",
    "        \n",
    "        # Melt the dataframe for easier plotting\n",
    "        melted_df = pd.melt(\n",
    "            self.results_df,\n",
    "            id_vars=['Model'],\n",
    "            value_vars=tolerance_cols,\n",
    "            var_name='Tolerance',\n",
    "            value_name='Percentage'\n",
    "        )\n",
    "        \n",
    "        # Clean up tolerance labels\n",
    "        melted_df['Tolerance'] = melted_df['Tolerance'].apply(\n",
    "            lambda x: x.replace('Test_Within_', '')\n",
    "                      .replace('dollars', ' dollars')\n",
    "                      .replace('.0', '')\n",
    "        )\n",
    "        \n",
    "        # Sort models by their best performance\n",
    "        model_order = self.results_df.sort_values('Test_Within_5.0dollars', ascending=False)['Model'].tolist()\n",
    "        \n",
    "        fig = px.bar(\n",
    "            melted_df,\n",
    "            x='Model',\n",
    "            y='Percentage',\n",
    "            color='Tolerance',\n",
    "            title='Percentage of Predictions Within Different Price Ranges',\n",
    "            barmode='group',\n",
    "            category_orders={\"Model\": model_order}\n",
    "        )\n",
    "        \n",
    "        fig.update_layout(\n",
    "            height=600,\n",
    "            width=1200,\n",
    "            yaxis_title=\"Percentage of Predictions (%)\",\n",
    "            xaxis_title=\"Model\",\n",
    "            template=\"plotly_white\"\n",
    "        )\n",
    "        \n",
    "        fig.write_html(self.output_dir / 'tolerance_comparison.html')\n",
    "        fig.show()\n",
    "    \n",
    "    def plot_train_test_comparison(self):\n",
    "        \"\"\"Plot training vs test performance with error bars.\"\"\"\n",
    "        metrics = ['R2_Score', 'RMSE', 'MAE']\n",
    "        \n",
    "        fig = make_subplots(\n",
    "            rows=len(metrics), cols=1,\n",
    "            subplot_titles=[f\"{metric.replace('_', ' ')} - Train vs Test\" for metric in metrics],\n",
    "            height=300 * len(metrics)\n",
    "        )\n",
    "        \n",
    "        colors = {'Train': '#1f77b4', 'Test': '#ff7f0e'}\n",
    "        \n",
    "        for idx, metric in enumerate(metrics, 1):\n",
    "            # Sort models by test performance\n",
    "            sort_ascending = 'RMSE' in metric or 'MAE' in metric\n",
    "            sorted_df = self.results_df.sort_values(f'Test_{metric}', ascending=sort_ascending)\n",
    "            \n",
    "            for dataset in ['Train', 'Test']:\n",
    "                fig.add_trace(\n",
    "                    go.Bar(\n",
    "                        name=f'{dataset} {metric}',\n",
    "                        x=sorted_df['Model'],\n",
    "                        y=sorted_df[f'{dataset}_{metric}'],\n",
    "                        text=sorted_df[f'{dataset}_{metric}'].round(2),\n",
    "                        textposition='auto',\n",
    "                        marker_color=colors[dataset],\n",
    "                        showlegend=idx==1,\n",
    "                        hovertemplate=\"%{x}<br>%{y:.2f}<extra></extra>\"\n",
    "                    ),\n",
    "                    row=idx, col=1\n",
    "                )\n",
    "        \n",
    "        fig.update_layout(\n",
    "            title_text=\"Train vs Test Performance Comparison\",\n",
    "            width=1200,\n",
    "            showlegend=True,\n",
    "            barmode='group',\n",
    "            template=\"plotly_white\"\n",
    "        )\n",
    "        \n",
    "        fig.write_html(self.output_dir / 'train_test_comparison.html')\n",
    "        fig.show()\n",
    "    \n",
    "    def create_summary_report(self):\n",
    "        \"\"\"Create an enhanced summary report with relative performance scores.\"\"\"\n",
    "        # Calculate rankings for each metric\n",
    "        ranking_metrics = [col for col in self.results_df.columns \n",
    "                         if 'Test_' in col and col != 'Test_Max_Error']\n",
    "        \n",
    "        # Initialize rankings dataframe\n",
    "        rankings = pd.DataFrame()\n",
    "        \n",
    "        # Calculate rankings and normalized scores\n",
    "        for metric in ranking_metrics:\n",
    "            ascending = 'RMSE' in metric or 'MAE' in metric\n",
    "            \n",
    "            # Calculate rank\n",
    "            rankings[f'{metric}_rank'] = self.results_df[metric].rank(ascending=ascending)\n",
    "            \n",
    "            # Calculate normalized score (0-100)\n",
    "            if ascending:\n",
    "                rankings[f'{metric}_score'] = 100 * (self.results_df[metric].max() - self.results_df[metric]) / (self.results_df[metric].max() - self.results_df[metric].min())\n",
    "            else:\n",
    "                rankings[f'{metric}_score'] = 100 * (self.results_df[metric] - self.results_df[metric].min()) / (self.results_df[metric].max() - self.results_df[metric].min())\n",
    "        \n",
    "        # Calculate average scores\n",
    "        rankings['Average_Score'] = rankings[[col for col in rankings.columns if 'score' in col]].mean(axis=1)\n",
    "        self.results_df['Overall_Score'] = rankings['Average_Score']\n",
    "        \n",
    "        # Sort by overall score\n",
    "        summary = self.results_df.sort_values('Overall_Score', ascending=False)\n",
    "        \n",
    "        # Create summary visualization\n",
    "        fig = go.Figure(data=[\n",
    "            go.Table(\n",
    "                header=dict(\n",
    "                    values=['Model', 'Overall_Score'] + [col for col in self.results_df.columns \n",
    "                                                       if 'Test_' in col],\n",
    "                    font=dict(size=12),\n",
    "                    align='left'\n",
    "                ),\n",
    "                cells=dict(\n",
    "                    values=[summary[col] for col in summary.columns],\n",
    "                    font=dict(size=11),\n",
    "                    align='left',\n",
    "                    format=[None] + ['.2f'] * (len(summary.columns) - 1)\n",
    "                )\n",
    "            )\n",
    "        ])\n",
    "        \n",
    "        fig.update_layout(\n",
    "            title=\"Model Performance Summary (Ranked by Overall Score)\",\n",
    "            width=1200,\n",
    "            height=400\n",
    "        )\n",
    "        \n",
    "        # Save results\n",
    "        summary.to_csv(self.output_dir / 'model_summary_with_scores.csv', index=False)\n",
    "        fig.write_html(self.output_dir / 'performance_summary.html')\n",
    "        fig.show()\n",
    "    \n",
    "    def plot_error_distribution(self):\n",
    "        \"\"\"Plot error distribution comparison for all models.\"\"\"\n",
    "        fig = go.Figure()\n",
    "        \n",
    "        for model in self.results_df['Model']:\n",
    "            mae = self.results_df[self.results_df['Model'] == model]['Test_MAE'].values[0]\n",
    "            rmse = self.results_df[self.results_df['Model'] == model]['Test_RMSE'].values[0]\n",
    "            \n",
    "            # Create normal distribution based on MAE and RMSE\n",
    "            x = np.linspace(-3*rmse, 3*rmse, 100)\n",
    "            y = np.exp(-(x**2)/(2*rmse**2)) / (rmse*np.sqrt(2*np.pi))\n",
    "            \n",
    "            fig.add_trace(go.Scatter(\n",
    "                x=x,\n",
    "                y=y,\n",
    "                name=model,\n",
    "                mode='lines',\n",
    "                hovertemplate=f\"Model: {model}<br>MAE: {mae:.2f}<br>RMSE: {rmse:.2f}<extra></extra>\"\n",
    "            ))\n",
    "        \n",
    "        fig.update_layout(\n",
    "            title=\"Error Distribution Comparison\",\n",
    "            xaxis_title=\"Prediction Error ($)\",\n",
    "            yaxis_title=\"Density\",\n",
    "            width=1200,\n",
    "            height=600,\n",
    "            template=\"plotly_white\"\n",
    "        )\n",
    "        \n",
    "        fig.write_html(self.output_dir / 'error_distribution.html')\n",
    "        fig.show()\n",
    "\n",
    "def main():\n",
    "    \"\"\"Generate all visualizations.\"\"\"\n",
    "    visualizer = EnhancedModelVisualization()\n",
    "    \n",
    "    print(\"Generating enhanced visualizations...\")\n",
    "    \n",
    "    visualizer.plot_overall_comparison()\n",
    "    visualizer.plot_tolerance_comparison()\n",
    "    visualizer.plot_train_test_comparison()\n",
    "    visualizer.create_summary_report()\n",
    "    visualizer.plot_error_distribution()\n",
    "    \n",
    "    print(\"\\nVisualizations have been saved to the 'output/visualizations' directory.\")\n",
    "    print(\"The following files were created:\")\n",
    "    for file in visualizer.output_dir.glob('*.html'):\n",
    "        print(f\"- {file.name}\")\n",
    "\n",
    "if __name__ == \"__main__\":\n",
    "    main()"
   ],
   "id": "452403167bef4871",
   "outputs": [
    {
     "name": "stdout",
     "output_type": "stream",
     "text": [
      "Filtered out 2 models with R² score below -1.0\n",
      "Filtered models: []\n",
      "Generating enhanced visualizations...\n"
     ]
    },
    {
     "data": {
      "application/vnd.plotly.v1+json": {
       "data": [
        {
         "hovertemplate": "%{x}<br>%{y:.2f}<extra></extra>",
         "name": "R2_Score",
         "text": [
          0.52,
          0.46,
          0.33,
          0.26,
          0.25,
          0.02
         ],
         "textposition": "auto",
         "x": [
          "Random_Forest",
          "Gradient_Boost",
          "Lasso",
          "SVR",
          "Ridge",
          "Decision_Tree"
         ],
         "y": [
          0.5162827528994194,
          0.4560808864430845,
          0.333310691074306,
          0.2646225586740323,
          0.2495401600099933,
          0.0236962288006301
         ],
         "type": "bar",
         "xaxis": "x",
         "yaxis": "y"
        },
        {
         "hovertemplate": "%{x}<br>%{y:.2f}<extra></extra>",
         "name": "RMSE",
         "text": [
          164.47,
          174.41,
          193.09,
          202.79,
          204.86,
          233.66
         ],
         "textposition": "auto",
         "x": [
          "Random_Forest",
          "Gradient_Boost",
          "Lasso",
          "SVR",
          "Ridge",
          "Decision_Tree"
         ],
         "y": [
          164.47389099367808,
          174.40877857747031,
          193.09139753899527,
          202.7945745918617,
          204.86365118152384,
          233.66499910198496
         ],
         "type": "bar",
         "xaxis": "x2",
         "yaxis": "y2"
        },
        {
         "hovertemplate": "%{x}<br>%{y:.2f}<extra></extra>",
         "name": "MAE",
         "text": [
          93.42,
          99.08,
          101.11,
          116.27,
          116.39,
          124.73
         ],
         "textposition": "auto",
         "x": [
          "Random_Forest",
          "SVR",
          "Gradient_Boost",
          "Lasso",
          "Ridge",
          "Decision_Tree"
         ],
         "y": [
          93.41793951124929,
          99.08448581522774,
          101.11389839704226,
          116.26694681463164,
          116.3947885644582,
          124.73319143351245
         ],
         "type": "bar",
         "xaxis": "x3",
         "yaxis": "y3"
        },
        {
         "hovertemplate": "%{x}<br>%{y:.2f}<extra></extra>",
         "name": "Within_5.0dollars",
         "text": [
          9.61,
          7.35,
          6.72,
          5.5,
          3.65,
          3.58
         ],
         "textposition": "auto",
         "x": [
          "Decision_Tree",
          "SVR",
          "Random_Forest",
          "Gradient_Boost",
          "Ridge",
          "Lasso"
         ],
         "y": [
          9.6118213822494,
          7.351306281267371,
          6.721326662960904,
          5.503057254030017,
          3.645543820641097,
          3.576060774504354
         ],
         "type": "bar",
         "xaxis": "x4",
         "yaxis": "y4"
        }
       ],
       "layout": {
        "template": {
         "data": {
          "barpolar": [
           {
            "marker": {
             "line": {
              "color": "white",
              "width": 0.5
             },
             "pattern": {
              "fillmode": "overlay",
              "size": 10,
              "solidity": 0.2
             }
            },
            "type": "barpolar"
           }
          ],
          "bar": [
           {
            "error_x": {
             "color": "#2a3f5f"
            },
            "error_y": {
             "color": "#2a3f5f"
            },
            "marker": {
             "line": {
              "color": "white",
              "width": 0.5
             },
             "pattern": {
              "fillmode": "overlay",
              "size": 10,
              "solidity": 0.2
             }
            },
            "type": "bar"
           }
          ],
          "carpet": [
           {
            "aaxis": {
             "endlinecolor": "#2a3f5f",
             "gridcolor": "#C8D4E3",
             "linecolor": "#C8D4E3",
             "minorgridcolor": "#C8D4E3",
             "startlinecolor": "#2a3f5f"
            },
            "baxis": {
             "endlinecolor": "#2a3f5f",
             "gridcolor": "#C8D4E3",
             "linecolor": "#C8D4E3",
             "minorgridcolor": "#C8D4E3",
             "startlinecolor": "#2a3f5f"
            },
            "type": "carpet"
           }
          ],
          "choropleth": [
           {
            "colorbar": {
             "outlinewidth": 0,
             "ticks": ""
            },
            "type": "choropleth"
           }
          ],
          "contourcarpet": [
           {
            "colorbar": {
             "outlinewidth": 0,
             "ticks": ""
            },
            "type": "contourcarpet"
           }
          ],
          "contour": [
           {
            "colorbar": {
             "outlinewidth": 0,
             "ticks": ""
            },
            "colorscale": [
             [
              0.0,
              "#0d0887"
             ],
             [
              0.1111111111111111,
              "#46039f"
             ],
             [
              0.2222222222222222,
              "#7201a8"
             ],
             [
              0.3333333333333333,
              "#9c179e"
             ],
             [
              0.4444444444444444,
              "#bd3786"
             ],
             [
              0.5555555555555556,
              "#d8576b"
             ],
             [
              0.6666666666666666,
              "#ed7953"
             ],
             [
              0.7777777777777778,
              "#fb9f3a"
             ],
             [
              0.8888888888888888,
              "#fdca26"
             ],
             [
              1.0,
              "#f0f921"
             ]
            ],
            "type": "contour"
           }
          ],
          "heatmapgl": [
           {
            "colorbar": {
             "outlinewidth": 0,
             "ticks": ""
            },
            "colorscale": [
             [
              0.0,
              "#0d0887"
             ],
             [
              0.1111111111111111,
              "#46039f"
             ],
             [
              0.2222222222222222,
              "#7201a8"
             ],
             [
              0.3333333333333333,
              "#9c179e"
             ],
             [
              0.4444444444444444,
              "#bd3786"
             ],
             [
              0.5555555555555556,
              "#d8576b"
             ],
             [
              0.6666666666666666,
              "#ed7953"
             ],
             [
              0.7777777777777778,
              "#fb9f3a"
             ],
             [
              0.8888888888888888,
              "#fdca26"
             ],
             [
              1.0,
              "#f0f921"
             ]
            ],
            "type": "heatmapgl"
           }
          ],
          "heatmap": [
           {
            "colorbar": {
             "outlinewidth": 0,
             "ticks": ""
            },
            "colorscale": [
             [
              0.0,
              "#0d0887"
             ],
             [
              0.1111111111111111,
              "#46039f"
             ],
             [
              0.2222222222222222,
              "#7201a8"
             ],
             [
              0.3333333333333333,
              "#9c179e"
             ],
             [
              0.4444444444444444,
              "#bd3786"
             ],
             [
              0.5555555555555556,
              "#d8576b"
             ],
             [
              0.6666666666666666,
              "#ed7953"
             ],
             [
              0.7777777777777778,
              "#fb9f3a"
             ],
             [
              0.8888888888888888,
              "#fdca26"
             ],
             [
              1.0,
              "#f0f921"
             ]
            ],
            "type": "heatmap"
           }
          ],
          "histogram2dcontour": [
           {
            "colorbar": {
             "outlinewidth": 0,
             "ticks": ""
            },
            "colorscale": [
             [
              0.0,
              "#0d0887"
             ],
             [
              0.1111111111111111,
              "#46039f"
             ],
             [
              0.2222222222222222,
              "#7201a8"
             ],
             [
              0.3333333333333333,
              "#9c179e"
             ],
             [
              0.4444444444444444,
              "#bd3786"
             ],
             [
              0.5555555555555556,
              "#d8576b"
             ],
             [
              0.6666666666666666,
              "#ed7953"
             ],
             [
              0.7777777777777778,
              "#fb9f3a"
             ],
             [
              0.8888888888888888,
              "#fdca26"
             ],
             [
              1.0,
              "#f0f921"
             ]
            ],
            "type": "histogram2dcontour"
           }
          ],
          "histogram2d": [
           {
            "colorbar": {
             "outlinewidth": 0,
             "ticks": ""
            },
            "colorscale": [
             [
              0.0,
              "#0d0887"
             ],
             [
              0.1111111111111111,
              "#46039f"
             ],
             [
              0.2222222222222222,
              "#7201a8"
             ],
             [
              0.3333333333333333,
              "#9c179e"
             ],
             [
              0.4444444444444444,
              "#bd3786"
             ],
             [
              0.5555555555555556,
              "#d8576b"
             ],
             [
              0.6666666666666666,
              "#ed7953"
             ],
             [
              0.7777777777777778,
              "#fb9f3a"
             ],
             [
              0.8888888888888888,
              "#fdca26"
             ],
             [
              1.0,
              "#f0f921"
             ]
            ],
            "type": "histogram2d"
           }
          ],
          "histogram": [
           {
            "marker": {
             "pattern": {
              "fillmode": "overlay",
              "size": 10,
              "solidity": 0.2
             }
            },
            "type": "histogram"
           }
          ],
          "mesh3d": [
           {
            "colorbar": {
             "outlinewidth": 0,
             "ticks": ""
            },
            "type": "mesh3d"
           }
          ],
          "parcoords": [
           {
            "line": {
             "colorbar": {
              "outlinewidth": 0,
              "ticks": ""
             }
            },
            "type": "parcoords"
           }
          ],
          "pie": [
           {
            "automargin": true,
            "type": "pie"
           }
          ],
          "scatter3d": [
           {
            "line": {
             "colorbar": {
              "outlinewidth": 0,
              "ticks": ""
             }
            },
            "marker": {
             "colorbar": {
              "outlinewidth": 0,
              "ticks": ""
             }
            },
            "type": "scatter3d"
           }
          ],
          "scattercarpet": [
           {
            "marker": {
             "colorbar": {
              "outlinewidth": 0,
              "ticks": ""
             }
            },
            "type": "scattercarpet"
           }
          ],
          "scattergeo": [
           {
            "marker": {
             "colorbar": {
              "outlinewidth": 0,
              "ticks": ""
             }
            },
            "type": "scattergeo"
           }
          ],
          "scattergl": [
           {
            "marker": {
             "colorbar": {
              "outlinewidth": 0,
              "ticks": ""
             }
            },
            "type": "scattergl"
           }
          ],
          "scattermapbox": [
           {
            "marker": {
             "colorbar": {
              "outlinewidth": 0,
              "ticks": ""
             }
            },
            "type": "scattermapbox"
           }
          ],
          "scatterpolargl": [
           {
            "marker": {
             "colorbar": {
              "outlinewidth": 0,
              "ticks": ""
             }
            },
            "type": "scatterpolargl"
           }
          ],
          "scatterpolar": [
           {
            "marker": {
             "colorbar": {
              "outlinewidth": 0,
              "ticks": ""
             }
            },
            "type": "scatterpolar"
           }
          ],
          "scatter": [
           {
            "fillpattern": {
             "fillmode": "overlay",
             "size": 10,
             "solidity": 0.2
            },
            "type": "scatter"
           }
          ],
          "scatterternary": [
           {
            "marker": {
             "colorbar": {
              "outlinewidth": 0,
              "ticks": ""
             }
            },
            "type": "scatterternary"
           }
          ],
          "surface": [
           {
            "colorbar": {
             "outlinewidth": 0,
             "ticks": ""
            },
            "colorscale": [
             [
              0.0,
              "#0d0887"
             ],
             [
              0.1111111111111111,
              "#46039f"
             ],
             [
              0.2222222222222222,
              "#7201a8"
             ],
             [
              0.3333333333333333,
              "#9c179e"
             ],
             [
              0.4444444444444444,
              "#bd3786"
             ],
             [
              0.5555555555555556,
              "#d8576b"
             ],
             [
              0.6666666666666666,
              "#ed7953"
             ],
             [
              0.7777777777777778,
              "#fb9f3a"
             ],
             [
              0.8888888888888888,
              "#fdca26"
             ],
             [
              1.0,
              "#f0f921"
             ]
            ],
            "type": "surface"
           }
          ],
          "table": [
           {
            "cells": {
             "fill": {
              "color": "#EBF0F8"
             },
             "line": {
              "color": "white"
             }
            },
            "header": {
             "fill": {
              "color": "#C8D4E3"
             },
             "line": {
              "color": "white"
             }
            },
            "type": "table"
           }
          ]
         },
         "layout": {
          "annotationdefaults": {
           "arrowcolor": "#2a3f5f",
           "arrowhead": 0,
           "arrowwidth": 1
          },
          "autotypenumbers": "strict",
          "coloraxis": {
           "colorbar": {
            "outlinewidth": 0,
            "ticks": ""
           }
          },
          "colorscale": {
           "diverging": [
            [
             0,
             "#8e0152"
            ],
            [
             0.1,
             "#c51b7d"
            ],
            [
             0.2,
             "#de77ae"
            ],
            [
             0.3,
             "#f1b6da"
            ],
            [
             0.4,
             "#fde0ef"
            ],
            [
             0.5,
             "#f7f7f7"
            ],
            [
             0.6,
             "#e6f5d0"
            ],
            [
             0.7,
             "#b8e186"
            ],
            [
             0.8,
             "#7fbc41"
            ],
            [
             0.9,
             "#4d9221"
            ],
            [
             1,
             "#276419"
            ]
           ],
           "sequential": [
            [
             0.0,
             "#0d0887"
            ],
            [
             0.1111111111111111,
             "#46039f"
            ],
            [
             0.2222222222222222,
             "#7201a8"
            ],
            [
             0.3333333333333333,
             "#9c179e"
            ],
            [
             0.4444444444444444,
             "#bd3786"
            ],
            [
             0.5555555555555556,
             "#d8576b"
            ],
            [
             0.6666666666666666,
             "#ed7953"
            ],
            [
             0.7777777777777778,
             "#fb9f3a"
            ],
            [
             0.8888888888888888,
             "#fdca26"
            ],
            [
             1.0,
             "#f0f921"
            ]
           ],
           "sequentialminus": [
            [
             0.0,
             "#0d0887"
            ],
            [
             0.1111111111111111,
             "#46039f"
            ],
            [
             0.2222222222222222,
             "#7201a8"
            ],
            [
             0.3333333333333333,
             "#9c179e"
            ],
            [
             0.4444444444444444,
             "#bd3786"
            ],
            [
             0.5555555555555556,
             "#d8576b"
            ],
            [
             0.6666666666666666,
             "#ed7953"
            ],
            [
             0.7777777777777778,
             "#fb9f3a"
            ],
            [
             0.8888888888888888,
             "#fdca26"
            ],
            [
             1.0,
             "#f0f921"
            ]
           ]
          },
          "colorway": [
           "#636efa",
           "#EF553B",
           "#00cc96",
           "#ab63fa",
           "#FFA15A",
           "#19d3f3",
           "#FF6692",
           "#B6E880",
           "#FF97FF",
           "#FECB52"
          ],
          "font": {
           "color": "#2a3f5f"
          },
          "geo": {
           "bgcolor": "white",
           "lakecolor": "white",
           "landcolor": "white",
           "showlakes": true,
           "showland": true,
           "subunitcolor": "#C8D4E3"
          },
          "hoverlabel": {
           "align": "left"
          },
          "hovermode": "closest",
          "mapbox": {
           "style": "light"
          },
          "paper_bgcolor": "white",
          "plot_bgcolor": "white",
          "polar": {
           "angularaxis": {
            "gridcolor": "#EBF0F8",
            "linecolor": "#EBF0F8",
            "ticks": ""
           },
           "bgcolor": "white",
           "radialaxis": {
            "gridcolor": "#EBF0F8",
            "linecolor": "#EBF0F8",
            "ticks": ""
           }
          },
          "scene": {
           "xaxis": {
            "backgroundcolor": "white",
            "gridcolor": "#DFE8F3",
            "gridwidth": 2,
            "linecolor": "#EBF0F8",
            "showbackground": true,
            "ticks": "",
            "zerolinecolor": "#EBF0F8"
           },
           "yaxis": {
            "backgroundcolor": "white",
            "gridcolor": "#DFE8F3",
            "gridwidth": 2,
            "linecolor": "#EBF0F8",
            "showbackground": true,
            "ticks": "",
            "zerolinecolor": "#EBF0F8"
           },
           "zaxis": {
            "backgroundcolor": "white",
            "gridcolor": "#DFE8F3",
            "gridwidth": 2,
            "linecolor": "#EBF0F8",
            "showbackground": true,
            "ticks": "",
            "zerolinecolor": "#EBF0F8"
           }
          },
          "shapedefaults": {
           "line": {
            "color": "#2a3f5f"
           }
          },
          "ternary": {
           "aaxis": {
            "gridcolor": "#DFE8F3",
            "linecolor": "#A2B1C6",
            "ticks": ""
           },
           "baxis": {
            "gridcolor": "#DFE8F3",
            "linecolor": "#A2B1C6",
            "ticks": ""
           },
           "bgcolor": "white",
           "caxis": {
            "gridcolor": "#DFE8F3",
            "linecolor": "#A2B1C6",
            "ticks": ""
           }
          },
          "title": {
           "x": 0.05
          },
          "xaxis": {
           "automargin": true,
           "gridcolor": "#EBF0F8",
           "linecolor": "#EBF0F8",
           "ticks": "",
           "title": {
            "standoff": 15
           },
           "zerolinecolor": "#EBF0F8",
           "zerolinewidth": 2
          },
          "yaxis": {
           "automargin": true,
           "gridcolor": "#EBF0F8",
           "linecolor": "#EBF0F8",
           "ticks": "",
           "title": {
            "standoff": 15
           },
           "zerolinecolor": "#EBF0F8",
           "zerolinewidth": 2
          }
         }
        },
        "xaxis": {
         "anchor": "y",
         "domain": [
          0.0,
          0.45
         ],
         "title": {
          "text": "Model"
         }
        },
        "yaxis": {
         "anchor": "x",
         "domain": [
          0.625,
          1.0
         ],
         "title": {
          "text": "R2 Score"
         }
        },
        "xaxis2": {
         "anchor": "y2",
         "domain": [
          0.55,
          1.0
         ],
         "title": {
          "text": "Model"
         }
        },
        "yaxis2": {
         "anchor": "x2",
         "domain": [
          0.625,
          1.0
         ],
         "title": {
          "text": "RMSE"
         }
        },
        "xaxis3": {
         "anchor": "y3",
         "domain": [
          0.0,
          0.45
         ],
         "title": {
          "text": "Model"
         }
        },
        "yaxis3": {
         "anchor": "x3",
         "domain": [
          0.0,
          0.375
         ],
         "title": {
          "text": "MAE"
         }
        },
        "xaxis4": {
         "anchor": "y4",
         "domain": [
          0.55,
          1.0
         ],
         "title": {
          "text": "Model"
         }
        },
        "yaxis4": {
         "anchor": "x4",
         "domain": [
          0.0,
          0.375
         ],
         "title": {
          "text": "Within 5.0dollars"
         }
        },
        "annotations": [
         {
          "font": {
           "size": 16
          },
          "showarrow": false,
          "text": "R2 Score",
          "x": 0.225,
          "xanchor": "center",
          "xref": "paper",
          "y": 1.0,
          "yanchor": "bottom",
          "yref": "paper"
         },
         {
          "font": {
           "size": 16
          },
          "showarrow": false,
          "text": "RMSE",
          "x": 0.775,
          "xanchor": "center",
          "xref": "paper",
          "y": 1.0,
          "yanchor": "bottom",
          "yref": "paper"
         },
         {
          "font": {
           "size": 16
          },
          "showarrow": false,
          "text": "MAE",
          "x": 0.225,
          "xanchor": "center",
          "xref": "paper",
          "y": 0.375,
          "yanchor": "bottom",
          "yref": "paper"
         },
         {
          "font": {
           "size": 16
          },
          "showarrow": false,
          "text": "Within 5.0dollars",
          "x": 0.775,
          "xanchor": "center",
          "xref": "paper",
          "y": 0.375,
          "yanchor": "bottom",
          "yref": "paper"
         }
        ],
        "title": {
         "text": "Model Performance Comparison"
        },
        "height": 800,
        "width": 1200,
        "showlegend": false
       },
       "config": {
        "plotlyServerURL": "https://plot.ly"
       }
      },
      "text/html": [
       "<div>                            <div id=\"07beee9e-9f2c-4a15-8694-e35b5e562128\" class=\"plotly-graph-div\" style=\"height:800px; width:1200px;\"></div>            <script type=\"text/javascript\">                require([\"plotly\"], function(Plotly) {                    window.PLOTLYENV=window.PLOTLYENV || {};                                    if (document.getElementById(\"07beee9e-9f2c-4a15-8694-e35b5e562128\")) {                    Plotly.newPlot(                        \"07beee9e-9f2c-4a15-8694-e35b5e562128\",                        [{\"hovertemplate\":\"%{x}\\u003cbr\\u003e%{y:.2f}\\u003cextra\\u003e\\u003c\\u002fextra\\u003e\",\"name\":\"R2_Score\",\"text\":[0.52,0.46,0.33,0.26,0.25,0.02],\"textposition\":\"auto\",\"x\":[\"Random_Forest\",\"Gradient_Boost\",\"Lasso\",\"SVR\",\"Ridge\",\"Decision_Tree\"],\"y\":[0.5162827528994194,0.4560808864430845,0.333310691074306,0.2646225586740323,0.2495401600099933,0.0236962288006301],\"type\":\"bar\",\"xaxis\":\"x\",\"yaxis\":\"y\"},{\"hovertemplate\":\"%{x}\\u003cbr\\u003e%{y:.2f}\\u003cextra\\u003e\\u003c\\u002fextra\\u003e\",\"name\":\"RMSE\",\"text\":[164.47,174.41,193.09,202.79,204.86,233.66],\"textposition\":\"auto\",\"x\":[\"Random_Forest\",\"Gradient_Boost\",\"Lasso\",\"SVR\",\"Ridge\",\"Decision_Tree\"],\"y\":[164.47389099367808,174.40877857747031,193.09139753899527,202.7945745918617,204.86365118152384,233.66499910198496],\"type\":\"bar\",\"xaxis\":\"x2\",\"yaxis\":\"y2\"},{\"hovertemplate\":\"%{x}\\u003cbr\\u003e%{y:.2f}\\u003cextra\\u003e\\u003c\\u002fextra\\u003e\",\"name\":\"MAE\",\"text\":[93.42,99.08,101.11,116.27,116.39,124.73],\"textposition\":\"auto\",\"x\":[\"Random_Forest\",\"SVR\",\"Gradient_Boost\",\"Lasso\",\"Ridge\",\"Decision_Tree\"],\"y\":[93.41793951124929,99.08448581522774,101.11389839704226,116.26694681463164,116.3947885644582,124.73319143351245],\"type\":\"bar\",\"xaxis\":\"x3\",\"yaxis\":\"y3\"},{\"hovertemplate\":\"%{x}\\u003cbr\\u003e%{y:.2f}\\u003cextra\\u003e\\u003c\\u002fextra\\u003e\",\"name\":\"Within_5.0dollars\",\"text\":[9.61,7.35,6.72,5.5,3.65,3.58],\"textposition\":\"auto\",\"x\":[\"Decision_Tree\",\"SVR\",\"Random_Forest\",\"Gradient_Boost\",\"Ridge\",\"Lasso\"],\"y\":[9.6118213822494,7.351306281267371,6.721326662960904,5.503057254030017,3.645543820641097,3.576060774504354],\"type\":\"bar\",\"xaxis\":\"x4\",\"yaxis\":\"y4\"}],                        {\"template\":{\"data\":{\"barpolar\":[{\"marker\":{\"line\":{\"color\":\"white\",\"width\":0.5},\"pattern\":{\"fillmode\":\"overlay\",\"size\":10,\"solidity\":0.2}},\"type\":\"barpolar\"}],\"bar\":[{\"error_x\":{\"color\":\"#2a3f5f\"},\"error_y\":{\"color\":\"#2a3f5f\"},\"marker\":{\"line\":{\"color\":\"white\",\"width\":0.5},\"pattern\":{\"fillmode\":\"overlay\",\"size\":10,\"solidity\":0.2}},\"type\":\"bar\"}],\"carpet\":[{\"aaxis\":{\"endlinecolor\":\"#2a3f5f\",\"gridcolor\":\"#C8D4E3\",\"linecolor\":\"#C8D4E3\",\"minorgridcolor\":\"#C8D4E3\",\"startlinecolor\":\"#2a3f5f\"},\"baxis\":{\"endlinecolor\":\"#2a3f5f\",\"gridcolor\":\"#C8D4E3\",\"linecolor\":\"#C8D4E3\",\"minorgridcolor\":\"#C8D4E3\",\"startlinecolor\":\"#2a3f5f\"},\"type\":\"carpet\"}],\"choropleth\":[{\"colorbar\":{\"outlinewidth\":0,\"ticks\":\"\"},\"type\":\"choropleth\"}],\"contourcarpet\":[{\"colorbar\":{\"outlinewidth\":0,\"ticks\":\"\"},\"type\":\"contourcarpet\"}],\"contour\":[{\"colorbar\":{\"outlinewidth\":0,\"ticks\":\"\"},\"colorscale\":[[0.0,\"#0d0887\"],[0.1111111111111111,\"#46039f\"],[0.2222222222222222,\"#7201a8\"],[0.3333333333333333,\"#9c179e\"],[0.4444444444444444,\"#bd3786\"],[0.5555555555555556,\"#d8576b\"],[0.6666666666666666,\"#ed7953\"],[0.7777777777777778,\"#fb9f3a\"],[0.8888888888888888,\"#fdca26\"],[1.0,\"#f0f921\"]],\"type\":\"contour\"}],\"heatmapgl\":[{\"colorbar\":{\"outlinewidth\":0,\"ticks\":\"\"},\"colorscale\":[[0.0,\"#0d0887\"],[0.1111111111111111,\"#46039f\"],[0.2222222222222222,\"#7201a8\"],[0.3333333333333333,\"#9c179e\"],[0.4444444444444444,\"#bd3786\"],[0.5555555555555556,\"#d8576b\"],[0.6666666666666666,\"#ed7953\"],[0.7777777777777778,\"#fb9f3a\"],[0.8888888888888888,\"#fdca26\"],[1.0,\"#f0f921\"]],\"type\":\"heatmapgl\"}],\"heatmap\":[{\"colorbar\":{\"outlinewidth\":0,\"ticks\":\"\"},\"colorscale\":[[0.0,\"#0d0887\"],[0.1111111111111111,\"#46039f\"],[0.2222222222222222,\"#7201a8\"],[0.3333333333333333,\"#9c179e\"],[0.4444444444444444,\"#bd3786\"],[0.5555555555555556,\"#d8576b\"],[0.6666666666666666,\"#ed7953\"],[0.7777777777777778,\"#fb9f3a\"],[0.8888888888888888,\"#fdca26\"],[1.0,\"#f0f921\"]],\"type\":\"heatmap\"}],\"histogram2dcontour\":[{\"colorbar\":{\"outlinewidth\":0,\"ticks\":\"\"},\"colorscale\":[[0.0,\"#0d0887\"],[0.1111111111111111,\"#46039f\"],[0.2222222222222222,\"#7201a8\"],[0.3333333333333333,\"#9c179e\"],[0.4444444444444444,\"#bd3786\"],[0.5555555555555556,\"#d8576b\"],[0.6666666666666666,\"#ed7953\"],[0.7777777777777778,\"#fb9f3a\"],[0.8888888888888888,\"#fdca26\"],[1.0,\"#f0f921\"]],\"type\":\"histogram2dcontour\"}],\"histogram2d\":[{\"colorbar\":{\"outlinewidth\":0,\"ticks\":\"\"},\"colorscale\":[[0.0,\"#0d0887\"],[0.1111111111111111,\"#46039f\"],[0.2222222222222222,\"#7201a8\"],[0.3333333333333333,\"#9c179e\"],[0.4444444444444444,\"#bd3786\"],[0.5555555555555556,\"#d8576b\"],[0.6666666666666666,\"#ed7953\"],[0.7777777777777778,\"#fb9f3a\"],[0.8888888888888888,\"#fdca26\"],[1.0,\"#f0f921\"]],\"type\":\"histogram2d\"}],\"histogram\":[{\"marker\":{\"pattern\":{\"fillmode\":\"overlay\",\"size\":10,\"solidity\":0.2}},\"type\":\"histogram\"}],\"mesh3d\":[{\"colorbar\":{\"outlinewidth\":0,\"ticks\":\"\"},\"type\":\"mesh3d\"}],\"parcoords\":[{\"line\":{\"colorbar\":{\"outlinewidth\":0,\"ticks\":\"\"}},\"type\":\"parcoords\"}],\"pie\":[{\"automargin\":true,\"type\":\"pie\"}],\"scatter3d\":[{\"line\":{\"colorbar\":{\"outlinewidth\":0,\"ticks\":\"\"}},\"marker\":{\"colorbar\":{\"outlinewidth\":0,\"ticks\":\"\"}},\"type\":\"scatter3d\"}],\"scattercarpet\":[{\"marker\":{\"colorbar\":{\"outlinewidth\":0,\"ticks\":\"\"}},\"type\":\"scattercarpet\"}],\"scattergeo\":[{\"marker\":{\"colorbar\":{\"outlinewidth\":0,\"ticks\":\"\"}},\"type\":\"scattergeo\"}],\"scattergl\":[{\"marker\":{\"colorbar\":{\"outlinewidth\":0,\"ticks\":\"\"}},\"type\":\"scattergl\"}],\"scattermapbox\":[{\"marker\":{\"colorbar\":{\"outlinewidth\":0,\"ticks\":\"\"}},\"type\":\"scattermapbox\"}],\"scatterpolargl\":[{\"marker\":{\"colorbar\":{\"outlinewidth\":0,\"ticks\":\"\"}},\"type\":\"scatterpolargl\"}],\"scatterpolar\":[{\"marker\":{\"colorbar\":{\"outlinewidth\":0,\"ticks\":\"\"}},\"type\":\"scatterpolar\"}],\"scatter\":[{\"fillpattern\":{\"fillmode\":\"overlay\",\"size\":10,\"solidity\":0.2},\"type\":\"scatter\"}],\"scatterternary\":[{\"marker\":{\"colorbar\":{\"outlinewidth\":0,\"ticks\":\"\"}},\"type\":\"scatterternary\"}],\"surface\":[{\"colorbar\":{\"outlinewidth\":0,\"ticks\":\"\"},\"colorscale\":[[0.0,\"#0d0887\"],[0.1111111111111111,\"#46039f\"],[0.2222222222222222,\"#7201a8\"],[0.3333333333333333,\"#9c179e\"],[0.4444444444444444,\"#bd3786\"],[0.5555555555555556,\"#d8576b\"],[0.6666666666666666,\"#ed7953\"],[0.7777777777777778,\"#fb9f3a\"],[0.8888888888888888,\"#fdca26\"],[1.0,\"#f0f921\"]],\"type\":\"surface\"}],\"table\":[{\"cells\":{\"fill\":{\"color\":\"#EBF0F8\"},\"line\":{\"color\":\"white\"}},\"header\":{\"fill\":{\"color\":\"#C8D4E3\"},\"line\":{\"color\":\"white\"}},\"type\":\"table\"}]},\"layout\":{\"annotationdefaults\":{\"arrowcolor\":\"#2a3f5f\",\"arrowhead\":0,\"arrowwidth\":1},\"autotypenumbers\":\"strict\",\"coloraxis\":{\"colorbar\":{\"outlinewidth\":0,\"ticks\":\"\"}},\"colorscale\":{\"diverging\":[[0,\"#8e0152\"],[0.1,\"#c51b7d\"],[0.2,\"#de77ae\"],[0.3,\"#f1b6da\"],[0.4,\"#fde0ef\"],[0.5,\"#f7f7f7\"],[0.6,\"#e6f5d0\"],[0.7,\"#b8e186\"],[0.8,\"#7fbc41\"],[0.9,\"#4d9221\"],[1,\"#276419\"]],\"sequential\":[[0.0,\"#0d0887\"],[0.1111111111111111,\"#46039f\"],[0.2222222222222222,\"#7201a8\"],[0.3333333333333333,\"#9c179e\"],[0.4444444444444444,\"#bd3786\"],[0.5555555555555556,\"#d8576b\"],[0.6666666666666666,\"#ed7953\"],[0.7777777777777778,\"#fb9f3a\"],[0.8888888888888888,\"#fdca26\"],[1.0,\"#f0f921\"]],\"sequentialminus\":[[0.0,\"#0d0887\"],[0.1111111111111111,\"#46039f\"],[0.2222222222222222,\"#7201a8\"],[0.3333333333333333,\"#9c179e\"],[0.4444444444444444,\"#bd3786\"],[0.5555555555555556,\"#d8576b\"],[0.6666666666666666,\"#ed7953\"],[0.7777777777777778,\"#fb9f3a\"],[0.8888888888888888,\"#fdca26\"],[1.0,\"#f0f921\"]]},\"colorway\":[\"#636efa\",\"#EF553B\",\"#00cc96\",\"#ab63fa\",\"#FFA15A\",\"#19d3f3\",\"#FF6692\",\"#B6E880\",\"#FF97FF\",\"#FECB52\"],\"font\":{\"color\":\"#2a3f5f\"},\"geo\":{\"bgcolor\":\"white\",\"lakecolor\":\"white\",\"landcolor\":\"white\",\"showlakes\":true,\"showland\":true,\"subunitcolor\":\"#C8D4E3\"},\"hoverlabel\":{\"align\":\"left\"},\"hovermode\":\"closest\",\"mapbox\":{\"style\":\"light\"},\"paper_bgcolor\":\"white\",\"plot_bgcolor\":\"white\",\"polar\":{\"angularaxis\":{\"gridcolor\":\"#EBF0F8\",\"linecolor\":\"#EBF0F8\",\"ticks\":\"\"},\"bgcolor\":\"white\",\"radialaxis\":{\"gridcolor\":\"#EBF0F8\",\"linecolor\":\"#EBF0F8\",\"ticks\":\"\"}},\"scene\":{\"xaxis\":{\"backgroundcolor\":\"white\",\"gridcolor\":\"#DFE8F3\",\"gridwidth\":2,\"linecolor\":\"#EBF0F8\",\"showbackground\":true,\"ticks\":\"\",\"zerolinecolor\":\"#EBF0F8\"},\"yaxis\":{\"backgroundcolor\":\"white\",\"gridcolor\":\"#DFE8F3\",\"gridwidth\":2,\"linecolor\":\"#EBF0F8\",\"showbackground\":true,\"ticks\":\"\",\"zerolinecolor\":\"#EBF0F8\"},\"zaxis\":{\"backgroundcolor\":\"white\",\"gridcolor\":\"#DFE8F3\",\"gridwidth\":2,\"linecolor\":\"#EBF0F8\",\"showbackground\":true,\"ticks\":\"\",\"zerolinecolor\":\"#EBF0F8\"}},\"shapedefaults\":{\"line\":{\"color\":\"#2a3f5f\"}},\"ternary\":{\"aaxis\":{\"gridcolor\":\"#DFE8F3\",\"linecolor\":\"#A2B1C6\",\"ticks\":\"\"},\"baxis\":{\"gridcolor\":\"#DFE8F3\",\"linecolor\":\"#A2B1C6\",\"ticks\":\"\"},\"bgcolor\":\"white\",\"caxis\":{\"gridcolor\":\"#DFE8F3\",\"linecolor\":\"#A2B1C6\",\"ticks\":\"\"}},\"title\":{\"x\":0.05},\"xaxis\":{\"automargin\":true,\"gridcolor\":\"#EBF0F8\",\"linecolor\":\"#EBF0F8\",\"ticks\":\"\",\"title\":{\"standoff\":15},\"zerolinecolor\":\"#EBF0F8\",\"zerolinewidth\":2},\"yaxis\":{\"automargin\":true,\"gridcolor\":\"#EBF0F8\",\"linecolor\":\"#EBF0F8\",\"ticks\":\"\",\"title\":{\"standoff\":15},\"zerolinecolor\":\"#EBF0F8\",\"zerolinewidth\":2}}},\"xaxis\":{\"anchor\":\"y\",\"domain\":[0.0,0.45],\"title\":{\"text\":\"Model\"}},\"yaxis\":{\"anchor\":\"x\",\"domain\":[0.625,1.0],\"title\":{\"text\":\"R2 Score\"}},\"xaxis2\":{\"anchor\":\"y2\",\"domain\":[0.55,1.0],\"title\":{\"text\":\"Model\"}},\"yaxis2\":{\"anchor\":\"x2\",\"domain\":[0.625,1.0],\"title\":{\"text\":\"RMSE\"}},\"xaxis3\":{\"anchor\":\"y3\",\"domain\":[0.0,0.45],\"title\":{\"text\":\"Model\"}},\"yaxis3\":{\"anchor\":\"x3\",\"domain\":[0.0,0.375],\"title\":{\"text\":\"MAE\"}},\"xaxis4\":{\"anchor\":\"y4\",\"domain\":[0.55,1.0],\"title\":{\"text\":\"Model\"}},\"yaxis4\":{\"anchor\":\"x4\",\"domain\":[0.0,0.375],\"title\":{\"text\":\"Within 5.0dollars\"}},\"annotations\":[{\"font\":{\"size\":16},\"showarrow\":false,\"text\":\"R2 Score\",\"x\":0.225,\"xanchor\":\"center\",\"xref\":\"paper\",\"y\":1.0,\"yanchor\":\"bottom\",\"yref\":\"paper\"},{\"font\":{\"size\":16},\"showarrow\":false,\"text\":\"RMSE\",\"x\":0.775,\"xanchor\":\"center\",\"xref\":\"paper\",\"y\":1.0,\"yanchor\":\"bottom\",\"yref\":\"paper\"},{\"font\":{\"size\":16},\"showarrow\":false,\"text\":\"MAE\",\"x\":0.225,\"xanchor\":\"center\",\"xref\":\"paper\",\"y\":0.375,\"yanchor\":\"bottom\",\"yref\":\"paper\"},{\"font\":{\"size\":16},\"showarrow\":false,\"text\":\"Within 5.0dollars\",\"x\":0.775,\"xanchor\":\"center\",\"xref\":\"paper\",\"y\":0.375,\"yanchor\":\"bottom\",\"yref\":\"paper\"}],\"title\":{\"text\":\"Model Performance Comparison\"},\"height\":800,\"width\":1200,\"showlegend\":false},                        {\"responsive\": true}                    ).then(function(){\n",
       "                            \n",
       "var gd = document.getElementById('07beee9e-9f2c-4a15-8694-e35b5e562128');\n",
       "var x = new MutationObserver(function (mutations, observer) {{\n",
       "        var display = window.getComputedStyle(gd).display;\n",
       "        if (!display || display === 'none') {{\n",
       "            console.log([gd, 'removed!']);\n",
       "            Plotly.purge(gd);\n",
       "            observer.disconnect();\n",
       "        }}\n",
       "}});\n",
       "\n",
       "// Listen for the removal of the full notebook cells\n",
       "var notebookContainer = gd.closest('#notebook-container');\n",
       "if (notebookContainer) {{\n",
       "    x.observe(notebookContainer, {childList: true});\n",
       "}}\n",
       "\n",
       "// Listen for the clearing of the current output cell\n",
       "var outputEl = gd.closest('.output');\n",
       "if (outputEl) {{\n",
       "    x.observe(outputEl, {childList: true});\n",
       "}}\n",
       "\n",
       "                        })                };                });            </script>        </div>"
      ]
     },
     "metadata": {},
     "output_type": "display_data"
    },
    {
     "data": {
      "application/vnd.plotly.v1+json": {
       "data": [
        {
         "alignmentgroup": "True",
         "hovertemplate": "Tolerance=5 dollars<br>Model=%{x}<br>Percentage=%{y}<extra></extra>",
         "legendgroup": "5 dollars",
         "marker": {
          "color": "#636efa",
          "pattern": {
           "shape": ""
          }
         },
         "name": "5 dollars",
         "offsetgroup": "5 dollars",
         "orientation": "v",
         "showlegend": true,
         "textposition": "auto",
         "x": [
          "Ridge",
          "Lasso",
          "Decision_Tree",
          "Random_Forest",
          "Gradient_Boost",
          "SVR"
         ],
         "xaxis": "x",
         "y": [
          3.645543820641097,
          3.576060774504354,
          9.6118213822494,
          6.721326662960904,
          5.503057254030017,
          7.351306281267371
         ],
         "yaxis": "y",
         "type": "bar"
        },
        {
         "alignmentgroup": "True",
         "hovertemplate": "Tolerance=1dollar<br>Model=%{x}<br>Percentage=%{y}<extra></extra>",
         "legendgroup": "1dollar",
         "marker": {
          "color": "#EF553B",
          "pattern": {
           "shape": ""
          }
         },
         "name": "1dollar",
         "offsetgroup": "1dollar",
         "orientation": "v",
         "showlegend": true,
         "textposition": "auto",
         "x": [
          "Ridge",
          "Lasso",
          "Decision_Tree",
          "Random_Forest",
          "Gradient_Boost",
          "SVR"
         ],
         "xaxis": "x",
         "y": [
          0.7689457105799518,
          0.7365202890494719,
          4.849916620344636,
          1.3109134704465444,
          1.1673151750972763,
          1.4035575319622011
         ],
         "yaxis": "y",
         "type": "bar"
        },
        {
         "alignmentgroup": "True",
         "hovertemplate": "Tolerance=2 dollars<br>Model=%{x}<br>Percentage=%{y}<extra></extra>",
         "legendgroup": "2 dollars",
         "marker": {
          "color": "#00cc96",
          "pattern": {
           "shape": ""
          }
         },
         "name": "2 dollars",
         "offsetgroup": "2 dollars",
         "orientation": "v",
         "showlegend": true,
         "textposition": "auto",
         "x": [
          "Ridge",
          "Lasso",
          "Decision_Tree",
          "Random_Forest",
          "Gradient_Boost",
          "SVR"
         ],
         "xaxis": "x",
         "y": [
          1.5100982027052066,
          1.5193626088567722,
          5.674448767833982,
          2.6727811747267,
          2.2234574763757644,
          2.936816750046322
         ],
         "yaxis": "y",
         "type": "bar"
        }
       ],
       "layout": {
        "template": {
         "data": {
          "barpolar": [
           {
            "marker": {
             "line": {
              "color": "white",
              "width": 0.5
             },
             "pattern": {
              "fillmode": "overlay",
              "size": 10,
              "solidity": 0.2
             }
            },
            "type": "barpolar"
           }
          ],
          "bar": [
           {
            "error_x": {
             "color": "#2a3f5f"
            },
            "error_y": {
             "color": "#2a3f5f"
            },
            "marker": {
             "line": {
              "color": "white",
              "width": 0.5
             },
             "pattern": {
              "fillmode": "overlay",
              "size": 10,
              "solidity": 0.2
             }
            },
            "type": "bar"
           }
          ],
          "carpet": [
           {
            "aaxis": {
             "endlinecolor": "#2a3f5f",
             "gridcolor": "#C8D4E3",
             "linecolor": "#C8D4E3",
             "minorgridcolor": "#C8D4E3",
             "startlinecolor": "#2a3f5f"
            },
            "baxis": {
             "endlinecolor": "#2a3f5f",
             "gridcolor": "#C8D4E3",
             "linecolor": "#C8D4E3",
             "minorgridcolor": "#C8D4E3",
             "startlinecolor": "#2a3f5f"
            },
            "type": "carpet"
           }
          ],
          "choropleth": [
           {
            "colorbar": {
             "outlinewidth": 0,
             "ticks": ""
            },
            "type": "choropleth"
           }
          ],
          "contourcarpet": [
           {
            "colorbar": {
             "outlinewidth": 0,
             "ticks": ""
            },
            "type": "contourcarpet"
           }
          ],
          "contour": [
           {
            "colorbar": {
             "outlinewidth": 0,
             "ticks": ""
            },
            "colorscale": [
             [
              0.0,
              "#0d0887"
             ],
             [
              0.1111111111111111,
              "#46039f"
             ],
             [
              0.2222222222222222,
              "#7201a8"
             ],
             [
              0.3333333333333333,
              "#9c179e"
             ],
             [
              0.4444444444444444,
              "#bd3786"
             ],
             [
              0.5555555555555556,
              "#d8576b"
             ],
             [
              0.6666666666666666,
              "#ed7953"
             ],
             [
              0.7777777777777778,
              "#fb9f3a"
             ],
             [
              0.8888888888888888,
              "#fdca26"
             ],
             [
              1.0,
              "#f0f921"
             ]
            ],
            "type": "contour"
           }
          ],
          "heatmapgl": [
           {
            "colorbar": {
             "outlinewidth": 0,
             "ticks": ""
            },
            "colorscale": [
             [
              0.0,
              "#0d0887"
             ],
             [
              0.1111111111111111,
              "#46039f"
             ],
             [
              0.2222222222222222,
              "#7201a8"
             ],
             [
              0.3333333333333333,
              "#9c179e"
             ],
             [
              0.4444444444444444,
              "#bd3786"
             ],
             [
              0.5555555555555556,
              "#d8576b"
             ],
             [
              0.6666666666666666,
              "#ed7953"
             ],
             [
              0.7777777777777778,
              "#fb9f3a"
             ],
             [
              0.8888888888888888,
              "#fdca26"
             ],
             [
              1.0,
              "#f0f921"
             ]
            ],
            "type": "heatmapgl"
           }
          ],
          "heatmap": [
           {
            "colorbar": {
             "outlinewidth": 0,
             "ticks": ""
            },
            "colorscale": [
             [
              0.0,
              "#0d0887"
             ],
             [
              0.1111111111111111,
              "#46039f"
             ],
             [
              0.2222222222222222,
              "#7201a8"
             ],
             [
              0.3333333333333333,
              "#9c179e"
             ],
             [
              0.4444444444444444,
              "#bd3786"
             ],
             [
              0.5555555555555556,
              "#d8576b"
             ],
             [
              0.6666666666666666,
              "#ed7953"
             ],
             [
              0.7777777777777778,
              "#fb9f3a"
             ],
             [
              0.8888888888888888,
              "#fdca26"
             ],
             [
              1.0,
              "#f0f921"
             ]
            ],
            "type": "heatmap"
           }
          ],
          "histogram2dcontour": [
           {
            "colorbar": {
             "outlinewidth": 0,
             "ticks": ""
            },
            "colorscale": [
             [
              0.0,
              "#0d0887"
             ],
             [
              0.1111111111111111,
              "#46039f"
             ],
             [
              0.2222222222222222,
              "#7201a8"
             ],
             [
              0.3333333333333333,
              "#9c179e"
             ],
             [
              0.4444444444444444,
              "#bd3786"
             ],
             [
              0.5555555555555556,
              "#d8576b"
             ],
             [
              0.6666666666666666,
              "#ed7953"
             ],
             [
              0.7777777777777778,
              "#fb9f3a"
             ],
             [
              0.8888888888888888,
              "#fdca26"
             ],
             [
              1.0,
              "#f0f921"
             ]
            ],
            "type": "histogram2dcontour"
           }
          ],
          "histogram2d": [
           {
            "colorbar": {
             "outlinewidth": 0,
             "ticks": ""
            },
            "colorscale": [
             [
              0.0,
              "#0d0887"
             ],
             [
              0.1111111111111111,
              "#46039f"
             ],
             [
              0.2222222222222222,
              "#7201a8"
             ],
             [
              0.3333333333333333,
              "#9c179e"
             ],
             [
              0.4444444444444444,
              "#bd3786"
             ],
             [
              0.5555555555555556,
              "#d8576b"
             ],
             [
              0.6666666666666666,
              "#ed7953"
             ],
             [
              0.7777777777777778,
              "#fb9f3a"
             ],
             [
              0.8888888888888888,
              "#fdca26"
             ],
             [
              1.0,
              "#f0f921"
             ]
            ],
            "type": "histogram2d"
           }
          ],
          "histogram": [
           {
            "marker": {
             "pattern": {
              "fillmode": "overlay",
              "size": 10,
              "solidity": 0.2
             }
            },
            "type": "histogram"
           }
          ],
          "mesh3d": [
           {
            "colorbar": {
             "outlinewidth": 0,
             "ticks": ""
            },
            "type": "mesh3d"
           }
          ],
          "parcoords": [
           {
            "line": {
             "colorbar": {
              "outlinewidth": 0,
              "ticks": ""
             }
            },
            "type": "parcoords"
           }
          ],
          "pie": [
           {
            "automargin": true,
            "type": "pie"
           }
          ],
          "scatter3d": [
           {
            "line": {
             "colorbar": {
              "outlinewidth": 0,
              "ticks": ""
             }
            },
            "marker": {
             "colorbar": {
              "outlinewidth": 0,
              "ticks": ""
             }
            },
            "type": "scatter3d"
           }
          ],
          "scattercarpet": [
           {
            "marker": {
             "colorbar": {
              "outlinewidth": 0,
              "ticks": ""
             }
            },
            "type": "scattercarpet"
           }
          ],
          "scattergeo": [
           {
            "marker": {
             "colorbar": {
              "outlinewidth": 0,
              "ticks": ""
             }
            },
            "type": "scattergeo"
           }
          ],
          "scattergl": [
           {
            "marker": {
             "colorbar": {
              "outlinewidth": 0,
              "ticks": ""
             }
            },
            "type": "scattergl"
           }
          ],
          "scattermapbox": [
           {
            "marker": {
             "colorbar": {
              "outlinewidth": 0,
              "ticks": ""
             }
            },
            "type": "scattermapbox"
           }
          ],
          "scatterpolargl": [
           {
            "marker": {
             "colorbar": {
              "outlinewidth": 0,
              "ticks": ""
             }
            },
            "type": "scatterpolargl"
           }
          ],
          "scatterpolar": [
           {
            "marker": {
             "colorbar": {
              "outlinewidth": 0,
              "ticks": ""
             }
            },
            "type": "scatterpolar"
           }
          ],
          "scatter": [
           {
            "fillpattern": {
             "fillmode": "overlay",
             "size": 10,
             "solidity": 0.2
            },
            "type": "scatter"
           }
          ],
          "scatterternary": [
           {
            "marker": {
             "colorbar": {
              "outlinewidth": 0,
              "ticks": ""
             }
            },
            "type": "scatterternary"
           }
          ],
          "surface": [
           {
            "colorbar": {
             "outlinewidth": 0,
             "ticks": ""
            },
            "colorscale": [
             [
              0.0,
              "#0d0887"
             ],
             [
              0.1111111111111111,
              "#46039f"
             ],
             [
              0.2222222222222222,
              "#7201a8"
             ],
             [
              0.3333333333333333,
              "#9c179e"
             ],
             [
              0.4444444444444444,
              "#bd3786"
             ],
             [
              0.5555555555555556,
              "#d8576b"
             ],
             [
              0.6666666666666666,
              "#ed7953"
             ],
             [
              0.7777777777777778,
              "#fb9f3a"
             ],
             [
              0.8888888888888888,
              "#fdca26"
             ],
             [
              1.0,
              "#f0f921"
             ]
            ],
            "type": "surface"
           }
          ],
          "table": [
           {
            "cells": {
             "fill": {
              "color": "#EBF0F8"
             },
             "line": {
              "color": "white"
             }
            },
            "header": {
             "fill": {
              "color": "#C8D4E3"
             },
             "line": {
              "color": "white"
             }
            },
            "type": "table"
           }
          ]
         },
         "layout": {
          "annotationdefaults": {
           "arrowcolor": "#2a3f5f",
           "arrowhead": 0,
           "arrowwidth": 1
          },
          "autotypenumbers": "strict",
          "coloraxis": {
           "colorbar": {
            "outlinewidth": 0,
            "ticks": ""
           }
          },
          "colorscale": {
           "diverging": [
            [
             0,
             "#8e0152"
            ],
            [
             0.1,
             "#c51b7d"
            ],
            [
             0.2,
             "#de77ae"
            ],
            [
             0.3,
             "#f1b6da"
            ],
            [
             0.4,
             "#fde0ef"
            ],
            [
             0.5,
             "#f7f7f7"
            ],
            [
             0.6,
             "#e6f5d0"
            ],
            [
             0.7,
             "#b8e186"
            ],
            [
             0.8,
             "#7fbc41"
            ],
            [
             0.9,
             "#4d9221"
            ],
            [
             1,
             "#276419"
            ]
           ],
           "sequential": [
            [
             0.0,
             "#0d0887"
            ],
            [
             0.1111111111111111,
             "#46039f"
            ],
            [
             0.2222222222222222,
             "#7201a8"
            ],
            [
             0.3333333333333333,
             "#9c179e"
            ],
            [
             0.4444444444444444,
             "#bd3786"
            ],
            [
             0.5555555555555556,
             "#d8576b"
            ],
            [
             0.6666666666666666,
             "#ed7953"
            ],
            [
             0.7777777777777778,
             "#fb9f3a"
            ],
            [
             0.8888888888888888,
             "#fdca26"
            ],
            [
             1.0,
             "#f0f921"
            ]
           ],
           "sequentialminus": [
            [
             0.0,
             "#0d0887"
            ],
            [
             0.1111111111111111,
             "#46039f"
            ],
            [
             0.2222222222222222,
             "#7201a8"
            ],
            [
             0.3333333333333333,
             "#9c179e"
            ],
            [
             0.4444444444444444,
             "#bd3786"
            ],
            [
             0.5555555555555556,
             "#d8576b"
            ],
            [
             0.6666666666666666,
             "#ed7953"
            ],
            [
             0.7777777777777778,
             "#fb9f3a"
            ],
            [
             0.8888888888888888,
             "#fdca26"
            ],
            [
             1.0,
             "#f0f921"
            ]
           ]
          },
          "colorway": [
           "#636efa",
           "#EF553B",
           "#00cc96",
           "#ab63fa",
           "#FFA15A",
           "#19d3f3",
           "#FF6692",
           "#B6E880",
           "#FF97FF",
           "#FECB52"
          ],
          "font": {
           "color": "#2a3f5f"
          },
          "geo": {
           "bgcolor": "white",
           "lakecolor": "white",
           "landcolor": "white",
           "showlakes": true,
           "showland": true,
           "subunitcolor": "#C8D4E3"
          },
          "hoverlabel": {
           "align": "left"
          },
          "hovermode": "closest",
          "mapbox": {
           "style": "light"
          },
          "paper_bgcolor": "white",
          "plot_bgcolor": "white",
          "polar": {
           "angularaxis": {
            "gridcolor": "#EBF0F8",
            "linecolor": "#EBF0F8",
            "ticks": ""
           },
           "bgcolor": "white",
           "radialaxis": {
            "gridcolor": "#EBF0F8",
            "linecolor": "#EBF0F8",
            "ticks": ""
           }
          },
          "scene": {
           "xaxis": {
            "backgroundcolor": "white",
            "gridcolor": "#DFE8F3",
            "gridwidth": 2,
            "linecolor": "#EBF0F8",
            "showbackground": true,
            "ticks": "",
            "zerolinecolor": "#EBF0F8"
           },
           "yaxis": {
            "backgroundcolor": "white",
            "gridcolor": "#DFE8F3",
            "gridwidth": 2,
            "linecolor": "#EBF0F8",
            "showbackground": true,
            "ticks": "",
            "zerolinecolor": "#EBF0F8"
           },
           "zaxis": {
            "backgroundcolor": "white",
            "gridcolor": "#DFE8F3",
            "gridwidth": 2,
            "linecolor": "#EBF0F8",
            "showbackground": true,
            "ticks": "",
            "zerolinecolor": "#EBF0F8"
           }
          },
          "shapedefaults": {
           "line": {
            "color": "#2a3f5f"
           }
          },
          "ternary": {
           "aaxis": {
            "gridcolor": "#DFE8F3",
            "linecolor": "#A2B1C6",
            "ticks": ""
           },
           "baxis": {
            "gridcolor": "#DFE8F3",
            "linecolor": "#A2B1C6",
            "ticks": ""
           },
           "bgcolor": "white",
           "caxis": {
            "gridcolor": "#DFE8F3",
            "linecolor": "#A2B1C6",
            "ticks": ""
           }
          },
          "title": {
           "x": 0.05
          },
          "xaxis": {
           "automargin": true,
           "gridcolor": "#EBF0F8",
           "linecolor": "#EBF0F8",
           "ticks": "",
           "title": {
            "standoff": 15
           },
           "zerolinecolor": "#EBF0F8",
           "zerolinewidth": 2
          },
          "yaxis": {
           "automargin": true,
           "gridcolor": "#EBF0F8",
           "linecolor": "#EBF0F8",
           "ticks": "",
           "title": {
            "standoff": 15
           },
           "zerolinecolor": "#EBF0F8",
           "zerolinewidth": 2
          }
         }
        },
        "xaxis": {
         "anchor": "y",
         "domain": [
          0.0,
          1.0
         ],
         "title": {
          "text": "Model"
         },
         "categoryorder": "array",
         "categoryarray": [
          "Decision_Tree",
          "SVR",
          "Random_Forest",
          "Gradient_Boost",
          "Ridge",
          "Lasso"
         ]
        },
        "yaxis": {
         "anchor": "x",
         "domain": [
          0.0,
          1.0
         ],
         "title": {
          "text": "Percentage of Predictions (%)"
         }
        },
        "legend": {
         "title": {
          "text": "Tolerance"
         },
         "tracegroupgap": 0
        },
        "title": {
         "text": "Percentage of Predictions Within Different Price Ranges"
        },
        "barmode": "group",
        "height": 600,
        "width": 1200
       },
       "config": {
        "plotlyServerURL": "https://plot.ly"
       }
      },
      "text/html": [
       "<div>                            <div id=\"e3db07cc-49a7-4dcb-aaa4-bb82111bda77\" class=\"plotly-graph-div\" style=\"height:600px; width:1200px;\"></div>            <script type=\"text/javascript\">                require([\"plotly\"], function(Plotly) {                    window.PLOTLYENV=window.PLOTLYENV || {};                                    if (document.getElementById(\"e3db07cc-49a7-4dcb-aaa4-bb82111bda77\")) {                    Plotly.newPlot(                        \"e3db07cc-49a7-4dcb-aaa4-bb82111bda77\",                        [{\"alignmentgroup\":\"True\",\"hovertemplate\":\"Tolerance=5 dollars\\u003cbr\\u003eModel=%{x}\\u003cbr\\u003ePercentage=%{y}\\u003cextra\\u003e\\u003c\\u002fextra\\u003e\",\"legendgroup\":\"5 dollars\",\"marker\":{\"color\":\"#636efa\",\"pattern\":{\"shape\":\"\"}},\"name\":\"5 dollars\",\"offsetgroup\":\"5 dollars\",\"orientation\":\"v\",\"showlegend\":true,\"textposition\":\"auto\",\"x\":[\"Ridge\",\"Lasso\",\"Decision_Tree\",\"Random_Forest\",\"Gradient_Boost\",\"SVR\"],\"xaxis\":\"x\",\"y\":[3.645543820641097,3.576060774504354,9.6118213822494,6.721326662960904,5.503057254030017,7.351306281267371],\"yaxis\":\"y\",\"type\":\"bar\"},{\"alignmentgroup\":\"True\",\"hovertemplate\":\"Tolerance=1dollar\\u003cbr\\u003eModel=%{x}\\u003cbr\\u003ePercentage=%{y}\\u003cextra\\u003e\\u003c\\u002fextra\\u003e\",\"legendgroup\":\"1dollar\",\"marker\":{\"color\":\"#EF553B\",\"pattern\":{\"shape\":\"\"}},\"name\":\"1dollar\",\"offsetgroup\":\"1dollar\",\"orientation\":\"v\",\"showlegend\":true,\"textposition\":\"auto\",\"x\":[\"Ridge\",\"Lasso\",\"Decision_Tree\",\"Random_Forest\",\"Gradient_Boost\",\"SVR\"],\"xaxis\":\"x\",\"y\":[0.7689457105799518,0.7365202890494719,4.849916620344636,1.3109134704465444,1.1673151750972763,1.4035575319622011],\"yaxis\":\"y\",\"type\":\"bar\"},{\"alignmentgroup\":\"True\",\"hovertemplate\":\"Tolerance=2 dollars\\u003cbr\\u003eModel=%{x}\\u003cbr\\u003ePercentage=%{y}\\u003cextra\\u003e\\u003c\\u002fextra\\u003e\",\"legendgroup\":\"2 dollars\",\"marker\":{\"color\":\"#00cc96\",\"pattern\":{\"shape\":\"\"}},\"name\":\"2 dollars\",\"offsetgroup\":\"2 dollars\",\"orientation\":\"v\",\"showlegend\":true,\"textposition\":\"auto\",\"x\":[\"Ridge\",\"Lasso\",\"Decision_Tree\",\"Random_Forest\",\"Gradient_Boost\",\"SVR\"],\"xaxis\":\"x\",\"y\":[1.5100982027052066,1.5193626088567722,5.674448767833982,2.6727811747267,2.2234574763757644,2.936816750046322],\"yaxis\":\"y\",\"type\":\"bar\"}],                        {\"template\":{\"data\":{\"barpolar\":[{\"marker\":{\"line\":{\"color\":\"white\",\"width\":0.5},\"pattern\":{\"fillmode\":\"overlay\",\"size\":10,\"solidity\":0.2}},\"type\":\"barpolar\"}],\"bar\":[{\"error_x\":{\"color\":\"#2a3f5f\"},\"error_y\":{\"color\":\"#2a3f5f\"},\"marker\":{\"line\":{\"color\":\"white\",\"width\":0.5},\"pattern\":{\"fillmode\":\"overlay\",\"size\":10,\"solidity\":0.2}},\"type\":\"bar\"}],\"carpet\":[{\"aaxis\":{\"endlinecolor\":\"#2a3f5f\",\"gridcolor\":\"#C8D4E3\",\"linecolor\":\"#C8D4E3\",\"minorgridcolor\":\"#C8D4E3\",\"startlinecolor\":\"#2a3f5f\"},\"baxis\":{\"endlinecolor\":\"#2a3f5f\",\"gridcolor\":\"#C8D4E3\",\"linecolor\":\"#C8D4E3\",\"minorgridcolor\":\"#C8D4E3\",\"startlinecolor\":\"#2a3f5f\"},\"type\":\"carpet\"}],\"choropleth\":[{\"colorbar\":{\"outlinewidth\":0,\"ticks\":\"\"},\"type\":\"choropleth\"}],\"contourcarpet\":[{\"colorbar\":{\"outlinewidth\":0,\"ticks\":\"\"},\"type\":\"contourcarpet\"}],\"contour\":[{\"colorbar\":{\"outlinewidth\":0,\"ticks\":\"\"},\"colorscale\":[[0.0,\"#0d0887\"],[0.1111111111111111,\"#46039f\"],[0.2222222222222222,\"#7201a8\"],[0.3333333333333333,\"#9c179e\"],[0.4444444444444444,\"#bd3786\"],[0.5555555555555556,\"#d8576b\"],[0.6666666666666666,\"#ed7953\"],[0.7777777777777778,\"#fb9f3a\"],[0.8888888888888888,\"#fdca26\"],[1.0,\"#f0f921\"]],\"type\":\"contour\"}],\"heatmapgl\":[{\"colorbar\":{\"outlinewidth\":0,\"ticks\":\"\"},\"colorscale\":[[0.0,\"#0d0887\"],[0.1111111111111111,\"#46039f\"],[0.2222222222222222,\"#7201a8\"],[0.3333333333333333,\"#9c179e\"],[0.4444444444444444,\"#bd3786\"],[0.5555555555555556,\"#d8576b\"],[0.6666666666666666,\"#ed7953\"],[0.7777777777777778,\"#fb9f3a\"],[0.8888888888888888,\"#fdca26\"],[1.0,\"#f0f921\"]],\"type\":\"heatmapgl\"}],\"heatmap\":[{\"colorbar\":{\"outlinewidth\":0,\"ticks\":\"\"},\"colorscale\":[[0.0,\"#0d0887\"],[0.1111111111111111,\"#46039f\"],[0.2222222222222222,\"#7201a8\"],[0.3333333333333333,\"#9c179e\"],[0.4444444444444444,\"#bd3786\"],[0.5555555555555556,\"#d8576b\"],[0.6666666666666666,\"#ed7953\"],[0.7777777777777778,\"#fb9f3a\"],[0.8888888888888888,\"#fdca26\"],[1.0,\"#f0f921\"]],\"type\":\"heatmap\"}],\"histogram2dcontour\":[{\"colorbar\":{\"outlinewidth\":0,\"ticks\":\"\"},\"colorscale\":[[0.0,\"#0d0887\"],[0.1111111111111111,\"#46039f\"],[0.2222222222222222,\"#7201a8\"],[0.3333333333333333,\"#9c179e\"],[0.4444444444444444,\"#bd3786\"],[0.5555555555555556,\"#d8576b\"],[0.6666666666666666,\"#ed7953\"],[0.7777777777777778,\"#fb9f3a\"],[0.8888888888888888,\"#fdca26\"],[1.0,\"#f0f921\"]],\"type\":\"histogram2dcontour\"}],\"histogram2d\":[{\"colorbar\":{\"outlinewidth\":0,\"ticks\":\"\"},\"colorscale\":[[0.0,\"#0d0887\"],[0.1111111111111111,\"#46039f\"],[0.2222222222222222,\"#7201a8\"],[0.3333333333333333,\"#9c179e\"],[0.4444444444444444,\"#bd3786\"],[0.5555555555555556,\"#d8576b\"],[0.6666666666666666,\"#ed7953\"],[0.7777777777777778,\"#fb9f3a\"],[0.8888888888888888,\"#fdca26\"],[1.0,\"#f0f921\"]],\"type\":\"histogram2d\"}],\"histogram\":[{\"marker\":{\"pattern\":{\"fillmode\":\"overlay\",\"size\":10,\"solidity\":0.2}},\"type\":\"histogram\"}],\"mesh3d\":[{\"colorbar\":{\"outlinewidth\":0,\"ticks\":\"\"},\"type\":\"mesh3d\"}],\"parcoords\":[{\"line\":{\"colorbar\":{\"outlinewidth\":0,\"ticks\":\"\"}},\"type\":\"parcoords\"}],\"pie\":[{\"automargin\":true,\"type\":\"pie\"}],\"scatter3d\":[{\"line\":{\"colorbar\":{\"outlinewidth\":0,\"ticks\":\"\"}},\"marker\":{\"colorbar\":{\"outlinewidth\":0,\"ticks\":\"\"}},\"type\":\"scatter3d\"}],\"scattercarpet\":[{\"marker\":{\"colorbar\":{\"outlinewidth\":0,\"ticks\":\"\"}},\"type\":\"scattercarpet\"}],\"scattergeo\":[{\"marker\":{\"colorbar\":{\"outlinewidth\":0,\"ticks\":\"\"}},\"type\":\"scattergeo\"}],\"scattergl\":[{\"marker\":{\"colorbar\":{\"outlinewidth\":0,\"ticks\":\"\"}},\"type\":\"scattergl\"}],\"scattermapbox\":[{\"marker\":{\"colorbar\":{\"outlinewidth\":0,\"ticks\":\"\"}},\"type\":\"scattermapbox\"}],\"scatterpolargl\":[{\"marker\":{\"colorbar\":{\"outlinewidth\":0,\"ticks\":\"\"}},\"type\":\"scatterpolargl\"}],\"scatterpolar\":[{\"marker\":{\"colorbar\":{\"outlinewidth\":0,\"ticks\":\"\"}},\"type\":\"scatterpolar\"}],\"scatter\":[{\"fillpattern\":{\"fillmode\":\"overlay\",\"size\":10,\"solidity\":0.2},\"type\":\"scatter\"}],\"scatterternary\":[{\"marker\":{\"colorbar\":{\"outlinewidth\":0,\"ticks\":\"\"}},\"type\":\"scatterternary\"}],\"surface\":[{\"colorbar\":{\"outlinewidth\":0,\"ticks\":\"\"},\"colorscale\":[[0.0,\"#0d0887\"],[0.1111111111111111,\"#46039f\"],[0.2222222222222222,\"#7201a8\"],[0.3333333333333333,\"#9c179e\"],[0.4444444444444444,\"#bd3786\"],[0.5555555555555556,\"#d8576b\"],[0.6666666666666666,\"#ed7953\"],[0.7777777777777778,\"#fb9f3a\"],[0.8888888888888888,\"#fdca26\"],[1.0,\"#f0f921\"]],\"type\":\"surface\"}],\"table\":[{\"cells\":{\"fill\":{\"color\":\"#EBF0F8\"},\"line\":{\"color\":\"white\"}},\"header\":{\"fill\":{\"color\":\"#C8D4E3\"},\"line\":{\"color\":\"white\"}},\"type\":\"table\"}]},\"layout\":{\"annotationdefaults\":{\"arrowcolor\":\"#2a3f5f\",\"arrowhead\":0,\"arrowwidth\":1},\"autotypenumbers\":\"strict\",\"coloraxis\":{\"colorbar\":{\"outlinewidth\":0,\"ticks\":\"\"}},\"colorscale\":{\"diverging\":[[0,\"#8e0152\"],[0.1,\"#c51b7d\"],[0.2,\"#de77ae\"],[0.3,\"#f1b6da\"],[0.4,\"#fde0ef\"],[0.5,\"#f7f7f7\"],[0.6,\"#e6f5d0\"],[0.7,\"#b8e186\"],[0.8,\"#7fbc41\"],[0.9,\"#4d9221\"],[1,\"#276419\"]],\"sequential\":[[0.0,\"#0d0887\"],[0.1111111111111111,\"#46039f\"],[0.2222222222222222,\"#7201a8\"],[0.3333333333333333,\"#9c179e\"],[0.4444444444444444,\"#bd3786\"],[0.5555555555555556,\"#d8576b\"],[0.6666666666666666,\"#ed7953\"],[0.7777777777777778,\"#fb9f3a\"],[0.8888888888888888,\"#fdca26\"],[1.0,\"#f0f921\"]],\"sequentialminus\":[[0.0,\"#0d0887\"],[0.1111111111111111,\"#46039f\"],[0.2222222222222222,\"#7201a8\"],[0.3333333333333333,\"#9c179e\"],[0.4444444444444444,\"#bd3786\"],[0.5555555555555556,\"#d8576b\"],[0.6666666666666666,\"#ed7953\"],[0.7777777777777778,\"#fb9f3a\"],[0.8888888888888888,\"#fdca26\"],[1.0,\"#f0f921\"]]},\"colorway\":[\"#636efa\",\"#EF553B\",\"#00cc96\",\"#ab63fa\",\"#FFA15A\",\"#19d3f3\",\"#FF6692\",\"#B6E880\",\"#FF97FF\",\"#FECB52\"],\"font\":{\"color\":\"#2a3f5f\"},\"geo\":{\"bgcolor\":\"white\",\"lakecolor\":\"white\",\"landcolor\":\"white\",\"showlakes\":true,\"showland\":true,\"subunitcolor\":\"#C8D4E3\"},\"hoverlabel\":{\"align\":\"left\"},\"hovermode\":\"closest\",\"mapbox\":{\"style\":\"light\"},\"paper_bgcolor\":\"white\",\"plot_bgcolor\":\"white\",\"polar\":{\"angularaxis\":{\"gridcolor\":\"#EBF0F8\",\"linecolor\":\"#EBF0F8\",\"ticks\":\"\"},\"bgcolor\":\"white\",\"radialaxis\":{\"gridcolor\":\"#EBF0F8\",\"linecolor\":\"#EBF0F8\",\"ticks\":\"\"}},\"scene\":{\"xaxis\":{\"backgroundcolor\":\"white\",\"gridcolor\":\"#DFE8F3\",\"gridwidth\":2,\"linecolor\":\"#EBF0F8\",\"showbackground\":true,\"ticks\":\"\",\"zerolinecolor\":\"#EBF0F8\"},\"yaxis\":{\"backgroundcolor\":\"white\",\"gridcolor\":\"#DFE8F3\",\"gridwidth\":2,\"linecolor\":\"#EBF0F8\",\"showbackground\":true,\"ticks\":\"\",\"zerolinecolor\":\"#EBF0F8\"},\"zaxis\":{\"backgroundcolor\":\"white\",\"gridcolor\":\"#DFE8F3\",\"gridwidth\":2,\"linecolor\":\"#EBF0F8\",\"showbackground\":true,\"ticks\":\"\",\"zerolinecolor\":\"#EBF0F8\"}},\"shapedefaults\":{\"line\":{\"color\":\"#2a3f5f\"}},\"ternary\":{\"aaxis\":{\"gridcolor\":\"#DFE8F3\",\"linecolor\":\"#A2B1C6\",\"ticks\":\"\"},\"baxis\":{\"gridcolor\":\"#DFE8F3\",\"linecolor\":\"#A2B1C6\",\"ticks\":\"\"},\"bgcolor\":\"white\",\"caxis\":{\"gridcolor\":\"#DFE8F3\",\"linecolor\":\"#A2B1C6\",\"ticks\":\"\"}},\"title\":{\"x\":0.05},\"xaxis\":{\"automargin\":true,\"gridcolor\":\"#EBF0F8\",\"linecolor\":\"#EBF0F8\",\"ticks\":\"\",\"title\":{\"standoff\":15},\"zerolinecolor\":\"#EBF0F8\",\"zerolinewidth\":2},\"yaxis\":{\"automargin\":true,\"gridcolor\":\"#EBF0F8\",\"linecolor\":\"#EBF0F8\",\"ticks\":\"\",\"title\":{\"standoff\":15},\"zerolinecolor\":\"#EBF0F8\",\"zerolinewidth\":2}}},\"xaxis\":{\"anchor\":\"y\",\"domain\":[0.0,1.0],\"title\":{\"text\":\"Model\"},\"categoryorder\":\"array\",\"categoryarray\":[\"Decision_Tree\",\"SVR\",\"Random_Forest\",\"Gradient_Boost\",\"Ridge\",\"Lasso\"]},\"yaxis\":{\"anchor\":\"x\",\"domain\":[0.0,1.0],\"title\":{\"text\":\"Percentage of Predictions (%)\"}},\"legend\":{\"title\":{\"text\":\"Tolerance\"},\"tracegroupgap\":0},\"title\":{\"text\":\"Percentage of Predictions Within Different Price Ranges\"},\"barmode\":\"group\",\"height\":600,\"width\":1200},                        {\"responsive\": true}                    ).then(function(){\n",
       "                            \n",
       "var gd = document.getElementById('e3db07cc-49a7-4dcb-aaa4-bb82111bda77');\n",
       "var x = new MutationObserver(function (mutations, observer) {{\n",
       "        var display = window.getComputedStyle(gd).display;\n",
       "        if (!display || display === 'none') {{\n",
       "            console.log([gd, 'removed!']);\n",
       "            Plotly.purge(gd);\n",
       "            observer.disconnect();\n",
       "        }}\n",
       "}});\n",
       "\n",
       "// Listen for the removal of the full notebook cells\n",
       "var notebookContainer = gd.closest('#notebook-container');\n",
       "if (notebookContainer) {{\n",
       "    x.observe(notebookContainer, {childList: true});\n",
       "}}\n",
       "\n",
       "// Listen for the clearing of the current output cell\n",
       "var outputEl = gd.closest('.output');\n",
       "if (outputEl) {{\n",
       "    x.observe(outputEl, {childList: true});\n",
       "}}\n",
       "\n",
       "                        })                };                });            </script>        </div>"
      ]
     },
     "metadata": {},
     "output_type": "display_data"
    },
    {
     "ename": "TypeError",
     "evalue": "make_subplots() got unexpected keyword argument(s): ['height']",
     "output_type": "error",
     "traceback": [
      "\u001B[1;31m---------------------------------------------------------------------------\u001B[0m",
      "\u001B[1;31mTypeError\u001B[0m                                 Traceback (most recent call last)",
      "Cell \u001B[1;32mIn[10], line 270\u001B[0m\n\u001B[0;32m    267\u001B[0m         \u001B[38;5;28mprint\u001B[39m(\u001B[38;5;124mf\u001B[39m\u001B[38;5;124m\"\u001B[39m\u001B[38;5;124m- \u001B[39m\u001B[38;5;132;01m{\u001B[39;00mfile\u001B[38;5;241m.\u001B[39mname\u001B[38;5;132;01m}\u001B[39;00m\u001B[38;5;124m\"\u001B[39m)\n\u001B[0;32m    269\u001B[0m \u001B[38;5;28;01mif\u001B[39;00m \u001B[38;5;18m__name__\u001B[39m \u001B[38;5;241m==\u001B[39m \u001B[38;5;124m\"\u001B[39m\u001B[38;5;124m__main__\u001B[39m\u001B[38;5;124m\"\u001B[39m:\n\u001B[1;32m--> 270\u001B[0m     main()\n",
      "Cell \u001B[1;32mIn[10], line 260\u001B[0m, in \u001B[0;36mmain\u001B[1;34m()\u001B[0m\n\u001B[0;32m    258\u001B[0m visualizer\u001B[38;5;241m.\u001B[39mplot_overall_comparison()\n\u001B[0;32m    259\u001B[0m visualizer\u001B[38;5;241m.\u001B[39mplot_tolerance_comparison()\n\u001B[1;32m--> 260\u001B[0m visualizer\u001B[38;5;241m.\u001B[39mplot_train_test_comparison()\n\u001B[0;32m    261\u001B[0m visualizer\u001B[38;5;241m.\u001B[39mcreate_summary_report()\n\u001B[0;32m    262\u001B[0m visualizer\u001B[38;5;241m.\u001B[39mplot_error_distribution()\n",
      "Cell \u001B[1;32mIn[10], line 123\u001B[0m, in \u001B[0;36mEnhancedModelVisualization.plot_train_test_comparison\u001B[1;34m(self)\u001B[0m\n\u001B[0;32m    120\u001B[0m \u001B[38;5;250m\u001B[39m\u001B[38;5;124;03m\"\"\"Plot training vs test performance with error bars.\"\"\"\u001B[39;00m\n\u001B[0;32m    121\u001B[0m metrics \u001B[38;5;241m=\u001B[39m [\u001B[38;5;124m'\u001B[39m\u001B[38;5;124mR2_Score\u001B[39m\u001B[38;5;124m'\u001B[39m, \u001B[38;5;124m'\u001B[39m\u001B[38;5;124mRMSE\u001B[39m\u001B[38;5;124m'\u001B[39m, \u001B[38;5;124m'\u001B[39m\u001B[38;5;124mMAE\u001B[39m\u001B[38;5;124m'\u001B[39m]\n\u001B[1;32m--> 123\u001B[0m fig \u001B[38;5;241m=\u001B[39m make_subplots(\n\u001B[0;32m    124\u001B[0m     rows\u001B[38;5;241m=\u001B[39m\u001B[38;5;28mlen\u001B[39m(metrics), cols\u001B[38;5;241m=\u001B[39m\u001B[38;5;241m1\u001B[39m,\n\u001B[0;32m    125\u001B[0m     subplot_titles\u001B[38;5;241m=\u001B[39m[\u001B[38;5;124mf\u001B[39m\u001B[38;5;124m\"\u001B[39m\u001B[38;5;132;01m{\u001B[39;00mmetric\u001B[38;5;241m.\u001B[39mreplace(\u001B[38;5;124m'\u001B[39m\u001B[38;5;124m_\u001B[39m\u001B[38;5;124m'\u001B[39m,\u001B[38;5;250m \u001B[39m\u001B[38;5;124m'\u001B[39m\u001B[38;5;124m \u001B[39m\u001B[38;5;124m'\u001B[39m)\u001B[38;5;132;01m}\u001B[39;00m\u001B[38;5;124m - Train vs Test\u001B[39m\u001B[38;5;124m\"\u001B[39m \u001B[38;5;28;01mfor\u001B[39;00m metric \u001B[38;5;129;01min\u001B[39;00m metrics],\n\u001B[0;32m    126\u001B[0m     height\u001B[38;5;241m=\u001B[39m\u001B[38;5;241m300\u001B[39m \u001B[38;5;241m*\u001B[39m \u001B[38;5;28mlen\u001B[39m(metrics)\n\u001B[0;32m    127\u001B[0m )\n\u001B[0;32m    129\u001B[0m colors \u001B[38;5;241m=\u001B[39m {\u001B[38;5;124m'\u001B[39m\u001B[38;5;124mTrain\u001B[39m\u001B[38;5;124m'\u001B[39m: \u001B[38;5;124m'\u001B[39m\u001B[38;5;124m#1f77b4\u001B[39m\u001B[38;5;124m'\u001B[39m, \u001B[38;5;124m'\u001B[39m\u001B[38;5;124mTest\u001B[39m\u001B[38;5;124m'\u001B[39m: \u001B[38;5;124m'\u001B[39m\u001B[38;5;124m#ff7f0e\u001B[39m\u001B[38;5;124m'\u001B[39m}\n\u001B[0;32m    131\u001B[0m \u001B[38;5;28;01mfor\u001B[39;00m idx, metric \u001B[38;5;129;01min\u001B[39;00m \u001B[38;5;28menumerate\u001B[39m(metrics, \u001B[38;5;241m1\u001B[39m):\n\u001B[0;32m    132\u001B[0m     \u001B[38;5;66;03m# Sort models by test performance\u001B[39;00m\n",
      "File \u001B[1;32m~\\miniconda3\\Lib\\site-packages\\plotly\\subplots.py:305\u001B[0m, in \u001B[0;36mmake_subplots\u001B[1;34m(rows, cols, shared_xaxes, shared_yaxes, start_cell, print_grid, horizontal_spacing, vertical_spacing, subplot_titles, column_widths, row_heights, specs, insets, column_titles, row_titles, x_title, y_title, figure, **kwargs)\u001B[0m\n\u001B[0;32m      6\u001B[0m \u001B[38;5;28;01mdef\u001B[39;00m \u001B[38;5;21mmake_subplots\u001B[39m(\n\u001B[0;32m      7\u001B[0m     rows\u001B[38;5;241m=\u001B[39m\u001B[38;5;241m1\u001B[39m,\n\u001B[0;32m      8\u001B[0m     cols\u001B[38;5;241m=\u001B[39m\u001B[38;5;241m1\u001B[39m,\n\u001B[1;32m   (...)\u001B[0m\n\u001B[0;32m     25\u001B[0m     \u001B[38;5;241m*\u001B[39m\u001B[38;5;241m*\u001B[39mkwargs,\n\u001B[0;32m     26\u001B[0m ) \u001B[38;5;241m-\u001B[39m\u001B[38;5;241m>\u001B[39m go\u001B[38;5;241m.\u001B[39mFigure:\n\u001B[0;32m     27\u001B[0m \u001B[38;5;250m    \u001B[39m\u001B[38;5;124;03m\"\"\"\u001B[39;00m\n\u001B[0;32m     28\u001B[0m \u001B[38;5;124;03m    Return an instance of plotly.graph_objs.Figure with predefined subplots\u001B[39;00m\n\u001B[0;32m     29\u001B[0m \u001B[38;5;124;03m    configured in 'layout'.\u001B[39;00m\n\u001B[1;32m   (...)\u001B[0m\n\u001B[0;32m    302\u001B[0m \u001B[38;5;124;03m    Figure(...)\u001B[39;00m\n\u001B[0;32m    303\u001B[0m \u001B[38;5;124;03m    \"\"\"\u001B[39;00m\n\u001B[1;32m--> 305\u001B[0m     \u001B[38;5;28;01mreturn\u001B[39;00m _sub\u001B[38;5;241m.\u001B[39mmake_subplots(\n\u001B[0;32m    306\u001B[0m         rows,\n\u001B[0;32m    307\u001B[0m         cols,\n\u001B[0;32m    308\u001B[0m         shared_xaxes,\n\u001B[0;32m    309\u001B[0m         shared_yaxes,\n\u001B[0;32m    310\u001B[0m         start_cell,\n\u001B[0;32m    311\u001B[0m         print_grid,\n\u001B[0;32m    312\u001B[0m         horizontal_spacing,\n\u001B[0;32m    313\u001B[0m         vertical_spacing,\n\u001B[0;32m    314\u001B[0m         subplot_titles,\n\u001B[0;32m    315\u001B[0m         column_widths,\n\u001B[0;32m    316\u001B[0m         row_heights,\n\u001B[0;32m    317\u001B[0m         specs,\n\u001B[0;32m    318\u001B[0m         insets,\n\u001B[0;32m    319\u001B[0m         column_titles,\n\u001B[0;32m    320\u001B[0m         row_titles,\n\u001B[0;32m    321\u001B[0m         x_title,\n\u001B[0;32m    322\u001B[0m         y_title,\n\u001B[0;32m    323\u001B[0m         figure,\n\u001B[0;32m    324\u001B[0m         \u001B[38;5;241m*\u001B[39m\u001B[38;5;241m*\u001B[39mkwargs,\n\u001B[0;32m    325\u001B[0m     )\n",
      "File \u001B[1;32m~\\miniconda3\\Lib\\site-packages\\plotly\\_subplots.py:350\u001B[0m, in \u001B[0;36mmake_subplots\u001B[1;34m(rows, cols, shared_xaxes, shared_yaxes, start_cell, print_grid, horizontal_spacing, vertical_spacing, subplot_titles, column_widths, row_heights, specs, insets, column_titles, row_titles, x_title, y_title, figure, **kwargs)\u001B[0m\n\u001B[0;32m    347\u001B[0m column_widths \u001B[38;5;241m=\u001B[39m kwargs\u001B[38;5;241m.\u001B[39mpop(\u001B[38;5;124m\"\u001B[39m\u001B[38;5;124mcolumn_width\u001B[39m\u001B[38;5;124m\"\u001B[39m, column_widths)\n\u001B[0;32m    349\u001B[0m \u001B[38;5;28;01mif\u001B[39;00m kwargs:\n\u001B[1;32m--> 350\u001B[0m     \u001B[38;5;28;01mraise\u001B[39;00m \u001B[38;5;167;01mTypeError\u001B[39;00m(\n\u001B[0;32m    351\u001B[0m         \u001B[38;5;124m\"\u001B[39m\u001B[38;5;124mmake_subplots() got unexpected keyword argument(s): \u001B[39m\u001B[38;5;132;01m{}\u001B[39;00m\u001B[38;5;124m\"\u001B[39m\u001B[38;5;241m.\u001B[39mformat(\n\u001B[0;32m    352\u001B[0m             \u001B[38;5;28mlist\u001B[39m(kwargs)\n\u001B[0;32m    353\u001B[0m         )\n\u001B[0;32m    354\u001B[0m     )\n\u001B[0;32m    356\u001B[0m \u001B[38;5;66;03m# Validate coerce inputs\u001B[39;00m\n\u001B[0;32m    357\u001B[0m \u001B[38;5;66;03m# ----------------------\u001B[39;00m\n\u001B[0;32m    358\u001B[0m \u001B[38;5;66;03m#  ### rows ###\u001B[39;00m\n\u001B[0;32m    359\u001B[0m \u001B[38;5;28;01mif\u001B[39;00m \u001B[38;5;129;01mnot\u001B[39;00m \u001B[38;5;28misinstance\u001B[39m(rows, \u001B[38;5;28mint\u001B[39m) \u001B[38;5;129;01mor\u001B[39;00m rows \u001B[38;5;241m<\u001B[39m\u001B[38;5;241m=\u001B[39m \u001B[38;5;241m0\u001B[39m:\n",
      "\u001B[1;31mTypeError\u001B[0m: make_subplots() got unexpected keyword argument(s): ['height']"
     ]
    }
   ],
   "execution_count": 10
  },
  {
   "metadata": {},
   "cell_type": "markdown",
   "source": "# Enhanced after iteration",
   "id": "ce6332423388bee4"
  },
  {
   "metadata": {
    "ExecuteTime": {
     "end_time": "2024-10-30T08:25:57.901661Z",
     "start_time": "2024-10-30T08:17:57.192845Z"
    }
   },
   "cell_type": "code",
   "source": [
    "import pandas as pd\n",
    "import numpy as np\n",
    "from sklearn.model_selection import train_test_split\n",
    "from sklearn.preprocessing import StandardScaler, OneHotEncoder\n",
    "from sklearn.compose import ColumnTransformer\n",
    "from sklearn.pipeline import Pipeline\n",
    "from sklearn.ensemble import RandomForestRegressor, GradientBoostingRegressor\n",
    "from sklearn.impute import SimpleImputer\n",
    "from sklearn.metrics import mean_squared_error, r2_score, mean_absolute_error\n",
    "import xgboost as xgb\n",
    "\n",
    "def create_interaction_features(df):\n",
    "    \"\"\"Create interaction features between numeric columns with proper null handling\"\"\"\n",
    "    # Make a copy to avoid modifying the original dataframe\n",
    "    df = df.copy()\n",
    "    \n",
    "    # Replace infinities and null values with 0 for the calculations\n",
    "    df = df.replace([np.inf, -np.inf], np.nan)\n",
    "    \n",
    "    # Distance interactions\n",
    "    df['venue_station_interaction'] = df['distance_to_closest_venue'].fillna(0) * \\\n",
    "                                    df['distance_to_closest_station_km'].fillna(0)\n",
    "    df['venue_center_interaction'] = df['distance_to_closest_venue'].fillna(0) * \\\n",
    "                                   df['distance_to_city_centre'].fillna(0)\n",
    "    df['station_center_interaction'] = df['distance_to_closest_station_km'].fillna(0) * \\\n",
    "                                     df['distance_to_city_centre'].fillna(0)\n",
    "    \n",
    "    # Capacity interactions - using clip to avoid division by zero\n",
    "    df['bed_bath_ratio'] = df['beds'].fillna(0) / df['bathrooms'].fillna(1).clip(lower=1)\n",
    "    df['person_space_ratio'] = df['accommodates'].fillna(0) / \\\n",
    "                              (df['bedrooms'].fillna(1).clip(lower=1) * \\\n",
    "                               df['bathrooms'].fillna(1).clip(lower=1))\n",
    "    \n",
    "    # Availability features\n",
    "    df['occupancy_rate'] = 1 - (df['availability_365'].fillna(365) / 365)\n",
    "    availability_diff = (365 - df['availability_365']).clip(lower=1)\n",
    "    df['review_density'] = df['number_of_reviews'].fillna(0) / availability_diff\n",
    "    \n",
    "    return df\n",
    "\n",
    "def prepare_features_target(df, target_column='avg_price', exclude_columns=None):\n",
    "    \"\"\"Enhanced feature preparation with missing value handling\"\"\"\n",
    "    print(\"\\nPreparing features and target...\")\n",
    "    \n",
    "    # Create interaction features\n",
    "    df = create_interaction_features(df)\n",
    "    \n",
    "    if exclude_columns is None:\n",
    "        exclude_columns = []\n",
    "    \n",
    "    exclude_columns = exclude_columns + [target_column]\n",
    "    \n",
    "    categorical_columns = [\n",
    "        'host_is_superhost',\n",
    "        'property_type',\n",
    "        'room_type',\n",
    "        'neighbourhood_cleansed',\n",
    "        'instant_bookable'\n",
    "    ]\n",
    "    \n",
    "    categorical_columns = [col for col in categorical_columns \n",
    "                         if col in df.columns and col not in exclude_columns]\n",
    "    \n",
    "    numeric_features = [\n",
    "        'accommodates', 'bathrooms', 'bedrooms', 'beds',\n",
    "        'minimum_nights', 'availability_365', 'review_scores_rating',\n",
    "        'distance_to_closest_venue', 'distance_to_closest_station_km',\n",
    "        'distance_to_city_centre', 'venue_station_interaction',\n",
    "        'venue_center_interaction', 'station_center_interaction',\n",
    "        'bed_bath_ratio', 'person_space_ratio', 'occupancy_rate',\n",
    "        'review_density', 'number_of_reviews'\n",
    "    ]\n",
    "    \n",
    "    if 'review_scores_value' in df.columns:\n",
    "        numeric_features.append('review_scores_value')\n",
    "    if 'review_scores_location' in df.columns:\n",
    "        numeric_features.append('review_scores_location')\n",
    "    \n",
    "    numeric_features = [f for f in numeric_features if f in df.columns]\n",
    "    \n",
    "    # Select features and target\n",
    "    X = df[numeric_features + categorical_columns]\n",
    "    y = df[target_column]\n",
    "    \n",
    "    # Create preprocessor with imputers\n",
    "    numeric_transformer = Pipeline(steps=[\n",
    "        ('imputer', SimpleImputer(strategy='median')),\n",
    "        ('scaler', StandardScaler())\n",
    "    ])\n",
    "    \n",
    "    categorical_transformer = Pipeline(steps=[\n",
    "        ('imputer', SimpleImputer(strategy='constant', fill_value='missing')),\n",
    "        ('onehot', OneHotEncoder(drop='first', sparse_output=False, handle_unknown='ignore'))\n",
    "    ])\n",
    "    \n",
    "    preprocessor = ColumnTransformer(\n",
    "        transformers=[\n",
    "            ('num', numeric_transformer, numeric_features),\n",
    "            ('cat', categorical_transformer, categorical_columns)\n",
    "        ]\n",
    "    )\n",
    "    \n",
    "    return X, y, preprocessor, numeric_features, categorical_columns\n",
    "\n",
    "def train_multiple_models(X, y, preprocessor):\n",
    "    \"\"\"Train and evaluate multiple models with proper preprocessing\"\"\"\n",
    "    print(\"\\nTraining multiple models...\")\n",
    "    \n",
    "    # Split data\n",
    "    X_train, X_temp, y_train, y_temp = train_test_split(X, y, test_size=0.3, random_state=42)\n",
    "    X_val, X_test, y_val, y_test = train_test_split(X_temp, y_temp, test_size=0.5, random_state=42)\n",
    "    \n",
    "    # Define models with initial hyperparameters\n",
    "    models = {\n",
    "        'RandomForest': RandomForestRegressor(\n",
    "            n_estimators=500,\n",
    "            max_depth=None,\n",
    "            min_samples_split=2,\n",
    "            min_samples_leaf=1,\n",
    "            max_features='sqrt',\n",
    "            n_jobs=-1,\n",
    "            random_state=42\n",
    "        ),\n",
    "        'GradientBoosting': GradientBoostingRegressor(\n",
    "            n_estimators=500,\n",
    "            learning_rate=0.1,\n",
    "            max_depth=5,\n",
    "            random_state=42\n",
    "        ),\n",
    "        'XGBoost': xgb.XGBRegressor(\n",
    "            n_estimators=500,\n",
    "            learning_rate=0.1,\n",
    "            max_depth=5,\n",
    "            n_jobs=-1,\n",
    "            random_state=42\n",
    "        )\n",
    "    }\n",
    "    \n",
    "    best_model = None\n",
    "    best_score = float('-inf')\n",
    "    results = {}\n",
    "    \n",
    "    # Train and evaluate each model\n",
    "    for name, model in models.items():\n",
    "        print(f\"\\nTraining {name}...\")\n",
    "        \n",
    "        pipeline = Pipeline([\n",
    "            ('preprocessor', preprocessor),\n",
    "            ('regressor', model)\n",
    "        ])\n",
    "        \n",
    "        # Fit model\n",
    "        pipeline.fit(X_train, y_train)\n",
    "        \n",
    "        # Make predictions\n",
    "        predictions = {\n",
    "            'train': pipeline.predict(X_train),\n",
    "            'val': pipeline.predict(X_val),\n",
    "            'test': pipeline.predict(X_test)\n",
    "        }\n",
    "        \n",
    "        # Calculate metrics\n",
    "        metrics = {}\n",
    "        for dataset, pred in predictions.items():\n",
    "            y_true = locals()[f'y_{dataset}']\n",
    "            metrics[dataset] = {\n",
    "                'R2 Score': r2_score(y_true, pred),\n",
    "                'RMSE': np.sqrt(mean_squared_error(y_true, pred)),\n",
    "                'MAE': mean_absolute_error(y_true, pred)\n",
    "            }\n",
    "        \n",
    "        results[name] = metrics\n",
    "        \n",
    "        # Track best model\n",
    "        val_score = metrics['val']['R2 Score']\n",
    "        if val_score > best_score:\n",
    "            best_score = val_score\n",
    "            best_model = pipeline\n",
    "    \n",
    "    # Print results\n",
    "    print(\"\\nModel Performance Metrics:\")\n",
    "    for model_name, metrics in results.items():\n",
    "        print(f\"\\n{model_name}:\")\n",
    "        for dataset, m in metrics.items():\n",
    "            print(f\"\\n{dataset.capitalize()} Set:\")\n",
    "            for metric_name, value in m.items():\n",
    "                print(f\"{metric_name}: {value:.4f}\")\n",
    "    \n",
    "    return best_model, results\n",
    "\n",
    "def main():\n",
    "    # Your existing exclude_cols definition\n",
    "    exclude_cols = [\n",
    "        'id', 'host_id', 'name',\n",
    "        'last_scraped', 'first_review', 'last_review', 'calendar_last_scraped',\n",
    "        'price_period_start', 'price_period_end',\n",
    "        'minimum_minimum_nights', 'maximum_minimum_nights',\n",
    "        'minimum_maximum_nights', 'maximum_maximum_nights',\n",
    "        'number_of_listings', 'price_std'\n",
    "    ]\n",
    "    \n",
    "    # Prepare features and target\n",
    "    X, y, preprocessor, numeric_features, categorical_cols = prepare_features_target(\n",
    "        df, \n",
    "        target_column='avg_price',\n",
    "        exclude_columns=exclude_cols\n",
    "    )\n",
    "    \n",
    "    # Train and evaluate models\n",
    "    best_model, results = train_multiple_models(X, y, preprocessor)\n",
    "    \n",
    "    # Get feature importance from best model if it's a tree-based model\n",
    "    if hasattr(best_model.named_steps['regressor'], 'feature_importances_'):\n",
    "        feature_names = (numeric_features + \n",
    "                        best_model.named_steps['preprocessor']\n",
    "                        .named_transformers_['cat']\n",
    "                        .get_feature_names_out(categorical_cols).tolist())\n",
    "        \n",
    "        importance = pd.DataFrame({\n",
    "            'feature': feature_names,\n",
    "            'importance': best_model.named_steps['regressor'].feature_importances_\n",
    "        }).sort_values('importance', ascending=False)\n",
    "        \n",
    "        print(\"\\nTop 10 Most Important Features:\")\n",
    "        print(importance.head(10))\n",
    "\n",
    "if __name__ == \"__main__\":\n",
    "    main()"
   ],
   "id": "40f4c7618cf302a8",
   "outputs": [
    {
     "name": "stdout",
     "output_type": "stream",
     "text": [
      "\n",
      "Preparing features and target...\n",
      "\n",
      "Training multiple models...\n",
      "\n",
      "Training RandomForest...\n"
     ]
    },
    {
     "name": "stderr",
     "output_type": "stream",
     "text": [
      "C:\\Users\\sjokk\\miniconda3\\Lib\\site-packages\\sklearn\\preprocessing\\_encoders.py:242: UserWarning: Found unknown categories in columns [1] during transform. These unknown categories will be encoded as all zeros\n",
      "  warnings.warn(\n",
      "C:\\Users\\sjokk\\miniconda3\\Lib\\site-packages\\sklearn\\preprocessing\\_encoders.py:242: UserWarning: Found unknown categories in columns [1] during transform. These unknown categories will be encoded as all zeros\n",
      "  warnings.warn(\n"
     ]
    },
    {
     "name": "stdout",
     "output_type": "stream",
     "text": [
      "\n",
      "Training GradientBoosting...\n"
     ]
    },
    {
     "name": "stderr",
     "output_type": "stream",
     "text": [
      "C:\\Users\\sjokk\\miniconda3\\Lib\\site-packages\\sklearn\\preprocessing\\_encoders.py:242: UserWarning: Found unknown categories in columns [1] during transform. These unknown categories will be encoded as all zeros\n",
      "  warnings.warn(\n",
      "C:\\Users\\sjokk\\miniconda3\\Lib\\site-packages\\sklearn\\preprocessing\\_encoders.py:242: UserWarning: Found unknown categories in columns [1] during transform. These unknown categories will be encoded as all zeros\n",
      "  warnings.warn(\n"
     ]
    },
    {
     "name": "stdout",
     "output_type": "stream",
     "text": [
      "\n",
      "Training XGBoost...\n"
     ]
    },
    {
     "name": "stderr",
     "output_type": "stream",
     "text": [
      "C:\\Users\\sjokk\\miniconda3\\Lib\\site-packages\\sklearn\\preprocessing\\_encoders.py:242: UserWarning: Found unknown categories in columns [1] during transform. These unknown categories will be encoded as all zeros\n",
      "  warnings.warn(\n",
      "C:\\Users\\sjokk\\miniconda3\\Lib\\site-packages\\sklearn\\preprocessing\\_encoders.py:242: UserWarning: Found unknown categories in columns [1] during transform. These unknown categories will be encoded as all zeros\n",
      "  warnings.warn(\n"
     ]
    },
    {
     "name": "stdout",
     "output_type": "stream",
     "text": [
      "\n",
      "Model Performance Metrics:\n",
      "\n",
      "RandomForest:\n",
      "\n",
      "Train Set:\n",
      "R2 Score: 0.9286\n",
      "RMSE: 65.6685\n",
      "MAE: 37.7381\n",
      "\n",
      "Val Set:\n",
      "R2 Score: 0.4626\n",
      "RMSE: 174.0227\n",
      "MAE: 100.5317\n",
      "\n",
      "Test Set:\n",
      "R2 Score: 0.4665\n",
      "RMSE: 171.3616\n",
      "MAE: 99.2598\n",
      "\n",
      "GradientBoosting:\n",
      "\n",
      "Train Set:\n",
      "R2 Score: 0.6096\n",
      "RMSE: 153.5568\n",
      "MAE: 89.7888\n",
      "\n",
      "Val Set:\n",
      "R2 Score: 0.4688\n",
      "RMSE: 173.0203\n",
      "MAE: 99.1613\n",
      "\n",
      "Test Set:\n",
      "R2 Score: 0.4774\n",
      "RMSE: 169.6064\n",
      "MAE: 97.2732\n",
      "\n",
      "XGBoost:\n",
      "\n",
      "Train Set:\n",
      "R2 Score: 0.5950\n",
      "RMSE: 156.4031\n",
      "MAE: 90.4659\n",
      "\n",
      "Val Set:\n",
      "R2 Score: 0.4733\n",
      "RMSE: 172.2850\n",
      "MAE: 98.6973\n",
      "\n",
      "Test Set:\n",
      "R2 Score: 0.4813\n",
      "RMSE: 168.9699\n",
      "MAE: 97.0237\n",
      "\n",
      "Top 10 Most Important Features:\n",
      "                                       feature  importance\n",
      "2                                     bedrooms    0.121163\n",
      "1                                    bathrooms    0.054604\n",
      "16                              review_density    0.045527\n",
      "56   property_type_Private room in rental unit    0.045041\n",
      "102               neighbourhood_cleansed_Passy    0.040145\n",
      "64        property_type_Room in boutique hotel    0.031249\n",
      "66                 property_type_Room in hotel    0.029992\n",
      "4                               minimum_nights    0.029922\n",
      "0                                 accommodates    0.029606\n",
      "100      neighbourhood_cleansed_Palais-Bourbon    0.025473\n"
     ]
    }
   ],
   "execution_count": 29
  },
  {
   "metadata": {},
   "cell_type": "markdown",
   "source": "# Forest regression pipeline - Advanced",
   "id": "83d820823f55cd6f"
  },
  {
   "metadata": {
    "ExecuteTime": {
     "end_time": "2024-11-06T22:29:58.971286Z",
     "start_time": "2024-11-06T22:29:58.946623Z"
    }
   },
   "cell_type": "code",
   "source": [
    "import pandas as pd\n",
    "import numpy as np\n",
    "from sklearn.model_selection import train_test_split, GridSearchCV, KFold\n",
    "from sklearn.ensemble import RandomForestRegressor\n",
    "from sklearn.preprocessing import StandardScaler\n",
    "from sklearn.metrics import mean_squared_error, r2_score, mean_absolute_error\n",
    "from sklearn.pipeline import Pipeline\n",
    "from sklearn.compose import ColumnTransformer\n",
    "from sklearn.preprocessing import StandardScaler, OneHotEncoder\n",
    "import logging\n",
    "import matplotlib.pyplot as plt\n",
    "import seaborn as sns\n",
    "import os\n",
    "from typing import Dict, Any\n",
    "\n",
    "class AdvancedRandomForest:\n",
    "    def __init__(self, max_depth_limit=20):\n",
    "        self.pipeline = None\n",
    "        self.best_params = None\n",
    "        self.feature_importance = None\n",
    "        self.cv_scores = None\n",
    "        self.preprocessor = None\n",
    "        self.max_depth_limit = max_depth_limit\n",
    "        self.feature_names = None\n",
    "        \n",
    "        logging.basicConfig(\n",
    "            level=logging.INFO,\n",
    "            format='%(asctime)s - %(levelname)s - %(message)s'\n",
    "        )\n",
    "        self.logger = logging.getLogger(__name__)\n",
    "\n",
    "    def create_pipeline(self, X: pd.DataFrame) -> Pipeline:\n",
    "        \"\"\"Create sklearn pipeline with preprocessing for both numerical and categorical data\"\"\"\n",
    "        # Store column names for later use\n",
    "        self.feature_names = list(X.columns)\n",
    "        \n",
    "        # Identify numeric and categorical columns\n",
    "        numeric_features = X.select_dtypes(include=['int64', 'float64']).columns\n",
    "        categorical_features = X.select_dtypes(include=['object', 'category']).columns\n",
    "        \n",
    "        self.logger.info(f\"Numeric features: {len(numeric_features)}\")\n",
    "        self.logger.info(f\"Categorical features: {len(categorical_features)}\")\n",
    "        \n",
    "        numeric_transformer = StandardScaler()\n",
    "        \n",
    "        categorical_transformer = OneHotEncoder(\n",
    "            drop='first', \n",
    "            sparse_output=False, \n",
    "            handle_unknown='ignore'\n",
    "        )\n",
    "        \n",
    "        # Combine preprocessors\n",
    "        self.preprocessor = ColumnTransformer(\n",
    "            transformers=[\n",
    "                ('num', numeric_transformer, numeric_features),\n",
    "                ('cat', categorical_transformer, categorical_features)\n",
    "            ],\n",
    "            remainder='passthrough',\n",
    "            verbose_feature_names_out=False\n",
    "        )\n",
    "        \n",
    "        return Pipeline([\n",
    "            ('preprocessor', self.preprocessor),\n",
    "            ('rf', RandomForestRegressor(\n",
    "                random_state=42,\n",
    "                n_jobs=-1,\n",
    "                bootstrap=True,\n",
    "                oob_score=True\n",
    "            ))\n",
    "        ])\n",
    "\n",
    "    def get_param_grid(self) -> Dict[str, Any]:\n",
    "        \"\"\"Simplified parameter grid for faster execution\"\"\"\n",
    "        return {\n",
    "            'rf__n_estimators': [100],\n",
    "            'rf__max_depth': [10, None],\n",
    "            'rf__min_samples_split': [2, 10],\n",
    "            'rf__min_samples_leaf': [1, 4],\n",
    "            'rf__max_features': ['sqrt']\n",
    "        }\n",
    "\n",
    "    def fit(self, X: pd.DataFrame, y: pd.Series) -> None:\n",
    "        self.logger.info(\"Starting model training with cross-validation...\")\n",
    "        \n",
    "        pipeline = self.create_pipeline(X)\n",
    "        param_grid = self.get_param_grid()\n",
    "        \n",
    "        cv = KFold(n_splits=3, shuffle=True, random_state=42)\n",
    "        \n",
    "        grid_search = GridSearchCV(\n",
    "            pipeline,\n",
    "            param_grid,\n",
    "            cv=cv,\n",
    "            scoring='neg_mean_squared_error',\n",
    "            n_jobs=-1,\n",
    "            verbose=1\n",
    "        )\n",
    "        \n",
    "        grid_search.fit(X, y)\n",
    "        \n",
    "        self.pipeline = grid_search.best_estimator_\n",
    "        self.best_params = grid_search.best_params_\n",
    "        \n",
    "        # Get feature names after preprocessing\n",
    "        try:\n",
    "            # Get feature names after preprocessing\n",
    "            feature_names = self.pipeline.named_steps['preprocessor'].get_feature_names_out()\n",
    "        except Exception as e:\n",
    "            self.logger.warning(f\"Could not get feature names automatically: {e}\")\n",
    "            # Fallback: use numbers as feature names\n",
    "            feature_names = [f\"feature_{i}\" for i in range(len(self.pipeline.named_steps['rf'].feature_importances_))]\n",
    "        \n",
    "        # Get feature importance\n",
    "        rf_model = self.pipeline.named_steps['rf']\n",
    "        self.feature_importance = pd.DataFrame({\n",
    "            'feature': feature_names,\n",
    "            'importance': rf_model.feature_importances_\n",
    "        }).sort_values('importance', ascending=False)\n",
    "        \n",
    "        self.logger.info(\"Model training completed!\")\n",
    "        self.logger.info(f\"Best parameters: {self.best_params}\")\n",
    "        \n",
    "        # Log top features\n",
    "        self.logger.info(\"\\nTop 10 most important features:\")\n",
    "        self.logger.info(self.feature_importance.head(10).to_string())\n",
    "    \n",
    "    def predict(self, X: pd.DataFrame) -> np.ndarray:\n",
    "        return self.pipeline.predict(X)\n",
    "    \n",
    "    def get_feature_importance(self):\n",
    "        return self.feature_importance\n",
    "\n",
    "def ensure_directory_exists(directory):\n",
    "    \"\"\"Create directory if it doesn't exist\"\"\"\n",
    "    if not os.path.exists(directory):\n",
    "        os.makedirs(directory)\n",
    "        print(f\"Created directory: {directory}\")\n",
    "\n",
    "def plot_predictions(y_true, y_pred, model_name, save_path='output/visualizations'):\n",
    "    \"\"\"Create and save prediction vs actual plot\"\"\"\n",
    "    ensure_directory_exists(save_path)\n",
    "    \n",
    "    plt.figure(figsize=(10, 6))\n",
    "    plt.scatter(y_true, y_pred, alpha=0.5)\n",
    "    \n",
    "    min_val = min(y_true.min(), y_pred.min())\n",
    "    max_val = max(y_true.max(), y_pred.max())\n",
    "    plt.plot([min_val, max_val], [min_val, max_val], 'r--', lw=2)\n",
    "    \n",
    "    plt.title(f'{model_name}: Predicted vs Actual')\n",
    "    plt.xlabel('Actual Price')\n",
    "    plt.ylabel('Predicted Price')\n",
    "    \n",
    "    r2 = r2_score(y_true, y_pred)\n",
    "    plt.text(0.05, 0.95, f'R² = {r2:.4f}', \n",
    "             transform=plt.gca().transAxes,\n",
    "             bbox=dict(facecolor='white', alpha=0.8))\n",
    "    \n",
    "    plt.grid(True, alpha=0.3)\n",
    "    save_file = os.path.join(save_path, f'{model_name.lower().replace(\" \", \"_\")}_predictions.png')\n",
    "    plt.savefig(save_file, dpi=300, bbox_inches='tight')\n",
    "    plt.close()\n",
    "\n",
    "def plot_feature_importance(model, save_path='output/visualizations'):\n",
    "    \"\"\"Create and save feature importance plot\"\"\"\n",
    "    ensure_directory_exists(save_path)\n",
    "    \n",
    "    importance_df = model.get_feature_importance()\n",
    "    \n",
    "    # Adjust figure size based on feature name length\n",
    "    max_name_length = importance_df['feature'].str.len().max()\n",
    "    fig_height = max(8, min(15, len(importance_df.head(15)) * 0.5))\n",
    "    fig_width = max(10, min(20, max_name_length * 0.2))\n",
    "    \n",
    "    plt.figure(figsize=(fig_width, fig_height))\n",
    "    \n",
    "    # Plot top 15 features\n",
    "    importance_subset = importance_df.head(15)\n",
    "    \n",
    "    # Create bar plot\n",
    "    bars = plt.barh(range(len(importance_subset)), \n",
    "                    importance_subset['importance'])\n",
    "    \n",
    "    # Add feature names\n",
    "    plt.yticks(range(len(importance_subset)), \n",
    "               importance_subset['feature'], \n",
    "               fontsize=8)\n",
    "    \n",
    "    # Add value labels on bars\n",
    "    for i, bar in enumerate(bars):\n",
    "        width = bar.get_width()\n",
    "        plt.text(width, i, f'{width:.4f}', \n",
    "                va='center', ha='left', fontsize=8)\n",
    "    \n",
    "    plt.title('Top 15 Most Important Features')\n",
    "    plt.xlabel('Importance')\n",
    "    \n",
    "    # Adjust layout to prevent label cutoff\n",
    "    plt.tight_layout()\n",
    "    \n",
    "    save_file = os.path.join(save_path, 'feature_importance.png')\n",
    "    plt.savefig(save_file, dpi=300, bbox_inches='tight')\n",
    "    plt.close()\n",
    "\n",
    "def plot_error_distribution(y_true, y_pred, save_path='output/visualizations'):\n",
    "    \"\"\"Create and save error distribution plot\"\"\"\n",
    "    ensure_directory_exists(save_path)\n",
    "    \n",
    "    errors = y_true - y_pred\n",
    "    \n",
    "    plt.figure(figsize=(10, 6))\n",
    "    sns.histplot(errors, bins=50, kde=True)\n",
    "    plt.title('Error Distribution')\n",
    "    plt.xlabel('Prediction Error')\n",
    "    plt.ylabel('Count')\n",
    "    \n",
    "    mean_error = np.mean(errors)\n",
    "    std_error = np.std(errors)\n",
    "    rmse = np.sqrt(mean_squared_error(y_true, y_pred))\n",
    "    \n",
    "    stats_text = (f'Mean Error: {mean_error:.2f}\\n'\n",
    "                 f'Std Dev: {std_error:.2f}\\n'\n",
    "                 f'RMSE: {rmse:.2f}')\n",
    "    \n",
    "    plt.text(0.95, 0.95, stats_text,\n",
    "             transform=plt.gca().transAxes,\n",
    "             verticalalignment='top',\n",
    "             horizontalalignment='right',\n",
    "             bbox=dict(boxstyle='round', facecolor='white', alpha=0.8))\n",
    "    \n",
    "    save_file = os.path.join(save_path, 'error_distribution.png')\n",
    "    plt.savefig(save_file, dpi=300, bbox_inches='tight')\n",
    "    plt.close()\n",
    "\n",
    "def regression_evaluation_report(y_true, y_pred):\n",
    "    \"\"\"Create comprehensive regression evaluation report\"\"\"\n",
    "    mse = mean_squared_error(y_true, y_pred)\n",
    "    rmse = np.sqrt(mse)\n",
    "    r2 = r2_score(y_true, y_pred)\n",
    "    mae = mean_absolute_error(y_true, y_pred)\n",
    "    \n",
    "    errors = np.abs(y_true - y_pred)\n",
    "    error_percentiles = np.percentile(errors, [25, 50, 75, 90, 95])\n",
    "    \n",
    "    within_10_percent = np.mean(errors <= (y_true * 0.10)) * 100\n",
    "    within_20_percent = np.mean(errors <= (y_true * 0.20)) * 100\n",
    "    within_30_percent = np.mean(errors <= (y_true * 0.30)) * 100\n",
    "    \n",
    "    print(\"\\nModel Evaluation Report\")\n",
    "    print(\"-\" * 50)\n",
    "    print(f\"R² Score:                    {r2:.4f}\")\n",
    "    print(f\"RMSE:                        {rmse:.2f}\")\n",
    "    print(f\"MAE:                         {mae:.2f}\")\n",
    "    print(\"\\nError Percentiles:\")\n",
    "    print(f\"25th percentile:             {error_percentiles[0]:.2f}\")\n",
    "    print(f\"Median error:                {error_percentiles[1]:.2f}\")\n",
    "    print(f\"75th percentile:             {error_percentiles[2]:.2f}\")\n",
    "    print(f\"90th percentile:             {error_percentiles[3]:.2f}\")\n",
    "    print(f\"95th percentile:             {error_percentiles[4]:.2f}\")\n",
    "    print(\"\\nPrediction Accuracy:\")\n",
    "    print(f\"Within 10% of true value:    {within_10_percent:.1f}%\")\n",
    "    print(f\"Within 20% of true value:    {within_20_percent:.1f}%\")\n",
    "    print(f\"Within 30% of true value:    {within_30_percent:.1f}%\")\n",
    "    \n",
    "    return {\n",
    "        'r2': r2,\n",
    "        'rmse': rmse,\n",
    "        'mae': mae,\n",
    "        'within_10_percent': within_10_percent,\n",
    "        'within_20_percent': within_20_percent,\n",
    "        'within_30_percent': within_30_percent\n",
    "    }"
   ],
   "id": "133ba0a75ebcf755",
   "outputs": [],
   "execution_count": 23
  },
  {
   "metadata": {
    "ExecuteTime": {
     "end_time": "2024-11-06T22:31:15.899558Z",
     "start_time": "2024-11-06T22:30:05.837002Z"
    }
   },
   "cell_type": "code",
   "source": [
    "# Load and process data\n",
    "data = pd.read_csv('cleaned_data/machine_learning/ml_final_processed_listings_data.csv')\n",
    "\n",
    "# Define columns to exclude\n",
    "exclude_cols = [\n",
    "    'id', 'host_id',\n",
    "    'last_scraped', 'first_review', 'last_review',\n",
    "    'calendar_last_scraped', 'price_period_start', 'price_period_end',\n",
    "    'name', \"amenities\",\n",
    "    'minimum_minimum_nights', 'maximum_minimum_nights',\n",
    "    'minimum_maximum_nights', 'maximum_maximum_nights',\n",
    "    'number_of_listings', 'price_std',\n",
    "    'latitude', 'longitude',\n",
    "    'avg_price'\n",
    "]\n",
    "\n",
    "# Prepare features and target\n",
    "y = data['avg_price']\n",
    "X = data.drop(columns=exclude_cols)\n",
    "\n",
    "# Split data\n",
    "X_train, X_test, y_train, y_test = train_test_split(X, y, test_size=0.2, random_state=42)\n",
    "\n",
    "# Train and evaluate model\n",
    "model = AdvancedRandomForest()\n",
    "model.fit(X_train, y_train)\n",
    "predictions = model.predict(X_test)\n",
    "\n",
    "# Generate visualizations and evaluation report\n",
    "plot_predictions(y_test, predictions, \"Advanced Random Forest\")\n",
    "plot_feature_importance(model)\n",
    "plot_error_distribution(y_test, predictions)\n",
    "metrics = regression_evaluation_report(y_test, predictions)"
   ],
   "id": "67524fa3c37e0cff",
   "outputs": [
    {
     "name": "stderr",
     "output_type": "stream",
     "text": [
      "2024-11-06 23:30:07,473 - INFO - Starting model training with cross-validation...\n",
      "2024-11-06 23:30:07,481 - INFO - Numeric features: 32\n",
      "2024-11-06 23:30:07,482 - INFO - Categorical features: 6\n"
     ]
    },
    {
     "name": "stdout",
     "output_type": "stream",
     "text": [
      "Fitting 3 folds for each of 8 candidates, totalling 24 fits\n"
     ]
    },
    {
     "name": "stderr",
     "output_type": "stream",
     "text": [
      "2024-11-06 23:31:13,614 - INFO - Model training completed!\n",
      "2024-11-06 23:31:13,615 - INFO - Best parameters: {'rf__max_depth': None, 'rf__max_features': 'sqrt', 'rf__min_samples_leaf': 1, 'rf__min_samples_split': 2, 'rf__n_estimators': 100}\n",
      "2024-11-06 23:31:13,615 - INFO - \n",
      "Top 10 most important features:\n",
      "2024-11-06 23:31:13,617 - INFO -                            feature  importance\n",
      "4                         bedrooms    0.071692\n",
      "2                     accommodates    0.067238\n",
      "3                        bathrooms    0.058377\n",
      "5                             beds    0.050746\n",
      "13                availability_365    0.046669\n",
      "8           minimum_nights_avg_ntm    0.040071\n",
      "29       distance_to_closest_venue    0.037494\n",
      "31         distance_to_city_centre    0.037454\n",
      "30  distance_to_closest_station_km    0.034130\n",
      "12                 availability_90    0.031850\n"
     ]
    },
    {
     "name": "stdout",
     "output_type": "stream",
     "text": [
      "\n",
      "Model Evaluation Report\n",
      "--------------------------------------------------\n",
      "R² Score:                    0.5349\n",
      "RMSE:                        161.27\n",
      "MAE:                         91.95\n",
      "\n",
      "Error Percentiles:\n",
      "25th percentile:             21.56\n",
      "Median error:                49.06\n",
      "75th percentile:             105.24\n",
      "90th percentile:             212.22\n",
      "95th percentile:             331.22\n",
      "\n",
      "Prediction Accuracy:\n",
      "Within 10% of true value:    16.8%\n",
      "Within 20% of true value:    32.4%\n",
      "Within 30% of true value:    45.6%\n"
     ]
    }
   ],
   "execution_count": 24
  },
  {
   "metadata": {},
   "cell_type": "markdown",
   "source": "# SHAP",
   "id": "f914d340d9277cda"
  },
  {
   "metadata": {
    "ExecuteTime": {
     "end_time": "2024-11-06T22:35:32.642184Z",
     "start_time": "2024-11-06T22:34:11.273299Z"
    }
   },
   "cell_type": "code",
   "source": [
    "import numpy as np\n",
    "import pandas as pd\n",
    "import shap\n",
    "import matplotlib.pyplot as plt\n",
    "import seaborn as sns\n",
    "from sklearn.model_selection import train_test_split\n",
    "import joblib\n",
    "\n",
    "def get_feature_names(pipeline, X):\n",
    "    \"\"\"\n",
    "    Get feature names after preprocessing pipeline transformation\n",
    "    \n",
    "    Parameters:\n",
    "    -----------\n",
    "    pipeline : sklearn.Pipeline\n",
    "        Trained pipeline containing preprocessor\n",
    "    X : pd.DataFrame\n",
    "        Original feature dataset\n",
    "        \n",
    "    Returns:\n",
    "    --------\n",
    "    list : Feature names after preprocessing\n",
    "    \"\"\"\n",
    "    # Try getting feature names from newer scikit-learn versions\n",
    "    if hasattr(pipeline.named_steps['preprocessor'], 'get_feature_names_out'):\n",
    "        return list(pipeline.named_steps['preprocessor'].get_feature_names_out())\n",
    "    \n",
    "    # Fallback for older scikit-learn versions\n",
    "    numeric_features = X.select_dtypes(include=['int64', 'float64']).columns\n",
    "    categorical_features = X.select_dtypes(include=['object', 'category']).columns\n",
    "    \n",
    "    # Start with numeric feature names\n",
    "    feature_names = list(numeric_features)\n",
    "    \n",
    "    # Add encoded categorical feature names\n",
    "    for feature in categorical_features:\n",
    "        unique_vals = X[feature].unique()[1:]  # Skip first value due to drop='first'\n",
    "        feature_names.extend([f'{feature}_{val}' for val in unique_vals])\n",
    "    \n",
    "    return feature_names\n",
    "\n",
    "def perform_shap_analysis(model, X, feature_names=None, sample_size=1000):\n",
    "    \"\"\"\n",
    "    Perform comprehensive SHAP analysis on a trained model\n",
    "    \n",
    "    Parameters:\n",
    "    -----------\n",
    "    model : sklearn pipeline or model\n",
    "        Trained model to analyze\n",
    "    X : pd.DataFrame\n",
    "        Feature dataset\n",
    "    feature_names : list, optional\n",
    "        List of feature names\n",
    "    sample_size : int, optional\n",
    "        Number of samples to use for SHAP analysis\n",
    "    \"\"\"\n",
    "    \n",
    "    # Sample data if needed\n",
    "    if len(X) > sample_size:\n",
    "        X_sample = X.sample(sample_size, random_state=42)\n",
    "    else:\n",
    "        X_sample = X\n",
    "        \n",
    "    # Get preprocessed data and model\n",
    "    if hasattr(model, 'named_steps'):\n",
    "        # Debug: Print available steps in pipeline\n",
    "        print(\"Available steps in pipeline:\", list(model.named_steps.keys()))\n",
    "        \n",
    "        # Get the preprocessed data\n",
    "        X_processed = model.named_steps['preprocessor'].transform(X_sample)\n",
    "        if hasattr(X_processed, 'toarray'):\n",
    "            X_processed = X_processed.toarray()\n",
    "            \n",
    "        # Get the actual model (using the last step in the pipeline)\n",
    "        last_step_name = list(model.named_steps.keys())[-1]\n",
    "        model_to_explain = model.named_steps[last_step_name]\n",
    "        print(f\"Using model from step: {last_step_name}\")\n",
    "    else:\n",
    "        X_processed = X_sample\n",
    "        model_to_explain = model\n",
    "        \n",
    "    # Create explainer\n",
    "    print(\"Creating SHAP explainer...\")\n",
    "    explainer = shap.TreeExplainer(model_to_explain)\n",
    "    print(\"Calculating SHAP values...\")\n",
    "    shap_values = explainer.shap_values(X_processed)\n",
    "    \n",
    "    # Plot summary\n",
    "    plt.figure(figsize=(12, 8))\n",
    "    shap.summary_plot(shap_values, X_processed, \n",
    "                     feature_names=feature_names,\n",
    "                     plot_type=\"bar\",\n",
    "                     show=False)\n",
    "    plt.title(\"SHAP Feature Importance\")\n",
    "    plt.tight_layout()\n",
    "    plt.show()\n",
    "    \n",
    "    # Plot detailed SHAP values\n",
    "    plt.figure(figsize=(12, 8))\n",
    "    shap.summary_plot(shap_values, X_processed,\n",
    "                     feature_names=feature_names,\n",
    "                     show=False)\n",
    "    plt.title(\"SHAP Value Distribution\")\n",
    "    plt.tight_layout()\n",
    "    plt.show()\n",
    "    \n",
    "    return {\n",
    "        'explainer': explainer,\n",
    "        'shap_values': shap_values,\n",
    "        'X_processed': X_processed\n",
    "    }\n",
    "\n",
    "def analyze_feature_interactions(shap_results, feature_names, top_n=5):\n",
    "    \"\"\"\n",
    "    Analyze and visualize feature interactions using SHAP values\n",
    "    \"\"\"\n",
    "    shap_interaction_values = shap_results['explainer'].shap_interaction_values(\n",
    "        shap_results['X_processed']\n",
    "    )\n",
    "    \n",
    "    # Calculate mean absolute interaction values\n",
    "    mean_interactions = np.abs(shap_interaction_values).mean(axis=0)\n",
    "    \n",
    "    # Create interaction matrix\n",
    "    interaction_matrix = pd.DataFrame(\n",
    "        mean_interactions,\n",
    "        columns=feature_names,\n",
    "        index=feature_names\n",
    "    )\n",
    "    \n",
    "    # Plot top interactions\n",
    "    plt.figure(figsize=(12, 8))\n",
    "    sns.heatmap(\n",
    "        interaction_matrix.iloc[:top_n, :top_n],\n",
    "        cmap='RdBu',\n",
    "        center=0,\n",
    "        annot=True,\n",
    "        fmt='.2e'\n",
    "    )\n",
    "    plt.title(f\"Top {top_n} Feature Interactions\")\n",
    "    plt.tight_layout()\n",
    "    plt.show()\n",
    "    \n",
    "    return interaction_matrix\n",
    "\n",
    "def load_and_prepare_data(filepath: str, exclude_cols: list) -> Tuple[pd.DataFrame, pd.DataFrame, pd.Series, pd.Series]:\n",
    "    \"\"\"Load and prepare the dataset\"\"\"\n",
    "    print(\"Loading and preparing data...\")\n",
    "    \n",
    "    data = pd.read_csv(filepath)\n",
    "    y = data['avg_price']\n",
    "    X = data.drop(columns=exclude_cols)\n",
    "    \n",
    "    X_train, X_test, y_train, y_test = train_test_split(\n",
    "        X, y, test_size=0.2, random_state=42\n",
    "    )\n",
    "    \n",
    "    print(f\"Data prepared with {X.shape[1]} features\")\n",
    "    return X_train, X_test, y_train, y_test\n",
    "\n",
    "\n",
    "def analyze_olympic_impact(model, X, feature_names):\n",
    "    \"\"\"\n",
    "    Analyze how Olympic-related features impact prices\n",
    "    \"\"\"\n",
    "    # Get SHAP values\n",
    "    results = perform_shap_analysis(model, X, feature_names)\n",
    "    \n",
    "    # Identify Olympic-related features\n",
    "    olympic_features = [i for i, name in enumerate(feature_names) \n",
    "                       if 'olympic' in name.lower()]\n",
    "    \n",
    "    if olympic_features:\n",
    "        # Plot Olympic feature dependencies\n",
    "        for idx in olympic_features:\n",
    "            plt.figure(figsize=(10, 6))\n",
    "            shap.dependence_plot(\n",
    "                idx,\n",
    "                results['shap_values'],\n",
    "                results['X_processed'],\n",
    "                feature_names=feature_names,\n",
    "                show=False\n",
    "            )\n",
    "            plt.title(f\"SHAP Dependence Plot for {feature_names[idx]}\")\n",
    "            plt.tight_layout()\n",
    "            plt.show()\n",
    "    \n",
    "    return results\n",
    "\n",
    "# Define excluded columns\n",
    "exclude_cols = [\n",
    "    'id', 'host_id',\n",
    "    'last_scraped', 'first_review', 'last_review',\n",
    "    'calendar_last_scraped', 'price_period_start', 'price_period_end',\n",
    "    'name', \"amenities\",\n",
    "    'minimum_minimum_nights', 'maximum_minimum_nights',\n",
    "    'minimum_maximum_nights', 'maximum_maximum_nights',\n",
    "    'number_of_listings', 'price_std',\n",
    "    'latitude', 'longitude',\n",
    "    'avg_price'\n",
    "]\n",
    "\n",
    "# Load your data and model\n",
    "X_train, X_test, y_train, y_test = load_and_prepare_data(\n",
    "    'cleaned_data/machine_learning/ml_final_processed_listings_data.csv',\n",
    "    exclude_cols\n",
    ")\n",
    "\n",
    "# Make sure you have the AdvancedRandomForest class defined\n",
    "advanced_model = AdvancedRandomForest()\n",
    "advanced_model.fit(X_train, y_train)\n",
    "\n",
    "# Get feature names after preprocessing\n",
    "feature_names = get_feature_names(advanced_model.pipeline, X_test)\n",
    "\n",
    "\n",
    "# Before running the analysis, let's check the pipeline structure\n",
    "print(\"Pipeline steps:\", list(advanced_model.pipeline.named_steps.keys()))\n",
    "\n",
    "# Then proceed with the analysis\n",
    "print(\"Performing SHAP analysis...\")\n",
    "shap_results = perform_shap_analysis(\n",
    "    advanced_model.pipeline,\n",
    "    X_test,\n",
    "    feature_names=exclude_cols,\n",
    "    sample_size=1\n",
    ")\n",
    "\n",
    "# Analyze interactions\n",
    "print(\"\\nAnalyzing feature interactions...\")\n",
    "interaction_matrix = analyze_feature_interactions(\n",
    "    shap_results,\n",
    "    feature_names,\n",
    "    top_n=5\n",
    ")\n",
    "\n",
    "# Analyze Olympic impact\n",
    "print(\"\\nAnalyzing Olympic impact...\")\n",
    "olympic_analysis = analyze_olympic_impact(\n",
    "    advanced_model.pipeline,\n",
    "    X_test,\n",
    "    feature_names\n",
    ")"
   ],
   "id": "ac4ff4c55c04265",
   "outputs": [
    {
     "name": "stdout",
     "output_type": "stream",
     "text": [
      "Loading and preparing data...\n"
     ]
    },
    {
     "name": "stderr",
     "output_type": "stream",
     "text": [
      "2024-11-06 23:34:13,434 - INFO - Starting model training with cross-validation...\n",
      "2024-11-06 23:34:13,446 - INFO - Numeric features: 32\n",
      "2024-11-06 23:34:13,451 - INFO - Categorical features: 6\n"
     ]
    },
    {
     "name": "stdout",
     "output_type": "stream",
     "text": [
      "Data prepared with 39 features\n",
      "Fitting 3 folds for each of 8 candidates, totalling 24 fits\n"
     ]
    },
    {
     "name": "stderr",
     "output_type": "stream",
     "text": [
      "2024-11-06 23:35:21,504 - INFO - Model training completed!\n",
      "2024-11-06 23:35:21,505 - INFO - Best parameters: {'rf__max_depth': None, 'rf__max_features': 'sqrt', 'rf__min_samples_leaf': 1, 'rf__min_samples_split': 2, 'rf__n_estimators': 100}\n",
      "2024-11-06 23:35:21,505 - INFO - \n",
      "Top 10 most important features:\n",
      "2024-11-06 23:35:21,507 - INFO -                            feature  importance\n",
      "4                         bedrooms    0.071692\n",
      "2                     accommodates    0.067238\n",
      "3                        bathrooms    0.058377\n",
      "5                             beds    0.050746\n",
      "13                availability_365    0.046669\n",
      "8           minimum_nights_avg_ntm    0.040071\n",
      "29       distance_to_closest_venue    0.037494\n",
      "31         distance_to_city_centre    0.037454\n",
      "30  distance_to_closest_station_km    0.034130\n",
      "12                 availability_90    0.031850\n"
     ]
    },
    {
     "name": "stdout",
     "output_type": "stream",
     "text": [
      "Pipeline steps: ['preprocessor', 'rf']\n",
      "Performing SHAP analysis...\n",
      "Available steps in pipeline: ['preprocessor', 'rf']\n",
      "Using model from step: rf\n",
      "Creating SHAP explainer...\n",
      "Calculating SHAP values...\n"
     ]
    },
    {
     "ename": "IndexError",
     "evalue": "list index out of range",
     "output_type": "error",
     "traceback": [
      "\u001B[1;31m---------------------------------------------------------------------------\u001B[0m",
      "\u001B[1;31mIndexError\u001B[0m                                Traceback (most recent call last)",
      "Cell \u001B[1;32mIn[25], line 222\u001B[0m\n\u001B[0;32m    220\u001B[0m \u001B[38;5;66;03m# Then proceed with the analysis\u001B[39;00m\n\u001B[0;32m    221\u001B[0m \u001B[38;5;28mprint\u001B[39m(\u001B[38;5;124m\"\u001B[39m\u001B[38;5;124mPerforming SHAP analysis...\u001B[39m\u001B[38;5;124m\"\u001B[39m)\n\u001B[1;32m--> 222\u001B[0m shap_results \u001B[38;5;241m=\u001B[39m perform_shap_analysis(\n\u001B[0;32m    223\u001B[0m     advanced_model\u001B[38;5;241m.\u001B[39mpipeline,\n\u001B[0;32m    224\u001B[0m     X_test,\n\u001B[0;32m    225\u001B[0m     feature_names\u001B[38;5;241m=\u001B[39mexclude_cols,\n\u001B[0;32m    226\u001B[0m     sample_size\u001B[38;5;241m=\u001B[39m\u001B[38;5;241m1\u001B[39m\n\u001B[0;32m    227\u001B[0m )\n\u001B[0;32m    229\u001B[0m \u001B[38;5;66;03m# Analyze interactions\u001B[39;00m\n\u001B[0;32m    230\u001B[0m \u001B[38;5;28mprint\u001B[39m(\u001B[38;5;124m\"\u001B[39m\u001B[38;5;130;01m\\n\u001B[39;00m\u001B[38;5;124mAnalyzing feature interactions...\u001B[39m\u001B[38;5;124m\"\u001B[39m)\n",
      "Cell \u001B[1;32mIn[25], line 90\u001B[0m, in \u001B[0;36mperform_shap_analysis\u001B[1;34m(model, X, feature_names, sample_size)\u001B[0m\n\u001B[0;32m     88\u001B[0m \u001B[38;5;66;03m# Plot summary\u001B[39;00m\n\u001B[0;32m     89\u001B[0m plt\u001B[38;5;241m.\u001B[39mfigure(figsize\u001B[38;5;241m=\u001B[39m(\u001B[38;5;241m12\u001B[39m, \u001B[38;5;241m8\u001B[39m))\n\u001B[1;32m---> 90\u001B[0m shap\u001B[38;5;241m.\u001B[39msummary_plot(shap_values, X_processed, \n\u001B[0;32m     91\u001B[0m                  feature_names\u001B[38;5;241m=\u001B[39mfeature_names,\n\u001B[0;32m     92\u001B[0m                  plot_type\u001B[38;5;241m=\u001B[39m\u001B[38;5;124m\"\u001B[39m\u001B[38;5;124mbar\u001B[39m\u001B[38;5;124m\"\u001B[39m,\n\u001B[0;32m     93\u001B[0m                  show\u001B[38;5;241m=\u001B[39m\u001B[38;5;28;01mFalse\u001B[39;00m)\n\u001B[0;32m     94\u001B[0m plt\u001B[38;5;241m.\u001B[39mtitle(\u001B[38;5;124m\"\u001B[39m\u001B[38;5;124mSHAP Feature Importance\u001B[39m\u001B[38;5;124m\"\u001B[39m)\n\u001B[0;32m     95\u001B[0m plt\u001B[38;5;241m.\u001B[39mtight_layout()\n",
      "File \u001B[1;32m~\\miniconda3\\Lib\\site-packages\\shap\\plots\\_beeswarm.py:875\u001B[0m, in \u001B[0;36msummary_legacy\u001B[1;34m(shap_values, features, feature_names, max_display, plot_type, color, axis_color, title, alpha, show, sort, color_bar, plot_size, layered_violin_max_num_bins, class_names, class_inds, color_bar_label, cmap, show_values_in_legend, use_log_scale)\u001B[0m\n\u001B[0;32m    873\u001B[0m     pl\u001B[38;5;241m.\u001B[39mbarh(y_pos, global_shap_values[feature_inds], \u001B[38;5;241m0.7\u001B[39m, align\u001B[38;5;241m=\u001B[39m\u001B[38;5;124m'\u001B[39m\u001B[38;5;124mcenter\u001B[39m\u001B[38;5;124m'\u001B[39m, color\u001B[38;5;241m=\u001B[39mcolor)\n\u001B[0;32m    874\u001B[0m     pl\u001B[38;5;241m.\u001B[39myticks(y_pos, fontsize\u001B[38;5;241m=\u001B[39m\u001B[38;5;241m13\u001B[39m)\n\u001B[1;32m--> 875\u001B[0m     pl\u001B[38;5;241m.\u001B[39mgca()\u001B[38;5;241m.\u001B[39mset_yticklabels([feature_names[i] \u001B[38;5;28;01mfor\u001B[39;00m i \u001B[38;5;129;01min\u001B[39;00m feature_inds])\n\u001B[0;32m    877\u001B[0m \u001B[38;5;28;01melif\u001B[39;00m multi_class \u001B[38;5;129;01mand\u001B[39;00m plot_type \u001B[38;5;241m==\u001B[39m \u001B[38;5;124m\"\u001B[39m\u001B[38;5;124mbar\u001B[39m\u001B[38;5;124m\"\u001B[39m:\n\u001B[0;32m    878\u001B[0m     \u001B[38;5;28;01mif\u001B[39;00m class_names \u001B[38;5;129;01mis\u001B[39;00m \u001B[38;5;28;01mNone\u001B[39;00m:\n",
      "\u001B[1;31mIndexError\u001B[0m: list index out of range"
     ]
    }
   ],
   "execution_count": 25
  },
  {
   "metadata": {},
   "cell_type": "code",
   "outputs": [],
   "execution_count": null,
   "source": "",
   "id": "857ad1fd7ce2c29c"
  }
 ],
 "metadata": {
  "kernelspec": {
   "display_name": "Python 3",
   "language": "python",
   "name": "python3"
  },
  "language_info": {
   "codemirror_mode": {
    "name": "ipython",
    "version": 2
   },
   "file_extension": ".py",
   "mimetype": "text/x-python",
   "name": "python",
   "nbconvert_exporter": "python",
   "pygments_lexer": "ipython2",
   "version": "2.7.6"
  }
 },
 "nbformat": 4,
 "nbformat_minor": 5
}
