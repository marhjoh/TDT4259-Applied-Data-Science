{
 "cells": [
  {
   "cell_type": "code",
   "id": "initial_id",
   "metadata": {
    "collapsed": true,
    "ExecuteTime": {
     "end_time": "2024-10-13T15:45:36.005005Z",
     "start_time": "2024-10-13T15:44:06.343131Z"
    }
   },
   "source": [
    "import pandas as pd\n",
    "import numpy as np\n",
    "from math import radians, sin, cos, sqrt, atan2\n",
    "\n",
    "def calculate_distances(listings_df, venues_df, output_file):\n",
    "    # Function to calculate Haversine distance\n",
    "    def haversine_distance(lat1, lon1, lat2, lon2):\n",
    "        R = 6371  # Earth's radius in kilometers\n",
    "\n",
    "        lat1, lon1, lat2, lon2 = map(radians, [lat1, lon1, lat2, lon2])\n",
    "        dlat = lat2 - lat1\n",
    "        dlon = lon2 - lon1\n",
    "\n",
    "        a = sin(dlat/2)**2 + cos(lat1) * cos(lat2) * sin(dlon/2)**2\n",
    "        c = 2 * atan2(sqrt(a), sqrt(1-a))\n",
    "        distance = R * c\n",
    "\n",
    "        return distance\n",
    "\n",
    "    # Calculate distances and find closest venue for each listing\n",
    "    closest_venues = []\n",
    "    closest_distances = []\n",
    "\n",
    "    for _, listing in listings_df.iterrows():\n",
    "        distances = venues_df.apply(lambda venue: haversine_distance(\n",
    "            listing['latitude'], listing['longitude'],\n",
    "            venue['latitude'], venue['longitude']\n",
    "        ), axis=1)\n",
    "        \n",
    "        closest_index = distances.idxmin()\n",
    "        closest_venue = venues_df.loc[closest_index, 'venue']\n",
    "        closest_distance = distances[closest_index]\n",
    "\n",
    "        closest_venues.append(closest_venue)\n",
    "        closest_distances.append(closest_distance)\n",
    "\n",
    "    # Add closest venue and distance to listings dataframe\n",
    "    listings_df['closest_venue'] = closest_venues\n",
    "    listings_df['distance_to_closest_venue'] = closest_distances\n",
    "\n",
    "    # Save updated listings to CSV\n",
    "    listings_df.to_csv(output_file, index=False)\n",
    "\n",
    "    print(f\"Updated listings saved to {output_file}\")\n",
    "\n",
    "# Load the cleaned and merged dataset\n",
    "listing_df = pd.read_csv('raw_data/merged/merged_listings.csv')\n",
    "venue_df = pd.read_csv('paris_2024_data/venues_with_corrected_neighborhoods_and_capacity.csv')\n",
    "\n",
    "calculate_distances(listing_df, venue_df, 'raw_data/merged/summary_venues.csv')"
   ],
   "outputs": [
    {
     "name": "stdout",
     "output_type": "stream",
     "text": [
      "Updated listings saved to raw_data/merged/summary_venues.csv\n"
     ]
    }
   ],
   "execution_count": 5
  },
  {
   "metadata": {},
   "cell_type": "code",
   "outputs": [],
   "execution_count": null,
   "source": "",
   "id": "78629b3106d0f599"
  }
 ],
 "metadata": {
  "kernelspec": {
   "display_name": "Python 3",
   "language": "python",
   "name": "python3"
  },
  "language_info": {
   "codemirror_mode": {
    "name": "ipython",
    "version": 2
   },
   "file_extension": ".py",
   "mimetype": "text/x-python",
   "name": "python",
   "nbconvert_exporter": "python",
   "pygments_lexer": "ipython2",
   "version": "2.7.6"
  }
 },
 "nbformat": 4,
 "nbformat_minor": 5
}
