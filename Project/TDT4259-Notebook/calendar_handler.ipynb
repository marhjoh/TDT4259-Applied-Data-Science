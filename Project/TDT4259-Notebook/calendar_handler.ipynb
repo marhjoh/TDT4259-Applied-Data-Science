{
 "cells": [
  {
   "metadata": {},
   "cell_type": "markdown",
   "source": [
    "# Handling the calendar files from Inside Airbnb\n",
    "> Very large files"
   ],
   "id": "68db3f40cf8302c0"
  },
  {
   "metadata": {
    "ExecuteTime": {
     "end_time": "2024-10-16T13:26:16.340102Z",
     "start_time": "2024-10-16T12:57:56.347388Z"
    }
   },
   "cell_type": "code",
   "source": [
    "import pandas as pd\n",
    "import glob\n",
    "import os\n",
    "from datetime import datetime\n",
    "\n",
    "def merge_and_filter_csv(input_path, output_file, start_date, end_date):\n",
    "    # Convert date strings to datetime objects\n",
    "    start_date = pd.to_datetime(start_date)\n",
    "    end_date = pd.to_datetime(end_date)\n",
    "\n",
    "    # Get all CSV files in the input directory\n",
    "    all_files = glob.glob(os.path.join(input_path, \"*.csv\"))\n",
    "\n",
    "    # Sort files to ensure consistent ordering\n",
    "    all_files.sort()\n",
    "    print(f\"Found {len(all_files)} CSV files\")\n",
    "    \n",
    "    # Create an empty list to store the chunks\n",
    "    chunks = []\n",
    "    chunk_size = 100000  # Adjust this value based on your available memory\n",
    "\n",
    "    # Process each file\n",
    "    for filename in all_files:\n",
    "        print(f\"Processing {filename}\")\n",
    "        \n",
    "        try:\n",
    "            # Read the CSV file in chunks\n",
    "            for chunk in pd.read_csv(filename, chunksize=chunk_size):\n",
    "                # Convert 'date' column to datetime\n",
    "                chunk['date'] = pd.to_datetime(chunk['date'], errors='coerce')\n",
    "                \n",
    "                # Filter the chunk based on the date range\n",
    "                filtered_chunk = chunk[(chunk['date'] >= start_date) & (chunk['date'] <= end_date)]\n",
    "                \n",
    "                if not filtered_chunk.empty:\n",
    "                    # Append the filtered chunk to the list\n",
    "                    chunks.append(filtered_chunk)\n",
    "                \n",
    "                # Write the chunk to the output file if the total size of chunks in memory exceeds 1GB\n",
    "                if sum(c.memory_usage(deep=True).sum() for c in chunks) > 1e9:\n",
    "                    pd.concat(chunks).to_csv(output_file, mode='a', index=False, header=not os.path.exists(output_file))\n",
    "                    chunks = []  # Clear the chunks list\n",
    "        \n",
    "        except Exception as e:\n",
    "            print(f\"Error processing {filename}: {str(e)}\")\n",
    "            continue\n",
    "\n",
    "    # Write any remaining chunks to the output file\n",
    "    if chunks:\n",
    "        pd.concat(chunks).to_csv(output_file, mode='a', index=False, header=not os.path.exists(output_file))\n",
    "\n",
    "    print(f\"Merged and filtered data saved to {output_file}\")\n",
    "\n",
    "# Example usage\n",
    "input_path = 'raw_data/calendar (BIG)/'\n",
    "output_file = 'raw_data/merged/calendar_filtered_plus_plus.csv'\n",
    "start_date = '2024-01-01'\n",
    "end_date = '2024-09-06'\n",
    "\n",
    "merge_and_filter_csv(input_path, output_file, start_date, end_date)"
   ],
   "id": "95891f5f90471e88",
   "outputs": [
    {
     "name": "stdout",
     "output_type": "stream",
     "text": [
      "Found 4 CSV files\n",
      "Processing raw_data/calendar (BIG)\\10th_june_calendar.csv\n",
      "Processing raw_data/calendar (BIG)\\12th_dec_calendar.csv\n",
      "Processing raw_data/calendar (BIG)\\16th_march_calendar.csv\n",
      "Processing raw_data/calendar (BIG)\\6th_sept_calendar.csv\n",
      "Merged and filtered data saved to raw_data/merged/calendar_filtered_plus_plus.csv\n"
     ]
    }
   ],
   "execution_count": 1
  },
  {
   "metadata": {},
   "cell_type": "code",
   "outputs": [],
   "execution_count": null,
   "source": "",
   "id": "4bd172904de27a5d"
  }
 ],
 "metadata": {
  "kernelspec": {
   "display_name": "Python 3",
   "language": "python",
   "name": "python3"
  },
  "language_info": {
   "codemirror_mode": {
    "name": "ipython",
    "version": 2
   },
   "file_extension": ".py",
   "mimetype": "text/x-python",
   "name": "python",
   "nbconvert_exporter": "python",
   "pygments_lexer": "ipython2",
   "version": "2.7.6"
  }
 },
 "nbformat": 4,
 "nbformat_minor": 5
}
